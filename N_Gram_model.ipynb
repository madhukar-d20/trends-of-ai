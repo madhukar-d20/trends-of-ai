{
  "nbformat": 4,
  "nbformat_minor": 0,
  "metadata": {
    "colab": {
      "provenance": []
    },
    "kernelspec": {
      "name": "python3",
      "display_name": "Python 3"
    },
    "language_info": {
      "name": "python"
    }
  },
  "cells": [
    {
      "cell_type": "code",
      "execution_count": 1,
      "metadata": {
        "colab": {
          "base_uri": "https://localhost:8080/"
        },
        "id": "j7rctZW1aN2C",
        "outputId": "489de4bb-61ea-4e37-f842-d175edc0c982"
      },
      "outputs": [
        {
          "output_type": "stream",
          "name": "stdout",
          "text": [
            "Requirement already satisfied: kagglehub in /usr/local/lib/python3.10/dist-packages (0.3.4)\n",
            "Requirement already satisfied: packaging in /usr/local/lib/python3.10/dist-packages (from kagglehub) (24.2)\n",
            "Requirement already satisfied: requests in /usr/local/lib/python3.10/dist-packages (from kagglehub) (2.32.3)\n",
            "Requirement already satisfied: tqdm in /usr/local/lib/python3.10/dist-packages (from kagglehub) (4.66.6)\n",
            "Requirement already satisfied: charset-normalizer<4,>=2 in /usr/local/lib/python3.10/dist-packages (from requests->kagglehub) (3.4.0)\n",
            "Requirement already satisfied: idna<4,>=2.5 in /usr/local/lib/python3.10/dist-packages (from requests->kagglehub) (3.10)\n",
            "Requirement already satisfied: urllib3<3,>=1.21.1 in /usr/local/lib/python3.10/dist-packages (from requests->kagglehub) (2.2.3)\n",
            "Requirement already satisfied: certifi>=2017.4.17 in /usr/local/lib/python3.10/dist-packages (from requests->kagglehub) (2024.8.30)\n"
          ]
        }
      ],
      "source": [
        "!pip install kagglehub"
      ]
    },
    {
      "cell_type": "code",
      "source": [
        "import kagglehub\n",
        "import os\n",
        "import pandas as pd\n",
        "\n",
        "\n",
        "path = kagglehub.dataset_download(\"zynicide/wine-reviews\")\n",
        "files = [file for file in os.listdir(path) if os.path.isfile(os.path.join(path, file))]\n",
        "print(files)\n",
        "\n",
        "data = pd.read_csv(f\"{path}/winemag-data-130k-v2.csv\")\n",
        "\n",
        "data.fillna(\"\", inplace=True)\n",
        "print(\"Number of rows:\", data.shape[0])\n",
        "\n",
        "data[\"processed_text\"] = (\n",
        "    \"wine review: \" + data[\"country\"] + \" : \" + data[\"province\"] + \" : \" + data[\"variety\"] + \" : \" + data[\"description\"]\n",
        ")\n",
        "\n",
        "print(data[\"processed_text\"].head())"
      ],
      "metadata": {
        "colab": {
          "base_uri": "https://localhost:8080/"
        },
        "id": "IuWT1OFtaRrz",
        "outputId": "1c4c2f5c-d362-4625-f669-5c7dae51c5ab"
      },
      "execution_count": 37,
      "outputs": [
        {
          "output_type": "stream",
          "name": "stdout",
          "text": [
            "['winemag-data-130k-v2.csv', 'winemag-data-130k-v2.json', 'winemag-data_first150k.csv']\n"
          ]
        },
        {
          "output_type": "stream",
          "name": "stderr",
          "text": [
            "<ipython-input-37-36008c0ae415>:12: FutureWarning: Setting an item of incompatible dtype is deprecated and will raise an error in a future version of pandas. Value '' has dtype incompatible with float64, please explicitly cast to a compatible dtype first.\n",
            "  data.fillna(\"\", inplace=True)\n"
          ]
        },
        {
          "output_type": "stream",
          "name": "stdout",
          "text": [
            "Number of rows: 129971\n",
            "0    wine review: Italy : Sicily & Sardinia : White...\n",
            "1    wine review: Portugal : Douro : Portuguese Red...\n",
            "2    wine review: US : Oregon : Pinot Gris : Tart a...\n",
            "3    wine review: US : Michigan : Riesling : Pineap...\n",
            "4    wine review: US : Oregon : Pinot Noir : Much l...\n",
            "Name: processed_text, dtype: object\n"
          ]
        }
      ]
    },
    {
      "cell_type": "code",
      "source": [
        "%%time\n",
        "\n",
        "from collections import Counter\n",
        "\n",
        "def generate_ngrams(text, n):\n",
        "    words = text.split()\n",
        "    ngrams = zip(*[words[i:] for i in range(n)])\n",
        "    return [\" \".join(ngram) for ngram in ngrams]\n",
        "\n",
        "n = 3  #Trigrams\n",
        "all_ngrams = []\n",
        "for text in data[\"processed_text\"]:\n",
        "    all_ngrams.extend(generate_ngrams(text, n))\n",
        "\n",
        "# Count the frequency of each n-gram\n",
        "ngram_counts = Counter(all_ngrams)\n",
        "\n",
        "# Display the most common n-grams\n",
        "print(f\"Top 10 most common {n}-grams:\")\n",
        "print(ngram_counts.most_common(10))"
      ],
      "metadata": {
        "colab": {
          "base_uri": "https://localhost:8080/"
        },
        "id": "O_TW2B4EaR6I",
        "outputId": "19148e22-e4f8-4d6a-fd8b-52bebe9e8834"
      },
      "execution_count": 39,
      "outputs": [
        {
          "output_type": "stream",
          "name": "stdout",
          "text": [
            "Top 10 most common 3-grams:\n",
            "[('wine review: US', 54504), ('review: US :', 54504), ('US : California', 36247), (': California :', 36247), ('wine review: France', 22093), ('review: France :', 22093), ('wine review: Italy', 19540), ('review: Italy :', 19540), ('Red Blend :', 17394), (': Pinot Noir', 13294)]\n",
            "CPU times: user 5.37 s, sys: 143 ms, total: 5.51 s\n",
            "Wall time: 5.49 s\n"
          ]
        }
      ]
    },
    {
      "cell_type": "code",
      "source": [
        "import random\n",
        "\n",
        "def predict_next_word(context, ngram_counts):\n",
        "    context = context.strip().split()\n",
        "    if len(context) < n - 1:\n",
        "        raise ValueError(f\"Context must have at least {n - 1} words for an {n}-gram model.\")\n",
        "\n",
        "    # Get the last n-1 words of the context\n",
        "    context_key = \" \".join(context[-(n - 1):])\n",
        "\n",
        "    # Find all n-grams that start with the context\n",
        "    candidates = {ngram: count for ngram, count in ngram_counts.items() if ngram.startswith(context_key)}\n",
        "\n",
        "    if not candidates:\n",
        "        return None  # No prediction possible\n",
        "\n",
        "    total_count = sum(candidates.values())\n",
        "    probabilities = {ngram: count / total_count for ngram, count in candidates.items()}\n",
        "\n",
        "    # Adding repoducibility\n",
        "    random.seed(13)\n",
        "    next_word = random.choices(\n",
        "        population=[ngram.split()[-1] for ngram in candidates.keys()],\n",
        "        weights=probabilities.values()\n",
        "    )[0]\n",
        "\n",
        "    return next_word"
      ],
      "metadata": {
        "id": "j5NGaBuIaSBm"
      },
      "execution_count": 46,
      "outputs": []
    },
    {
      "cell_type": "code",
      "source": [
        "def generate_text(context, ngram_counts, n, num_words):\n",
        "    generated_text = context\n",
        "    for _ in range(num_words):\n",
        "        next_word = predict_next_word(generated_text, ngram_counts)\n",
        "        if not next_word:\n",
        "            break  # Stop if no prediction is possible\n",
        "        generated_text += \" \" + next_word\n",
        "    return generated_text"
      ],
      "metadata": {
        "id": "vyt1gCmTdyr8"
      },
      "execution_count": 41,
      "outputs": []
    },
    {
      "cell_type": "code",
      "source": [
        "%%time\n",
        "\n",
        "context = \"wine review: Italy : Tuscany\"\n",
        "print(context)\n",
        "# Number of words to predict\n",
        "num_words = 50\n",
        "print(generate_text(context, ngram_counts, n, num_words))\n"
      ],
      "metadata": {
        "colab": {
          "base_uri": "https://localhost:8080/"
        },
        "id": "pN6GYEo2cDYp",
        "outputId": "621d1c2c-5d7f-427c-bede-d104837024fe"
      },
      "execution_count": 47,
      "outputs": [
        {
          "output_type": "stream",
          "name": "stdout",
          "text": [
            "wine review: Italy : Tuscany\n",
            "wine review: Italy : Tuscany : Sangiovese : Aromas of cherry, wild strawberry, truffle, white pepper and spice flavors. The finish is clean and the wine is structured and elegant, this opens with aromas of wild berry, cassis, herbal plum and raspberry flavors. It is ripe and full of fruit concentration and depth of flavor.\n",
            "CPU times: user 23.1 s, sys: 54.7 ms, total: 23.1 s\n",
            "Wall time: 23.7 s\n"
          ]
        }
      ]
    },
    {
      "cell_type": "code",
      "source": [
        "%%time\n",
        "\n",
        "context = \"wine review: Italy : Tuscany : Sangiovese : Aromas of cherry, wild strawberry, truffle, white pepper and spice flavors. The finish is clean and the wine is structured and elegant, this opens with aromas of wild berry, cassis, herbal plum and raspberry flavors.\"\n",
        "print(context)\n",
        "# Number of words to predict\n",
        "num_words = 15\n",
        "print(generate_text(context, ngram_counts, n, num_words))\n"
      ],
      "metadata": {
        "colab": {
          "base_uri": "https://localhost:8080/"
        },
        "id": "wWlDJMFhcor9",
        "outputId": "1461967f-4cfe-4e6b-ce3d-8191ffe02342"
      },
      "execution_count": 31,
      "outputs": [
        {
          "output_type": "stream",
          "name": "stdout",
          "text": [
            "wine review: Italy : Tuscany : Sangiovese : Aromas of cherry, wild strawberry, truffle, white pepper and spice flavors. The finish is clean and the wine is structured and elegant, this opens with aromas of wild berry, cassis, herbal plum and raspberry flavors.\n",
            "wine review: Italy : Tuscany : Sangiovese : Aromas of cherry, wild strawberry, truffle, white pepper and spice flavors. The finish is clean and the wine is structured and elegant, this opens with aromas of wild berry, cassis, herbal plum and raspberry flavors. There's even room for a five Bordeaux-style\n",
            "CPU times: user 2.8 s, sys: 13.7 ms, total: 2.82 s\n",
            "Wall time: 2.81 s\n"
          ]
        }
      ]
    },
    {
      "cell_type": "code",
      "source": [],
      "metadata": {
        "id": "8vmq8vIkf8jS"
      },
      "execution_count": null,
      "outputs": []
    }
  ]
}