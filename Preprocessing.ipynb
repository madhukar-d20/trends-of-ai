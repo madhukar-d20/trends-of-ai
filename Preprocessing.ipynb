{
  "cells": [
    {
      "cell_type": "markdown",
      "source": [
        "## First dataset and tokenization attempt"
      ],
      "metadata": {
        "id": "pv7w6kdopuoU"
      }
    },
    {
      "cell_type": "code",
      "execution_count": null,
      "metadata": {
        "colab": {
          "base_uri": "https://localhost:8080/"
        },
        "id": "XI55CM3toWhj",
        "outputId": "6b109d78-80d7-4460-d86d-9fe3d5bb45be"
      },
      "outputs": [
        {
          "name": "stdout",
          "output_type": "stream",
          "text": [
            "Number of lines :79731\n"
          ]
        }
      ],
      "source": [
        "with open(\"Harry_Potter_all_char_separated.txt\", \"r\") as file:\n",
        "    lines = []\n",
        "    for line in file:\n",
        "        lines = line.split(\"|\")\n",
        "    print(f\"Number of lines :{len(lines)}\")\n"
      ]
    },
    {
      "cell_type": "code",
      "execution_count": null,
      "metadata": {
        "colab": {
          "base_uri": "https://localhost:8080/"
        },
        "id": "fbzXPIdisxgC",
        "outputId": "a41ad002-18ff-45f6-8cfe-c6c27e36ce0a"
      },
      "outputs": [
        {
          "output_type": "stream",
          "name": "stdout",
          "text": [
            "Number of characters :6435489\n"
          ]
        }
      ],
      "source": [
        "with open(\"Harry_Potter_all_char_separated.txt\", \"r\") as file:\n",
        "    chars = []\n",
        "    for line in file:\n",
        "        for char in line:\n",
        "            if char != \"|\":\n",
        "                chars.append(char)\n",
        "\n",
        "    print(f\"Number of characters :{len(chars)}\")\n",
        "\n"
      ]
    },
    {
      "cell_type": "code",
      "source": [
        "from collections import Counter\n",
        "\n",
        "counter = Counter(chars)\n",
        "print(counter)\n",
        "\n",
        "keys = counter.keys()\n",
        "tokens = sorted(list(keys)) #character level tokenization\n",
        "print(f\"Nuber of tokens :{len(tokens)}\\n\")\n",
        "\n",
        "for t in tokens:\n",
        "    print(t, end=\"\")"
      ],
      "metadata": {
        "colab": {
          "base_uri": "https://localhost:8080/"
        },
        "id": "cqkR5Kl5uqG9",
        "outputId": "e4814e8a-97a6-471a-bfab-6c60e48efd93"
      },
      "execution_count": null,
      "outputs": [
        {
          "output_type": "stream",
          "name": "stdout",
          "text": [
            "Counter({' ': 1338782, 'e': 570968, 't': 392008, 'a': 375735, 'o': 366717, 'n': 309034, 'r': 303917, 'i': 296392, 'h': 280449, 's': 278706, 'd': 231033, 'l': 198557, 'u': 138432, 'g': 117841, 'y': 112596, 'w': 107532, 'm': 103770, 'c': 96127, 'f': 90860, ',': 86100, 'p': 73341, 'b': 69118, '.': 62382, 'k': 53744, 'v': 39172, 'H': 38396, '“': 37038, '”': 36415, '’': 34770, 'I': 19208, 'T': 13178, 'S': 11660, 'M': 11096, '?': 10877, 'W': 10263, 'D': 10031, 'R': 9413, 'A': 9244, 'P': 7549, '!': 6943, 'x': 6365, 'B': 6176, 'G': 6098, 'C': 5357, 'N': 4946, 'j': 4860, 'L': 4855, 'Y': 4788, 'F': 4704, 'z': 4468, 'O': 4453, 'E': 4194, 'q': 3495, 'V': 2394, 'U': 2069, 'K': 1824, ':': 1630, 'Q': 822, 'J': 804, '‘': 468, ')': 379, '(': 327, '1': 178, 'Z': 127, 'X': 127, '2': 37, '3': 29, '4': 23, '7': 21, '9': 20, '0': 17, '5': 15, '6': 13, '8': 11, '&': 1})\n",
            "Nuber of tokens :75\n",
            "\n",
            " !&(),.0123456789:?ABCDEFGHIJKLMNOPQRSTUVWXYZabcdefghijklmnopqrstuvwxyz‘’“”"
          ]
        }
      ]
    },
    {
      "cell_type": "markdown",
      "source": [
        "## New Dataset of Wine Reviews and tokenization method"
      ],
      "metadata": {
        "id": "8faKi0zFoQ38"
      }
    },
    {
      "cell_type": "code",
      "source": [
        "!pip install kagglehub"
      ],
      "metadata": {
        "colab": {
          "base_uri": "https://localhost:8080/"
        },
        "id": "riaUUzPDoP10",
        "outputId": "970afe72-c40f-41bf-bea8-8cd5d6afec52"
      },
      "execution_count": 1,
      "outputs": [
        {
          "output_type": "stream",
          "name": "stdout",
          "text": [
            "Requirement already satisfied: kagglehub in /usr/local/lib/python3.10/dist-packages (0.3.4)\n",
            "Requirement already satisfied: packaging in /usr/local/lib/python3.10/dist-packages (from kagglehub) (24.2)\n",
            "Requirement already satisfied: requests in /usr/local/lib/python3.10/dist-packages (from kagglehub) (2.32.3)\n",
            "Requirement already satisfied: tqdm in /usr/local/lib/python3.10/dist-packages (from kagglehub) (4.66.6)\n",
            "Requirement already satisfied: charset-normalizer<4,>=2 in /usr/local/lib/python3.10/dist-packages (from requests->kagglehub) (3.4.0)\n",
            "Requirement already satisfied: idna<4,>=2.5 in /usr/local/lib/python3.10/dist-packages (from requests->kagglehub) (3.10)\n",
            "Requirement already satisfied: urllib3<3,>=1.21.1 in /usr/local/lib/python3.10/dist-packages (from requests->kagglehub) (2.2.3)\n",
            "Requirement already satisfied: certifi>=2017.4.17 in /usr/local/lib/python3.10/dist-packages (from requests->kagglehub) (2024.8.30)\n"
          ]
        }
      ]
    },
    {
      "cell_type": "code",
      "source": [
        "import kagglehub\n",
        "\n",
        "# Download latest version\n",
        "path = kagglehub.dataset_download(\"zynicide/wine-reviews\")\n",
        "\n",
        "print(\"Path to dataset files:\", path)"
      ],
      "metadata": {
        "colab": {
          "base_uri": "https://localhost:8080/"
        },
        "id": "zT_rEhQ2oP9f",
        "outputId": "025f751a-a19a-42fb-db6c-571d4c4def27"
      },
      "execution_count": 2,
      "outputs": [
        {
          "output_type": "stream",
          "name": "stdout",
          "text": [
            "Downloading from https://www.kaggle.com/api/v1/datasets/download/zynicide/wine-reviews?dataset_version_number=4...\n"
          ]
        },
        {
          "output_type": "stream",
          "name": "stderr",
          "text": [
            "100%|██████████| 50.9M/50.9M [00:01<00:00, 39.7MB/s]"
          ]
        },
        {
          "output_type": "stream",
          "name": "stdout",
          "text": [
            "Extracting files...\n"
          ]
        },
        {
          "output_type": "stream",
          "name": "stderr",
          "text": [
            "\n"
          ]
        },
        {
          "output_type": "stream",
          "name": "stdout",
          "text": [
            "Path to dataset files: /root/.cache/kagglehub/datasets/zynicide/wine-reviews/versions/4\n"
          ]
        }
      ]
    },
    {
      "cell_type": "code",
      "source": [
        "import os\n",
        "files = [file for file in os.listdir(path) if os.path.isfile(os.path.join(path, file))]\n",
        "print(files)"
      ],
      "metadata": {
        "colab": {
          "base_uri": "https://localhost:8080/"
        },
        "id": "e7vBBWTFqkYe",
        "outputId": "48fccff9-8367-40a2-972a-5ec43d0108e2"
      },
      "execution_count": 3,
      "outputs": [
        {
          "output_type": "stream",
          "name": "stdout",
          "text": [
            "['winemag-data-130k-v2.csv', 'winemag-data-130k-v2.json', 'winemag-data_first150k.csv']\n"
          ]
        }
      ]
    },
    {
      "cell_type": "code",
      "source": [
        "import pandas as pd\n",
        "\n",
        "data = pd.read_csv(f\"{path}/winemag-data-130k-v2.csv\")\n",
        "\n",
        "# all categories\n",
        "#print(data.columns.tolist())\n",
        "\n",
        "print(\"Number of rows:\", data.shape[0])\n",
        "print(\"Missing values:\\n\", data.isnull().sum())\n"
      ],
      "metadata": {
        "colab": {
          "base_uri": "https://localhost:8080/"
        },
        "id": "HLFBnXBrrc7B",
        "outputId": "7c38e5fa-91c7-44c0-9145-24de2f442da9"
      },
      "execution_count": 4,
      "outputs": [
        {
          "output_type": "stream",
          "name": "stdout",
          "text": [
            "Number of rows: 129971\n",
            "Missing values:\n",
            " Unnamed: 0                   0\n",
            "country                     63\n",
            "description                  0\n",
            "designation              37465\n",
            "points                       0\n",
            "price                     8996\n",
            "province                    63\n",
            "region_1                 21247\n",
            "region_2                 79460\n",
            "taster_name              26244\n",
            "taster_twitter_handle    31213\n",
            "title                        0\n",
            "variety                      1\n",
            "winery                       0\n",
            "dtype: int64\n"
          ]
        }
      ]
    },
    {
      "cell_type": "code",
      "source": [
        "#remove row with missing values\n",
        "cleaned_data = data.dropna()\n",
        "print(\"Number of rows after cleaning:\", cleaned_data.shape[0])\n",
        "\n",
        "\n",
        "#too less rows after dropping the rows with no data, so decided to fill the missing values insted"
      ],
      "metadata": {
        "colab": {
          "base_uri": "https://localhost:8080/"
        },
        "id": "dcIipPR2tenL",
        "outputId": "fad5ee17-21d4-49c2-bc4f-da2e8d52e23b"
      },
      "execution_count": null,
      "outputs": [
        {
          "output_type": "stream",
          "name": "stdout",
          "text": [
            "Number of rows after cleaning: 22387\n"
          ]
        }
      ]
    },
    {
      "cell_type": "code",
      "source": [
        "#Filling missing data\n",
        "data.fillna(\"\", inplace=True)\n",
        "print(\"Number of rows:\", data.shape[0])\n",
        "\n",
        "missing_values = data.isnull().sum()\n",
        "print(missing_values)"
      ],
      "metadata": {
        "colab": {
          "base_uri": "https://localhost:8080/"
        },
        "id": "DO-NRo8yw_fK",
        "outputId": "8efc77d4-805c-4464-9687-44d8eeb136fc"
      },
      "execution_count": 5,
      "outputs": [
        {
          "output_type": "stream",
          "name": "stderr",
          "text": [
            "<ipython-input-5-f33e01b52957>:2: FutureWarning: Setting an item of incompatible dtype is deprecated and will raise an error in a future version of pandas. Value '' has dtype incompatible with float64, please explicitly cast to a compatible dtype first.\n",
            "  data.fillna(\"\", inplace=True)\n"
          ]
        },
        {
          "output_type": "stream",
          "name": "stdout",
          "text": [
            "Number of rows: 129971\n",
            "Unnamed: 0               0\n",
            "country                  0\n",
            "description              0\n",
            "designation              0\n",
            "points                   0\n",
            "price                    0\n",
            "province                 0\n",
            "region_1                 0\n",
            "region_2                 0\n",
            "taster_name              0\n",
            "taster_twitter_handle    0\n",
            "title                    0\n",
            "variety                  0\n",
            "winery                   0\n",
            "dtype: int64\n"
          ]
        }
      ]
    },
    {
      "cell_type": "code",
      "source": [
        "data[\"processed_text\"] = (\n",
        "    \"wine review: \" + data[\"country\"] + \" : \" + data[\"province\"] + \" : \" + data[\"variety\"] + \" : \" + data[\"description\"]\n",
        ")\n",
        "\n",
        "\n",
        "print(data[\"processed_text\"].head())"
      ],
      "metadata": {
        "colab": {
          "base_uri": "https://localhost:8080/"
        },
        "id": "Khl5JWK-xfsq",
        "outputId": "1672b344-7ca0-4176-face-69fe098a282d"
      },
      "execution_count": 6,
      "outputs": [
        {
          "output_type": "stream",
          "name": "stdout",
          "text": [
            "0    wine review: Italy : Sicily & Sardinia : White...\n",
            "1    wine review: Portugal : Douro : Portuguese Red...\n",
            "2    wine review: US : Oregon : Pinot Gris : Tart a...\n",
            "3    wine review: US : Michigan : Riesling : Pineap...\n",
            "4    wine review: US : Oregon : Pinot Noir : Much l...\n",
            "Name: processed_text, dtype: object\n"
          ]
        }
      ]
    },
    {
      "cell_type": "code",
      "source": [
        "!pip install transformers\n"
      ],
      "metadata": {
        "colab": {
          "base_uri": "https://localhost:8080/"
        },
        "id": "9wdjCWcO0p3a",
        "outputId": "467f0440-ed97-411b-db12-3687391fe155"
      },
      "execution_count": 7,
      "outputs": [
        {
          "output_type": "stream",
          "name": "stdout",
          "text": [
            "Requirement already satisfied: transformers in /usr/local/lib/python3.10/dist-packages (4.46.3)\n",
            "Requirement already satisfied: filelock in /usr/local/lib/python3.10/dist-packages (from transformers) (3.16.1)\n",
            "Requirement already satisfied: huggingface-hub<1.0,>=0.23.2 in /usr/local/lib/python3.10/dist-packages (from transformers) (0.26.5)\n",
            "Requirement already satisfied: numpy>=1.17 in /usr/local/lib/python3.10/dist-packages (from transformers) (1.26.4)\n",
            "Requirement already satisfied: packaging>=20.0 in /usr/local/lib/python3.10/dist-packages (from transformers) (24.2)\n",
            "Requirement already satisfied: pyyaml>=5.1 in /usr/local/lib/python3.10/dist-packages (from transformers) (6.0.2)\n",
            "Requirement already satisfied: regex!=2019.12.17 in /usr/local/lib/python3.10/dist-packages (from transformers) (2024.9.11)\n",
            "Requirement already satisfied: requests in /usr/local/lib/python3.10/dist-packages (from transformers) (2.32.3)\n",
            "Requirement already satisfied: tokenizers<0.21,>=0.20 in /usr/local/lib/python3.10/dist-packages (from transformers) (0.20.3)\n",
            "Requirement already satisfied: safetensors>=0.4.1 in /usr/local/lib/python3.10/dist-packages (from transformers) (0.4.5)\n",
            "Requirement already satisfied: tqdm>=4.27 in /usr/local/lib/python3.10/dist-packages (from transformers) (4.66.6)\n",
            "Requirement already satisfied: fsspec>=2023.5.0 in /usr/local/lib/python3.10/dist-packages (from huggingface-hub<1.0,>=0.23.2->transformers) (2024.10.0)\n",
            "Requirement already satisfied: typing-extensions>=3.7.4.3 in /usr/local/lib/python3.10/dist-packages (from huggingface-hub<1.0,>=0.23.2->transformers) (4.12.2)\n",
            "Requirement already satisfied: charset-normalizer<4,>=2 in /usr/local/lib/python3.10/dist-packages (from requests->transformers) (3.4.0)\n",
            "Requirement already satisfied: idna<4,>=2.5 in /usr/local/lib/python3.10/dist-packages (from requests->transformers) (3.10)\n",
            "Requirement already satisfied: urllib3<3,>=1.21.1 in /usr/local/lib/python3.10/dist-packages (from requests->transformers) (2.2.3)\n",
            "Requirement already satisfied: certifi>=2017.4.17 in /usr/local/lib/python3.10/dist-packages (from requests->transformers) (2024.8.30)\n"
          ]
        }
      ]
    },
    {
      "cell_type": "markdown",
      "source": [
        "### Bert - word pair tokenizer\n",
        "\n",
        "⚠️ Not suitable for text generation, even I dont know why I spent time on this"
      ],
      "metadata": {
        "id": "N0RE0-AVAkPp"
      }
    },
    {
      "cell_type": "code",
      "source": [
        "from transformers import AutoTokenizer\n",
        "\n",
        "tokenizer = AutoTokenizer.from_pretrained(\"bert-base-uncased\")\n",
        "\n",
        "# Tokenize the processed text\n",
        "data[\"tokens\"] = data[\"processed_text\"].apply(lambda x: tokenizer(x, padding=True, truncation=True, max_length=512))\n",
        "\n",
        "# Example: View the first tokenized row\n",
        "print(\"First Tokenized Entry:\")\n",
        "print(data[\"tokens\"].iloc[0])"
      ],
      "metadata": {
        "colab": {
          "base_uri": "https://localhost:8080/"
        },
        "id": "4VAw_9NGyCRK",
        "outputId": "23f98b47-8649-4499-f3c0-618fd735a5ca"
      },
      "execution_count": null,
      "outputs": [
        {
          "output_type": "stream",
          "name": "stdout",
          "text": [
            "First Tokenized Entry:\n",
            "{'input_ids': [101, 4511, 3319, 1024, 3304, 1024, 12071, 1004, 21594, 1024, 2317, 12586, 1024, 23958, 2015, 2421, 5133, 5909, 1010, 23528, 1010, 7987, 5714, 9221, 1998, 9550, 12810, 1012, 1996, 14412, 3686, 3475, 1005, 1056, 15241, 22570, 1010, 5378, 4895, 29443, 6675, 6207, 1010, 20418, 1998, 9550, 10878, 4077, 28022, 5648, 3012, 1012, 102], 'token_type_ids': [0, 0, 0, 0, 0, 0, 0, 0, 0, 0, 0, 0, 0, 0, 0, 0, 0, 0, 0, 0, 0, 0, 0, 0, 0, 0, 0, 0, 0, 0, 0, 0, 0, 0, 0, 0, 0, 0, 0, 0, 0, 0, 0, 0, 0, 0, 0, 0, 0, 0, 0, 0, 0], 'attention_mask': [1, 1, 1, 1, 1, 1, 1, 1, 1, 1, 1, 1, 1, 1, 1, 1, 1, 1, 1, 1, 1, 1, 1, 1, 1, 1, 1, 1, 1, 1, 1, 1, 1, 1, 1, 1, 1, 1, 1, 1, 1, 1, 1, 1, 1, 1, 1, 1, 1, 1, 1, 1, 1]}\n"
          ]
        }
      ]
    },
    {
      "cell_type": "code",
      "source": [
        "index = 3\n",
        "processed_text = data[\"processed_text\"].iloc[index]\n",
        "input_ids = data[\"tokens\"].iloc[index][\"input_ids\"]\n",
        "decoded_tokens = [tokenizer.decode([id]) for id in input_ids]\n",
        "decoded_text = tokenizer.decode(data[\"tokens\"].iloc[index][\"input_ids\"])\n",
        "\n",
        "\n",
        "# Print the results\n",
        "print(\"Processed Text:\")\n",
        "print(processed_text)\n",
        "print(\"\\nInput IDs:\")\n",
        "print(input_ids)\n",
        "print(\"\\nDecoded Tokens:\")\n",
        "print(decoded_tokens)\n",
        "print(\"\\nDecoded Text:\")\n",
        "print(decoded_text)"
      ],
      "metadata": {
        "colab": {
          "base_uri": "https://localhost:8080/"
        },
        "id": "KmTnOezOzyNB",
        "outputId": "d27fdd6e-67e6-4891-e65f-c32a004ffd8d"
      },
      "execution_count": null,
      "outputs": [
        {
          "output_type": "stream",
          "name": "stdout",
          "text": [
            "Processed Text:\n",
            "wine review: US : Michigan : Riesling : Pineapple rind, lemon pith and orange blossom start off the aromas. The palate is a bit more opulent, with notes of honey-drizzled guava and mango giving way to a slightly astringent, semidry finish.\n",
            "\n",
            "Input IDs:\n",
            "[101, 4511, 3319, 1024, 2149, 1024, 4174, 1024, 15544, 2229, 2989, 1024, 7222, 23804, 15544, 4859, 1010, 14380, 6770, 2232, 1998, 4589, 20593, 2707, 2125, 1996, 23958, 2015, 1012, 1996, 14412, 3686, 2003, 1037, 2978, 2062, 6728, 27581, 1010, 2007, 3964, 1997, 6861, 1011, 2852, 10993, 29247, 2094, 19739, 12462, 1998, 24792, 3228, 2126, 2000, 1037, 3621, 2004, 18886, 25997, 2102, 1010, 4100, 21190, 3926, 1012, 102]\n",
            "\n",
            "Decoded Tokens:\n",
            "['[CLS]', 'wine', 'review', ':', 'us', ':', 'michigan', ':', 'ri', '##es', '##ling', ':', 'pine', '##apple', 'ri', '##nd', ',', 'lemon', 'pit', '##h', 'and', 'orange', 'blossom', 'start', 'off', 'the', 'aroma', '##s', '.', 'the', 'pal', '##ate', 'is', 'a', 'bit', 'more', 'op', '##ulent', ',', 'with', 'notes', 'of', 'honey', '-', 'dr', '##iz', '##zle', '##d', 'gu', '##ava', 'and', 'mango', 'giving', 'way', 'to', 'a', 'slightly', 'as', '##tri', '##ngen', '##t', ',', 'semi', '##dry', 'finish', '.', '[SEP]']\n",
            "\n",
            "Decoded Text:\n",
            "[CLS] wine review : us : michigan : riesling : pineapple rind, lemon pith and orange blossom start off the aromas. the palate is a bit more opulent, with notes of honey - drizzled guava and mango giving way to a slightly astringent, semidry finish. [SEP]\n"
          ]
        }
      ]
    },
    {
      "cell_type": "code",
      "source": [
        "from collections import Counter\n",
        "\n",
        "# Flatten all input_ids from your dataset\n",
        "all_input_ids = [id for tokens in data[\"tokens\"] for id in tokens[\"input_ids\"]]\n",
        "\n",
        "# Count token occurrences\n",
        "token_counts = Counter(all_input_ids)\n",
        "\n",
        "# Map token IDs back to text\n",
        "id_to_token = {id: tokenizer.decode([id]) for id in token_counts.keys()}\n",
        "\n",
        "# Create a list of tuples (Token Text, Token ID, Count) and sort by frequency\n",
        "sorted_tokens_by_frequency = sorted(\n",
        "    [(id_to_token[token_id], token_id, count) for token_id, count in token_counts.items()],\n",
        "    key=lambda x: x[2],  # Sort by count (frequency)\n",
        "    reverse=True         # Descending order\n",
        ")\n",
        "\n",
        "print(f\"Total Tokens: {total_tokens}\")\n",
        "print(f\"Unique Tokens: {len(sorted_tokens_by_frequency)}\")\n",
        "print(\"\\nTop 20 Most Frequent Tokens:\")\n",
        "for token_text, token_id, count in sorted_tokens_by_frequency[:20]:\n",
        "    print(f\"Token: {token_text}, Token ID: {token_id}, Count: {count}\")\n"
      ],
      "metadata": {
        "colab": {
          "base_uri": "https://localhost:8080/"
        },
        "id": "yrZbh7Ch5Rza",
        "outputId": "a2273878-fb51-456e-aceb-f15dd4e1c94e"
      },
      "execution_count": null,
      "outputs": [
        {
          "output_type": "stream",
          "name": "stdout",
          "text": [
            "Total Tokens: 9236768\n",
            "Unique Tokens: 16620\n",
            "\n",
            "Top 20 Most Frequent Tokens:\n",
            "Token: :, Token ID: 1024, Count: 521322\n",
            "Token: ,, Token ID: 1010, Count: 441931\n",
            "Token: ., Token ID: 1012, Count: 356241\n",
            "Token: and, Token ID: 1998, Count: 348172\n",
            "Token: the, Token ID: 1996, Count: 221530\n",
            "Token: wine, Token ID: 4511, Count: 212149\n",
            "Token: a, Token ID: 1037, Count: 180002\n",
            "Token: of, Token ID: 1997, Count: 173073\n",
            "Token: review, Token ID: 3319, Count: 129981\n",
            "Token: [CLS], Token ID: 101, Count: 129971\n",
            "Token: [SEP], Token ID: 102, Count: 129971\n",
            "Token: with, Token ID: 2007, Count: 120532\n",
            "Token: this, Token ID: 2023, Count: 114197\n",
            "Token: ##s, Token ID: 2015, Count: 97905\n",
            "Token: is, Token ID: 2003, Count: 96866\n",
            "Token: -, Token ID: 1011, Count: 89615\n",
            "Token: it, Token ID: 2009, Count: 86121\n",
            "Token: ##y, Token ID: 2100, Count: 70794\n",
            "Token: in, Token ID: 1999, Count: 63212\n",
            "Token: flavors, Token ID: 26389, Count: 62812\n"
          ]
        }
      ]
    },
    {
      "cell_type": "markdown",
      "source": [
        "### GPT2 - BPE tokenizer"
      ],
      "metadata": {
        "id": "m2z4pShvBw8m"
      }
    },
    {
      "cell_type": "code",
      "source": [
        "%%time\n",
        "\n",
        "from transformers import GPT2Tokenizer\n",
        "\n",
        "tokenizer = GPT2Tokenizer.from_pretrained(\"gpt2\")\n",
        "\n",
        "tokenizer.pad_token = tokenizer.eos_token #to fix error wit padding\n",
        "\n",
        "\n",
        "# tested max_length of this dataset, should be fine as now row is longer than 512 hence there wont be any truncation\n",
        "# learnt padding is important for GPU - but need help here\n",
        "data[\"tokens\"] = data[\"processed_text\"].apply(\n",
        "    lambda x: tokenizer(x, padding=True, truncation=True, max_length=512, return_tensors=\"pt\")\n",
        ")"
      ],
      "metadata": {
        "id": "n5vYSkfi8a4l",
        "colab": {
          "base_uri": "https://localhost:8080/",
          "height": 336,
          "referenced_widgets": [
            "4f6e851c58834a7594bd4acd359a2ca6",
            "6ff4a61bdff843faa12872f317a4cd93",
            "29af5e7e10c346df8ac7e45311353833",
            "4d3da1498f0047b792ab36367a25904f",
            "d9d4f66e65994e02bfc0045c17d1393d",
            "87d26eb099e649ac9ad2c6628eb61b40",
            "704a26b8764948598a56ab485bbb03e8",
            "8082b8399f5f427a8091a13697e58888",
            "60774e8766d94902b60b11763bbc90b1",
            "ba1c540a2f3846cfbf23053b3630ce51",
            "664d413dbdf648509a9f99b5f06fb705",
            "b86fb8dfe15847069ca6258c78bca1f4",
            "861631c5c07d4e81a5ee37a934a7ed33",
            "c42f86dd4a3945938d542806364c4e21",
            "d211335cbca444229440646efd96bfba",
            "5c1af616845c43e989d2ef2676d10d3a",
            "d076bb3ab6b64429b15332ab38560b78",
            "b320e6c2f9dd4f8fba2bc9df6707a5b3",
            "cf39156742f7480d9042edb59fac0fac",
            "f393c0bebe6049bd8b342ead80b30806",
            "dfc50647596d43918a892e259e1b08e9",
            "37f158b1fdad459d843e0a48d9637675",
            "e23a5651905549e2a2804228c2b5f9f4",
            "dee87be7a0d04214b18d321143e9e9cb",
            "e7beb78c4dac44278853ceedc42f7870",
            "046f940d09ea42a59c564b2d09fb3bba",
            "211cf862cb5d4802a10278b563a1c4f4",
            "eabfd174ab8e440599c0113d552b1708",
            "bedaed467238421c963878eb88408744",
            "60b5c949e5064f098d5689ad8e3df945",
            "4956d31072cf41f3bed3a9bdfa84c5c3",
            "ba20c7fdbc4d4d77afb53d7b0ddf0075",
            "9eb543f1d4284a2f86b60f309ab33d3f",
            "9aa076ecac984c0188bb4894e6abdcf2",
            "110f82c422ee4e2c90cbb5a06fb27cbe",
            "3d0d266073dd47558f831a9265af0ce3",
            "2a3a8afd7d694b438e919cf0626745f9",
            "2cd117a5129e41cf92cb12cc1bfda9ae",
            "0a351c71482e49df9cc16a2bd599f82b",
            "e63c8c2f142941cc8f6f97ae70427f19",
            "3a706208abe742f8808e0f4e75925db2",
            "9bdd3310d5ad4b2ca7b0b53f5d5139f6",
            "10ed044890b448ec88c5b7d4b8e8c6dc",
            "2c548591655f4556b31f40ced5aa33f9",
            "c3838e76a67649f992f0e9cfe6649651",
            "35ffad81989e4bfe912dc565b3825392",
            "7b8024bb5e5f4a7da3e3f5307f9335a1",
            "63dc02324bb94884b9b8bfe29160fe46",
            "8c2ac18a0a1540a09d7a6ba09c35510a",
            "51a436fdd2e246a38877e681705390d0",
            "8ec55f3b95344667bfa4429c71f3967e",
            "f427907b8c1841bba6740e4a0ba0e39e",
            "661968010d33410a9a0f479759645d54",
            "ea0acfa32fe94cff9423080a6c0bae6e",
            "203e569c41f94ae39450e3373a7e0f49"
          ]
        },
        "outputId": "b6100db2-1afd-41c4-a45b-bc2d10e9b354"
      },
      "execution_count": 8,
      "outputs": [
        {
          "output_type": "stream",
          "name": "stderr",
          "text": [
            "/usr/local/lib/python3.10/dist-packages/huggingface_hub/utils/_auth.py:94: UserWarning: \n",
            "The secret `HF_TOKEN` does not exist in your Colab secrets.\n",
            "To authenticate with the Hugging Face Hub, create a token in your settings tab (https://huggingface.co/settings/tokens), set it as secret in your Google Colab and restart your session.\n",
            "You will be able to reuse this secret in all of your notebooks.\n",
            "Please note that authentication is recommended but still optional to access public models or datasets.\n",
            "  warnings.warn(\n"
          ]
        },
        {
          "output_type": "display_data",
          "data": {
            "text/plain": [
              "tokenizer_config.json:   0%|          | 0.00/26.0 [00:00<?, ?B/s]"
            ],
            "application/vnd.jupyter.widget-view+json": {
              "version_major": 2,
              "version_minor": 0,
              "model_id": "4f6e851c58834a7594bd4acd359a2ca6"
            }
          },
          "metadata": {}
        },
        {
          "output_type": "display_data",
          "data": {
            "text/plain": [
              "vocab.json:   0%|          | 0.00/1.04M [00:00<?, ?B/s]"
            ],
            "application/vnd.jupyter.widget-view+json": {
              "version_major": 2,
              "version_minor": 0,
              "model_id": "b86fb8dfe15847069ca6258c78bca1f4"
            }
          },
          "metadata": {}
        },
        {
          "output_type": "display_data",
          "data": {
            "text/plain": [
              "merges.txt:   0%|          | 0.00/456k [00:00<?, ?B/s]"
            ],
            "application/vnd.jupyter.widget-view+json": {
              "version_major": 2,
              "version_minor": 0,
              "model_id": "e23a5651905549e2a2804228c2b5f9f4"
            }
          },
          "metadata": {}
        },
        {
          "output_type": "display_data",
          "data": {
            "text/plain": [
              "tokenizer.json:   0%|          | 0.00/1.36M [00:00<?, ?B/s]"
            ],
            "application/vnd.jupyter.widget-view+json": {
              "version_major": 2,
              "version_minor": 0,
              "model_id": "9aa076ecac984c0188bb4894e6abdcf2"
            }
          },
          "metadata": {}
        },
        {
          "output_type": "display_data",
          "data": {
            "text/plain": [
              "config.json:   0%|          | 0.00/665 [00:00<?, ?B/s]"
            ],
            "application/vnd.jupyter.widget-view+json": {
              "version_major": 2,
              "version_minor": 0,
              "model_id": "c3838e76a67649f992f0e9cfe6649651"
            }
          },
          "metadata": {}
        },
        {
          "output_type": "stream",
          "name": "stdout",
          "text": [
            "CPU times: user 1min 28s, sys: 1.55 s, total: 1min 29s\n",
            "Wall time: 1min 49s\n"
          ]
        }
      ]
    },
    {
      "cell_type": "code",
      "source": [
        "index = 0\n",
        "\n",
        "processed_text = data[\"processed_text\"].iloc[index]\n",
        "input_ids = data[\"tokens\"].iloc[index][\"input_ids\"].squeeze().tolist()  # Convert to a flat list\n",
        "decoded_tokens = [tokenizer.decode([id]) for id in input_ids]\n",
        "decoded_text = tokenizer.decode(input_ids)\n",
        "\n",
        "print(\"Processed Text:\")\n",
        "print(processed_text)\n",
        "print(\"\\nInput IDs:\")\n",
        "print(input_ids)\n",
        "print(\"\\nDecoded Tokens:\")\n",
        "print(decoded_tokens)\n",
        "print(\"\\nDecoded Text:\")\n",
        "print(decoded_text)\n"
      ],
      "metadata": {
        "colab": {
          "base_uri": "https://localhost:8080/"
        },
        "id": "zPOIa3POGvBI",
        "outputId": "545b1111-92ec-4e00-9bc1-2a3a30ef8ed2"
      },
      "execution_count": 9,
      "outputs": [
        {
          "output_type": "stream",
          "name": "stdout",
          "text": [
            "Processed Text:\n",
            "wine review: Italy : Sicily & Sardinia : White Blend : Aromas include tropical fruit, broom, brimstone and dried herb. The palate isn't overly expressive, offering unripened apple, citrus and dried sage alongside brisk acidity.\n",
            "\n",
            "Input IDs:\n",
            "[39002, 2423, 25, 8031, 1058, 49301, 1222, 46997, 43168, 1058, 2635, 41198, 1058, 317, 398, 292, 2291, 19690, 8234, 11, 47085, 11, 49943, 6440, 290, 16577, 21047, 13, 383, 44100, 2125, 470, 17698, 38084, 11, 6011, 555, 5528, 2945, 17180, 11, 35405, 290, 16577, 35021, 7848, 35984, 7408, 414, 13]\n",
            "\n",
            "Decoded Tokens:\n",
            "['wine', ' review', ':', ' Italy', ' :', ' Sicily', ' &', ' Sard', 'inia', ' :', ' White', ' Blend', ' :', ' A', 'rom', 'as', ' include', ' tropical', ' fruit', ',', ' broom', ',', ' brim', 'stone', ' and', ' dried', ' herb', '.', ' The', ' palate', ' isn', \"'t\", ' overly', ' expressive', ',', ' offering', ' un', 'rip', 'ened', ' apple', ',', ' citrus', ' and', ' dried', ' sage', ' alongside', ' brisk', ' acid', 'ity', '.']\n",
            "\n",
            "Decoded Text:\n",
            "wine review: Italy : Sicily & Sardinia : White Blend : Aromas include tropical fruit, broom, brimstone and dried herb. The palate isn't overly expressive, offering unripened apple, citrus and dried sage alongside brisk acidity.\n"
          ]
        }
      ]
    },
    {
      "cell_type": "code",
      "source": [
        "#checking if there are rows more than 512 tokens - Result: No rows exceed 512 tokens. (atleast for this dataset)\n",
        "# don't run this\n",
        "rows_with_long_tokens = []\n",
        "\n",
        "for index, row in data.iterrows():\n",
        "    tokenized = tokenizer(row[\"processed_text\"], truncation=False)\n",
        "    if len(tokenized[\"input_ids\"]) > 512:\n",
        "        rows_with_long_tokens.append((index, row[\"processed_text\"], len(tokenized[\"input_ids\"])))\n",
        "\n",
        "# Display rows with more than 512 tokens\n",
        "if rows_with_long_tokens:\n",
        "    long_token_data = pd.DataFrame(rows_with_long_tokens, columns=[\"Index\", \"Processed Text\", \"Token Count\"])\n",
        "else:\n",
        "    print(\"No rows exceed 512 tokens.\")"
      ],
      "metadata": {
        "colab": {
          "base_uri": "https://localhost:8080/"
        },
        "id": "XACPrraACO39",
        "outputId": "502ef064-bea0-4ced-f945-e3f38a155f28"
      },
      "execution_count": null,
      "outputs": [
        {
          "output_type": "stream",
          "name": "stdout",
          "text": [
            "No rows exceed 512 tokens.\n"
          ]
        }
      ]
    },
    {
      "cell_type": "code",
      "source": [
        "from collections import Counter\n",
        "\n",
        "# Flatten all input_ids from the tokenized data\n",
        "all_input_ids = [\n",
        "    token_id\n",
        "    for tokens in data[\"tokens\"]\n",
        "    for token_id in tokens[\"input_ids\"].squeeze().tolist()\n",
        "]\n",
        "\n",
        "# Count token occurrences\n",
        "token_counts = Counter(all_input_ids)\n",
        "\n",
        "# Map token IDs back to text\n",
        "id_to_token = {token_id: tokenizer.decode([token_id]) for token_id in token_counts.keys()}\n",
        "\n",
        "# Create a list of tuples (Token Text, Token ID, Count) and sort by frequency\n",
        "sorted_tokens_by_frequency = sorted(\n",
        "    [(id_to_token[token_id], token_id, count) for token_id, count in token_counts.items()],\n",
        "    key=lambda x: x[2],  # Sort by count (frequency)\n",
        "    reverse=True         # Descending order\n",
        ")\n",
        "\n",
        "# Convert to DataFrame for visualization\n",
        "max_rows = 50\n",
        "top_tokens = pd.DataFrame(sorted_tokens_by_frequency[:max_rows], columns=[\"Token Text\", \"Token ID\", \"Count\"])\n",
        "\n",
        "# Display summary\n",
        "total_tokens = sum(token_counts.values())\n",
        "print(f\"Total Tokens: {total_tokens}\")\n",
        "print(f\"Unique Tokens: {len(sorted_tokens_by_frequency)}\")\n",
        "print(f\"\\nTop {max_rows} Most Frequent Tokens:\")\n",
        "print(top_tokens)\n"
      ],
      "metadata": {
        "colab": {
          "base_uri": "https://localhost:8080/"
        },
        "id": "dMoqapnwDp_w",
        "outputId": "916ab996-f956-454c-b656-14def01b57e5"
      },
      "execution_count": 12,
      "outputs": [
        {
          "output_type": "stream",
          "name": "stdout",
          "text": [
            "Total Tokens: 9044974\n",
            "Unique Tokens: 23051\n",
            "\n",
            "Top 50 Most Frequent Tokens:\n",
            "     Token Text  Token ID   Count\n",
            "0             ,        11  440537\n",
            "1             :      1058  389915\n",
            "2             .        13  355484\n",
            "3           and       290  347182\n",
            "4            of       286  172870\n",
            "5           the       262  168174\n",
            "6             a       257  157732\n",
            "7             :        25  131406\n",
            "8          wine     39002  130064\n",
            "9        review      2423  129979\n",
            "10         with       351  115651\n",
            "11           is       318   96695\n",
            "12            -        12   89417\n",
            "13         wine      8237   80093\n",
            "14         this       428   72883\n",
            "15           to       284   61426\n",
            "16           in       287   60612\n",
            "17      flavors     17361   60316\n",
            "18           US      1294   54506\n",
            "19          The       383   52648\n",
            "20           's       338   51481\n",
            "21        fruit      8234   48682\n",
            "22          ity       414   44576\n",
            "23            t       256   44541\n",
            "24           It       632   43595\n",
            "25           on       319   43095\n",
            "26        black      2042   42748\n",
            "27           it       340   42330\n",
            "28           as       292   41122\n",
            "29         This       770   41122\n",
            "30          ann      1236   40026\n",
            "31         that       326   39400\n",
            "32       palate     44100   38425\n",
            "33   California      3442   37233\n",
            "34         arom     19731   36303\n",
            "35         acid      7408   35574\n",
            "36       finish      5461   34970\n",
            "37          ins      1040   31835\n",
            "38          but       475   31568\n",
            "39            y        88   31257\n",
            "40         from       422   29959\n",
            "41           on       261   29476\n",
            "42           ot       313   27945\n",
            "43       cherry     23612   27563\n",
            "44            A       317   27457\n",
            "45            v        85   26238\n",
            "46          are       389   25834\n",
            "47        Blend     41198   25517\n",
            "48         ripe     29036   25152\n",
            "49        Italy      8031   25073\n"
          ]
        }
      ]
    },
    {
      "cell_type": "code",
      "source": [
        "print(data[\"tokens\"].iloc[0])"
      ],
      "metadata": {
        "id": "sznJRz3eI8et",
        "colab": {
          "base_uri": "https://localhost:8080/"
        },
        "outputId": "366f0e18-168e-47d9-c17a-94f43360b2b5"
      },
      "execution_count": 13,
      "outputs": [
        {
          "output_type": "stream",
          "name": "stdout",
          "text": [
            "{'input_ids': tensor([[39002,  2423,    25,  8031,  1058, 49301,  1222, 46997, 43168,  1058,\n",
            "          2635, 41198,  1058,   317,   398,   292,  2291, 19690,  8234,    11,\n",
            "         47085,    11, 49943,  6440,   290, 16577, 21047,    13,   383, 44100,\n",
            "          2125,   470, 17698, 38084,    11,  6011,   555,  5528,  2945, 17180,\n",
            "            11, 35405,   290, 16577, 35021,  7848, 35984,  7408,   414,    13]]), 'attention_mask': tensor([[1, 1, 1, 1, 1, 1, 1, 1, 1, 1, 1, 1, 1, 1, 1, 1, 1, 1, 1, 1, 1, 1, 1, 1,\n",
            "         1, 1, 1, 1, 1, 1, 1, 1, 1, 1, 1, 1, 1, 1, 1, 1, 1, 1, 1, 1, 1, 1, 1, 1,\n",
            "         1, 1]])}\n"
          ]
        }
      ]
    }
  ],
  "metadata": {
    "colab": {
      "provenance": [],
      "collapsed_sections": [
        "N0RE0-AVAkPp"
      ]
    },
    "kernelspec": {
      "display_name": "Python 3",
      "name": "python3"
    },
    "language_info": {
      "name": "python"
    },
    "widgets": {
      "application/vnd.jupyter.widget-state+json": {
        "4f6e851c58834a7594bd4acd359a2ca6": {
          "model_module": "@jupyter-widgets/controls",
          "model_name": "HBoxModel",
          "model_module_version": "1.5.0",
          "state": {
            "_dom_classes": [],
            "_model_module": "@jupyter-widgets/controls",
            "_model_module_version": "1.5.0",
            "_model_name": "HBoxModel",
            "_view_count": null,
            "_view_module": "@jupyter-widgets/controls",
            "_view_module_version": "1.5.0",
            "_view_name": "HBoxView",
            "box_style": "",
            "children": [
              "IPY_MODEL_6ff4a61bdff843faa12872f317a4cd93",
              "IPY_MODEL_29af5e7e10c346df8ac7e45311353833",
              "IPY_MODEL_4d3da1498f0047b792ab36367a25904f"
            ],
            "layout": "IPY_MODEL_d9d4f66e65994e02bfc0045c17d1393d"
          }
        },
        "6ff4a61bdff843faa12872f317a4cd93": {
          "model_module": "@jupyter-widgets/controls",
          "model_name": "HTMLModel",
          "model_module_version": "1.5.0",
          "state": {
            "_dom_classes": [],
            "_model_module": "@jupyter-widgets/controls",
            "_model_module_version": "1.5.0",
            "_model_name": "HTMLModel",
            "_view_count": null,
            "_view_module": "@jupyter-widgets/controls",
            "_view_module_version": "1.5.0",
            "_view_name": "HTMLView",
            "description": "",
            "description_tooltip": null,
            "layout": "IPY_MODEL_87d26eb099e649ac9ad2c6628eb61b40",
            "placeholder": "​",
            "style": "IPY_MODEL_704a26b8764948598a56ab485bbb03e8",
            "value": "tokenizer_config.json: 100%"
          }
        },
        "29af5e7e10c346df8ac7e45311353833": {
          "model_module": "@jupyter-widgets/controls",
          "model_name": "FloatProgressModel",
          "model_module_version": "1.5.0",
          "state": {
            "_dom_classes": [],
            "_model_module": "@jupyter-widgets/controls",
            "_model_module_version": "1.5.0",
            "_model_name": "FloatProgressModel",
            "_view_count": null,
            "_view_module": "@jupyter-widgets/controls",
            "_view_module_version": "1.5.0",
            "_view_name": "ProgressView",
            "bar_style": "success",
            "description": "",
            "description_tooltip": null,
            "layout": "IPY_MODEL_8082b8399f5f427a8091a13697e58888",
            "max": 26,
            "min": 0,
            "orientation": "horizontal",
            "style": "IPY_MODEL_60774e8766d94902b60b11763bbc90b1",
            "value": 26
          }
        },
        "4d3da1498f0047b792ab36367a25904f": {
          "model_module": "@jupyter-widgets/controls",
          "model_name": "HTMLModel",
          "model_module_version": "1.5.0",
          "state": {
            "_dom_classes": [],
            "_model_module": "@jupyter-widgets/controls",
            "_model_module_version": "1.5.0",
            "_model_name": "HTMLModel",
            "_view_count": null,
            "_view_module": "@jupyter-widgets/controls",
            "_view_module_version": "1.5.0",
            "_view_name": "HTMLView",
            "description": "",
            "description_tooltip": null,
            "layout": "IPY_MODEL_ba1c540a2f3846cfbf23053b3630ce51",
            "placeholder": "​",
            "style": "IPY_MODEL_664d413dbdf648509a9f99b5f06fb705",
            "value": " 26.0/26.0 [00:00&lt;00:00, 372B/s]"
          }
        },
        "d9d4f66e65994e02bfc0045c17d1393d": {
          "model_module": "@jupyter-widgets/base",
          "model_name": "LayoutModel",
          "model_module_version": "1.2.0",
          "state": {
            "_model_module": "@jupyter-widgets/base",
            "_model_module_version": "1.2.0",
            "_model_name": "LayoutModel",
            "_view_count": null,
            "_view_module": "@jupyter-widgets/base",
            "_view_module_version": "1.2.0",
            "_view_name": "LayoutView",
            "align_content": null,
            "align_items": null,
            "align_self": null,
            "border": null,
            "bottom": null,
            "display": null,
            "flex": null,
            "flex_flow": null,
            "grid_area": null,
            "grid_auto_columns": null,
            "grid_auto_flow": null,
            "grid_auto_rows": null,
            "grid_column": null,
            "grid_gap": null,
            "grid_row": null,
            "grid_template_areas": null,
            "grid_template_columns": null,
            "grid_template_rows": null,
            "height": null,
            "justify_content": null,
            "justify_items": null,
            "left": null,
            "margin": null,
            "max_height": null,
            "max_width": null,
            "min_height": null,
            "min_width": null,
            "object_fit": null,
            "object_position": null,
            "order": null,
            "overflow": null,
            "overflow_x": null,
            "overflow_y": null,
            "padding": null,
            "right": null,
            "top": null,
            "visibility": null,
            "width": null
          }
        },
        "87d26eb099e649ac9ad2c6628eb61b40": {
          "model_module": "@jupyter-widgets/base",
          "model_name": "LayoutModel",
          "model_module_version": "1.2.0",
          "state": {
            "_model_module": "@jupyter-widgets/base",
            "_model_module_version": "1.2.0",
            "_model_name": "LayoutModel",
            "_view_count": null,
            "_view_module": "@jupyter-widgets/base",
            "_view_module_version": "1.2.0",
            "_view_name": "LayoutView",
            "align_content": null,
            "align_items": null,
            "align_self": null,
            "border": null,
            "bottom": null,
            "display": null,
            "flex": null,
            "flex_flow": null,
            "grid_area": null,
            "grid_auto_columns": null,
            "grid_auto_flow": null,
            "grid_auto_rows": null,
            "grid_column": null,
            "grid_gap": null,
            "grid_row": null,
            "grid_template_areas": null,
            "grid_template_columns": null,
            "grid_template_rows": null,
            "height": null,
            "justify_content": null,
            "justify_items": null,
            "left": null,
            "margin": null,
            "max_height": null,
            "max_width": null,
            "min_height": null,
            "min_width": null,
            "object_fit": null,
            "object_position": null,
            "order": null,
            "overflow": null,
            "overflow_x": null,
            "overflow_y": null,
            "padding": null,
            "right": null,
            "top": null,
            "visibility": null,
            "width": null
          }
        },
        "704a26b8764948598a56ab485bbb03e8": {
          "model_module": "@jupyter-widgets/controls",
          "model_name": "DescriptionStyleModel",
          "model_module_version": "1.5.0",
          "state": {
            "_model_module": "@jupyter-widgets/controls",
            "_model_module_version": "1.5.0",
            "_model_name": "DescriptionStyleModel",
            "_view_count": null,
            "_view_module": "@jupyter-widgets/base",
            "_view_module_version": "1.2.0",
            "_view_name": "StyleView",
            "description_width": ""
          }
        },
        "8082b8399f5f427a8091a13697e58888": {
          "model_module": "@jupyter-widgets/base",
          "model_name": "LayoutModel",
          "model_module_version": "1.2.0",
          "state": {
            "_model_module": "@jupyter-widgets/base",
            "_model_module_version": "1.2.0",
            "_model_name": "LayoutModel",
            "_view_count": null,
            "_view_module": "@jupyter-widgets/base",
            "_view_module_version": "1.2.0",
            "_view_name": "LayoutView",
            "align_content": null,
            "align_items": null,
            "align_self": null,
            "border": null,
            "bottom": null,
            "display": null,
            "flex": null,
            "flex_flow": null,
            "grid_area": null,
            "grid_auto_columns": null,
            "grid_auto_flow": null,
            "grid_auto_rows": null,
            "grid_column": null,
            "grid_gap": null,
            "grid_row": null,
            "grid_template_areas": null,
            "grid_template_columns": null,
            "grid_template_rows": null,
            "height": null,
            "justify_content": null,
            "justify_items": null,
            "left": null,
            "margin": null,
            "max_height": null,
            "max_width": null,
            "min_height": null,
            "min_width": null,
            "object_fit": null,
            "object_position": null,
            "order": null,
            "overflow": null,
            "overflow_x": null,
            "overflow_y": null,
            "padding": null,
            "right": null,
            "top": null,
            "visibility": null,
            "width": null
          }
        },
        "60774e8766d94902b60b11763bbc90b1": {
          "model_module": "@jupyter-widgets/controls",
          "model_name": "ProgressStyleModel",
          "model_module_version": "1.5.0",
          "state": {
            "_model_module": "@jupyter-widgets/controls",
            "_model_module_version": "1.5.0",
            "_model_name": "ProgressStyleModel",
            "_view_count": null,
            "_view_module": "@jupyter-widgets/base",
            "_view_module_version": "1.2.0",
            "_view_name": "StyleView",
            "bar_color": null,
            "description_width": ""
          }
        },
        "ba1c540a2f3846cfbf23053b3630ce51": {
          "model_module": "@jupyter-widgets/base",
          "model_name": "LayoutModel",
          "model_module_version": "1.2.0",
          "state": {
            "_model_module": "@jupyter-widgets/base",
            "_model_module_version": "1.2.0",
            "_model_name": "LayoutModel",
            "_view_count": null,
            "_view_module": "@jupyter-widgets/base",
            "_view_module_version": "1.2.0",
            "_view_name": "LayoutView",
            "align_content": null,
            "align_items": null,
            "align_self": null,
            "border": null,
            "bottom": null,
            "display": null,
            "flex": null,
            "flex_flow": null,
            "grid_area": null,
            "grid_auto_columns": null,
            "grid_auto_flow": null,
            "grid_auto_rows": null,
            "grid_column": null,
            "grid_gap": null,
            "grid_row": null,
            "grid_template_areas": null,
            "grid_template_columns": null,
            "grid_template_rows": null,
            "height": null,
            "justify_content": null,
            "justify_items": null,
            "left": null,
            "margin": null,
            "max_height": null,
            "max_width": null,
            "min_height": null,
            "min_width": null,
            "object_fit": null,
            "object_position": null,
            "order": null,
            "overflow": null,
            "overflow_x": null,
            "overflow_y": null,
            "padding": null,
            "right": null,
            "top": null,
            "visibility": null,
            "width": null
          }
        },
        "664d413dbdf648509a9f99b5f06fb705": {
          "model_module": "@jupyter-widgets/controls",
          "model_name": "DescriptionStyleModel",
          "model_module_version": "1.5.0",
          "state": {
            "_model_module": "@jupyter-widgets/controls",
            "_model_module_version": "1.5.0",
            "_model_name": "DescriptionStyleModel",
            "_view_count": null,
            "_view_module": "@jupyter-widgets/base",
            "_view_module_version": "1.2.0",
            "_view_name": "StyleView",
            "description_width": ""
          }
        },
        "b86fb8dfe15847069ca6258c78bca1f4": {
          "model_module": "@jupyter-widgets/controls",
          "model_name": "HBoxModel",
          "model_module_version": "1.5.0",
          "state": {
            "_dom_classes": [],
            "_model_module": "@jupyter-widgets/controls",
            "_model_module_version": "1.5.0",
            "_model_name": "HBoxModel",
            "_view_count": null,
            "_view_module": "@jupyter-widgets/controls",
            "_view_module_version": "1.5.0",
            "_view_name": "HBoxView",
            "box_style": "",
            "children": [
              "IPY_MODEL_861631c5c07d4e81a5ee37a934a7ed33",
              "IPY_MODEL_c42f86dd4a3945938d542806364c4e21",
              "IPY_MODEL_d211335cbca444229440646efd96bfba"
            ],
            "layout": "IPY_MODEL_5c1af616845c43e989d2ef2676d10d3a"
          }
        },
        "861631c5c07d4e81a5ee37a934a7ed33": {
          "model_module": "@jupyter-widgets/controls",
          "model_name": "HTMLModel",
          "model_module_version": "1.5.0",
          "state": {
            "_dom_classes": [],
            "_model_module": "@jupyter-widgets/controls",
            "_model_module_version": "1.5.0",
            "_model_name": "HTMLModel",
            "_view_count": null,
            "_view_module": "@jupyter-widgets/controls",
            "_view_module_version": "1.5.0",
            "_view_name": "HTMLView",
            "description": "",
            "description_tooltip": null,
            "layout": "IPY_MODEL_d076bb3ab6b64429b15332ab38560b78",
            "placeholder": "​",
            "style": "IPY_MODEL_b320e6c2f9dd4f8fba2bc9df6707a5b3",
            "value": "vocab.json: 100%"
          }
        },
        "c42f86dd4a3945938d542806364c4e21": {
          "model_module": "@jupyter-widgets/controls",
          "model_name": "FloatProgressModel",
          "model_module_version": "1.5.0",
          "state": {
            "_dom_classes": [],
            "_model_module": "@jupyter-widgets/controls",
            "_model_module_version": "1.5.0",
            "_model_name": "FloatProgressModel",
            "_view_count": null,
            "_view_module": "@jupyter-widgets/controls",
            "_view_module_version": "1.5.0",
            "_view_name": "ProgressView",
            "bar_style": "success",
            "description": "",
            "description_tooltip": null,
            "layout": "IPY_MODEL_cf39156742f7480d9042edb59fac0fac",
            "max": 1042301,
            "min": 0,
            "orientation": "horizontal",
            "style": "IPY_MODEL_f393c0bebe6049bd8b342ead80b30806",
            "value": 1042301
          }
        },
        "d211335cbca444229440646efd96bfba": {
          "model_module": "@jupyter-widgets/controls",
          "model_name": "HTMLModel",
          "model_module_version": "1.5.0",
          "state": {
            "_dom_classes": [],
            "_model_module": "@jupyter-widgets/controls",
            "_model_module_version": "1.5.0",
            "_model_name": "HTMLModel",
            "_view_count": null,
            "_view_module": "@jupyter-widgets/controls",
            "_view_module_version": "1.5.0",
            "_view_name": "HTMLView",
            "description": "",
            "description_tooltip": null,
            "layout": "IPY_MODEL_dfc50647596d43918a892e259e1b08e9",
            "placeholder": "​",
            "style": "IPY_MODEL_37f158b1fdad459d843e0a48d9637675",
            "value": " 1.04M/1.04M [00:00&lt;00:00, 5.16MB/s]"
          }
        },
        "5c1af616845c43e989d2ef2676d10d3a": {
          "model_module": "@jupyter-widgets/base",
          "model_name": "LayoutModel",
          "model_module_version": "1.2.0",
          "state": {
            "_model_module": "@jupyter-widgets/base",
            "_model_module_version": "1.2.0",
            "_model_name": "LayoutModel",
            "_view_count": null,
            "_view_module": "@jupyter-widgets/base",
            "_view_module_version": "1.2.0",
            "_view_name": "LayoutView",
            "align_content": null,
            "align_items": null,
            "align_self": null,
            "border": null,
            "bottom": null,
            "display": null,
            "flex": null,
            "flex_flow": null,
            "grid_area": null,
            "grid_auto_columns": null,
            "grid_auto_flow": null,
            "grid_auto_rows": null,
            "grid_column": null,
            "grid_gap": null,
            "grid_row": null,
            "grid_template_areas": null,
            "grid_template_columns": null,
            "grid_template_rows": null,
            "height": null,
            "justify_content": null,
            "justify_items": null,
            "left": null,
            "margin": null,
            "max_height": null,
            "max_width": null,
            "min_height": null,
            "min_width": null,
            "object_fit": null,
            "object_position": null,
            "order": null,
            "overflow": null,
            "overflow_x": null,
            "overflow_y": null,
            "padding": null,
            "right": null,
            "top": null,
            "visibility": null,
            "width": null
          }
        },
        "d076bb3ab6b64429b15332ab38560b78": {
          "model_module": "@jupyter-widgets/base",
          "model_name": "LayoutModel",
          "model_module_version": "1.2.0",
          "state": {
            "_model_module": "@jupyter-widgets/base",
            "_model_module_version": "1.2.0",
            "_model_name": "LayoutModel",
            "_view_count": null,
            "_view_module": "@jupyter-widgets/base",
            "_view_module_version": "1.2.0",
            "_view_name": "LayoutView",
            "align_content": null,
            "align_items": null,
            "align_self": null,
            "border": null,
            "bottom": null,
            "display": null,
            "flex": null,
            "flex_flow": null,
            "grid_area": null,
            "grid_auto_columns": null,
            "grid_auto_flow": null,
            "grid_auto_rows": null,
            "grid_column": null,
            "grid_gap": null,
            "grid_row": null,
            "grid_template_areas": null,
            "grid_template_columns": null,
            "grid_template_rows": null,
            "height": null,
            "justify_content": null,
            "justify_items": null,
            "left": null,
            "margin": null,
            "max_height": null,
            "max_width": null,
            "min_height": null,
            "min_width": null,
            "object_fit": null,
            "object_position": null,
            "order": null,
            "overflow": null,
            "overflow_x": null,
            "overflow_y": null,
            "padding": null,
            "right": null,
            "top": null,
            "visibility": null,
            "width": null
          }
        },
        "b320e6c2f9dd4f8fba2bc9df6707a5b3": {
          "model_module": "@jupyter-widgets/controls",
          "model_name": "DescriptionStyleModel",
          "model_module_version": "1.5.0",
          "state": {
            "_model_module": "@jupyter-widgets/controls",
            "_model_module_version": "1.5.0",
            "_model_name": "DescriptionStyleModel",
            "_view_count": null,
            "_view_module": "@jupyter-widgets/base",
            "_view_module_version": "1.2.0",
            "_view_name": "StyleView",
            "description_width": ""
          }
        },
        "cf39156742f7480d9042edb59fac0fac": {
          "model_module": "@jupyter-widgets/base",
          "model_name": "LayoutModel",
          "model_module_version": "1.2.0",
          "state": {
            "_model_module": "@jupyter-widgets/base",
            "_model_module_version": "1.2.0",
            "_model_name": "LayoutModel",
            "_view_count": null,
            "_view_module": "@jupyter-widgets/base",
            "_view_module_version": "1.2.0",
            "_view_name": "LayoutView",
            "align_content": null,
            "align_items": null,
            "align_self": null,
            "border": null,
            "bottom": null,
            "display": null,
            "flex": null,
            "flex_flow": null,
            "grid_area": null,
            "grid_auto_columns": null,
            "grid_auto_flow": null,
            "grid_auto_rows": null,
            "grid_column": null,
            "grid_gap": null,
            "grid_row": null,
            "grid_template_areas": null,
            "grid_template_columns": null,
            "grid_template_rows": null,
            "height": null,
            "justify_content": null,
            "justify_items": null,
            "left": null,
            "margin": null,
            "max_height": null,
            "max_width": null,
            "min_height": null,
            "min_width": null,
            "object_fit": null,
            "object_position": null,
            "order": null,
            "overflow": null,
            "overflow_x": null,
            "overflow_y": null,
            "padding": null,
            "right": null,
            "top": null,
            "visibility": null,
            "width": null
          }
        },
        "f393c0bebe6049bd8b342ead80b30806": {
          "model_module": "@jupyter-widgets/controls",
          "model_name": "ProgressStyleModel",
          "model_module_version": "1.5.0",
          "state": {
            "_model_module": "@jupyter-widgets/controls",
            "_model_module_version": "1.5.0",
            "_model_name": "ProgressStyleModel",
            "_view_count": null,
            "_view_module": "@jupyter-widgets/base",
            "_view_module_version": "1.2.0",
            "_view_name": "StyleView",
            "bar_color": null,
            "description_width": ""
          }
        },
        "dfc50647596d43918a892e259e1b08e9": {
          "model_module": "@jupyter-widgets/base",
          "model_name": "LayoutModel",
          "model_module_version": "1.2.0",
          "state": {
            "_model_module": "@jupyter-widgets/base",
            "_model_module_version": "1.2.0",
            "_model_name": "LayoutModel",
            "_view_count": null,
            "_view_module": "@jupyter-widgets/base",
            "_view_module_version": "1.2.0",
            "_view_name": "LayoutView",
            "align_content": null,
            "align_items": null,
            "align_self": null,
            "border": null,
            "bottom": null,
            "display": null,
            "flex": null,
            "flex_flow": null,
            "grid_area": null,
            "grid_auto_columns": null,
            "grid_auto_flow": null,
            "grid_auto_rows": null,
            "grid_column": null,
            "grid_gap": null,
            "grid_row": null,
            "grid_template_areas": null,
            "grid_template_columns": null,
            "grid_template_rows": null,
            "height": null,
            "justify_content": null,
            "justify_items": null,
            "left": null,
            "margin": null,
            "max_height": null,
            "max_width": null,
            "min_height": null,
            "min_width": null,
            "object_fit": null,
            "object_position": null,
            "order": null,
            "overflow": null,
            "overflow_x": null,
            "overflow_y": null,
            "padding": null,
            "right": null,
            "top": null,
            "visibility": null,
            "width": null
          }
        },
        "37f158b1fdad459d843e0a48d9637675": {
          "model_module": "@jupyter-widgets/controls",
          "model_name": "DescriptionStyleModel",
          "model_module_version": "1.5.0",
          "state": {
            "_model_module": "@jupyter-widgets/controls",
            "_model_module_version": "1.5.0",
            "_model_name": "DescriptionStyleModel",
            "_view_count": null,
            "_view_module": "@jupyter-widgets/base",
            "_view_module_version": "1.2.0",
            "_view_name": "StyleView",
            "description_width": ""
          }
        },
        "e23a5651905549e2a2804228c2b5f9f4": {
          "model_module": "@jupyter-widgets/controls",
          "model_name": "HBoxModel",
          "model_module_version": "1.5.0",
          "state": {
            "_dom_classes": [],
            "_model_module": "@jupyter-widgets/controls",
            "_model_module_version": "1.5.0",
            "_model_name": "HBoxModel",
            "_view_count": null,
            "_view_module": "@jupyter-widgets/controls",
            "_view_module_version": "1.5.0",
            "_view_name": "HBoxView",
            "box_style": "",
            "children": [
              "IPY_MODEL_dee87be7a0d04214b18d321143e9e9cb",
              "IPY_MODEL_e7beb78c4dac44278853ceedc42f7870",
              "IPY_MODEL_046f940d09ea42a59c564b2d09fb3bba"
            ],
            "layout": "IPY_MODEL_211cf862cb5d4802a10278b563a1c4f4"
          }
        },
        "dee87be7a0d04214b18d321143e9e9cb": {
          "model_module": "@jupyter-widgets/controls",
          "model_name": "HTMLModel",
          "model_module_version": "1.5.0",
          "state": {
            "_dom_classes": [],
            "_model_module": "@jupyter-widgets/controls",
            "_model_module_version": "1.5.0",
            "_model_name": "HTMLModel",
            "_view_count": null,
            "_view_module": "@jupyter-widgets/controls",
            "_view_module_version": "1.5.0",
            "_view_name": "HTMLView",
            "description": "",
            "description_tooltip": null,
            "layout": "IPY_MODEL_eabfd174ab8e440599c0113d552b1708",
            "placeholder": "​",
            "style": "IPY_MODEL_bedaed467238421c963878eb88408744",
            "value": "merges.txt: 100%"
          }
        },
        "e7beb78c4dac44278853ceedc42f7870": {
          "model_module": "@jupyter-widgets/controls",
          "model_name": "FloatProgressModel",
          "model_module_version": "1.5.0",
          "state": {
            "_dom_classes": [],
            "_model_module": "@jupyter-widgets/controls",
            "_model_module_version": "1.5.0",
            "_model_name": "FloatProgressModel",
            "_view_count": null,
            "_view_module": "@jupyter-widgets/controls",
            "_view_module_version": "1.5.0",
            "_view_name": "ProgressView",
            "bar_style": "success",
            "description": "",
            "description_tooltip": null,
            "layout": "IPY_MODEL_60b5c949e5064f098d5689ad8e3df945",
            "max": 456318,
            "min": 0,
            "orientation": "horizontal",
            "style": "IPY_MODEL_4956d31072cf41f3bed3a9bdfa84c5c3",
            "value": 456318
          }
        },
        "046f940d09ea42a59c564b2d09fb3bba": {
          "model_module": "@jupyter-widgets/controls",
          "model_name": "HTMLModel",
          "model_module_version": "1.5.0",
          "state": {
            "_dom_classes": [],
            "_model_module": "@jupyter-widgets/controls",
            "_model_module_version": "1.5.0",
            "_model_name": "HTMLModel",
            "_view_count": null,
            "_view_module": "@jupyter-widgets/controls",
            "_view_module_version": "1.5.0",
            "_view_name": "HTMLView",
            "description": "",
            "description_tooltip": null,
            "layout": "IPY_MODEL_ba20c7fdbc4d4d77afb53d7b0ddf0075",
            "placeholder": "​",
            "style": "IPY_MODEL_9eb543f1d4284a2f86b60f309ab33d3f",
            "value": " 456k/456k [00:00&lt;00:00, 6.33MB/s]"
          }
        },
        "211cf862cb5d4802a10278b563a1c4f4": {
          "model_module": "@jupyter-widgets/base",
          "model_name": "LayoutModel",
          "model_module_version": "1.2.0",
          "state": {
            "_model_module": "@jupyter-widgets/base",
            "_model_module_version": "1.2.0",
            "_model_name": "LayoutModel",
            "_view_count": null,
            "_view_module": "@jupyter-widgets/base",
            "_view_module_version": "1.2.0",
            "_view_name": "LayoutView",
            "align_content": null,
            "align_items": null,
            "align_self": null,
            "border": null,
            "bottom": null,
            "display": null,
            "flex": null,
            "flex_flow": null,
            "grid_area": null,
            "grid_auto_columns": null,
            "grid_auto_flow": null,
            "grid_auto_rows": null,
            "grid_column": null,
            "grid_gap": null,
            "grid_row": null,
            "grid_template_areas": null,
            "grid_template_columns": null,
            "grid_template_rows": null,
            "height": null,
            "justify_content": null,
            "justify_items": null,
            "left": null,
            "margin": null,
            "max_height": null,
            "max_width": null,
            "min_height": null,
            "min_width": null,
            "object_fit": null,
            "object_position": null,
            "order": null,
            "overflow": null,
            "overflow_x": null,
            "overflow_y": null,
            "padding": null,
            "right": null,
            "top": null,
            "visibility": null,
            "width": null
          }
        },
        "eabfd174ab8e440599c0113d552b1708": {
          "model_module": "@jupyter-widgets/base",
          "model_name": "LayoutModel",
          "model_module_version": "1.2.0",
          "state": {
            "_model_module": "@jupyter-widgets/base",
            "_model_module_version": "1.2.0",
            "_model_name": "LayoutModel",
            "_view_count": null,
            "_view_module": "@jupyter-widgets/base",
            "_view_module_version": "1.2.0",
            "_view_name": "LayoutView",
            "align_content": null,
            "align_items": null,
            "align_self": null,
            "border": null,
            "bottom": null,
            "display": null,
            "flex": null,
            "flex_flow": null,
            "grid_area": null,
            "grid_auto_columns": null,
            "grid_auto_flow": null,
            "grid_auto_rows": null,
            "grid_column": null,
            "grid_gap": null,
            "grid_row": null,
            "grid_template_areas": null,
            "grid_template_columns": null,
            "grid_template_rows": null,
            "height": null,
            "justify_content": null,
            "justify_items": null,
            "left": null,
            "margin": null,
            "max_height": null,
            "max_width": null,
            "min_height": null,
            "min_width": null,
            "object_fit": null,
            "object_position": null,
            "order": null,
            "overflow": null,
            "overflow_x": null,
            "overflow_y": null,
            "padding": null,
            "right": null,
            "top": null,
            "visibility": null,
            "width": null
          }
        },
        "bedaed467238421c963878eb88408744": {
          "model_module": "@jupyter-widgets/controls",
          "model_name": "DescriptionStyleModel",
          "model_module_version": "1.5.0",
          "state": {
            "_model_module": "@jupyter-widgets/controls",
            "_model_module_version": "1.5.0",
            "_model_name": "DescriptionStyleModel",
            "_view_count": null,
            "_view_module": "@jupyter-widgets/base",
            "_view_module_version": "1.2.0",
            "_view_name": "StyleView",
            "description_width": ""
          }
        },
        "60b5c949e5064f098d5689ad8e3df945": {
          "model_module": "@jupyter-widgets/base",
          "model_name": "LayoutModel",
          "model_module_version": "1.2.0",
          "state": {
            "_model_module": "@jupyter-widgets/base",
            "_model_module_version": "1.2.0",
            "_model_name": "LayoutModel",
            "_view_count": null,
            "_view_module": "@jupyter-widgets/base",
            "_view_module_version": "1.2.0",
            "_view_name": "LayoutView",
            "align_content": null,
            "align_items": null,
            "align_self": null,
            "border": null,
            "bottom": null,
            "display": null,
            "flex": null,
            "flex_flow": null,
            "grid_area": null,
            "grid_auto_columns": null,
            "grid_auto_flow": null,
            "grid_auto_rows": null,
            "grid_column": null,
            "grid_gap": null,
            "grid_row": null,
            "grid_template_areas": null,
            "grid_template_columns": null,
            "grid_template_rows": null,
            "height": null,
            "justify_content": null,
            "justify_items": null,
            "left": null,
            "margin": null,
            "max_height": null,
            "max_width": null,
            "min_height": null,
            "min_width": null,
            "object_fit": null,
            "object_position": null,
            "order": null,
            "overflow": null,
            "overflow_x": null,
            "overflow_y": null,
            "padding": null,
            "right": null,
            "top": null,
            "visibility": null,
            "width": null
          }
        },
        "4956d31072cf41f3bed3a9bdfa84c5c3": {
          "model_module": "@jupyter-widgets/controls",
          "model_name": "ProgressStyleModel",
          "model_module_version": "1.5.0",
          "state": {
            "_model_module": "@jupyter-widgets/controls",
            "_model_module_version": "1.5.0",
            "_model_name": "ProgressStyleModel",
            "_view_count": null,
            "_view_module": "@jupyter-widgets/base",
            "_view_module_version": "1.2.0",
            "_view_name": "StyleView",
            "bar_color": null,
            "description_width": ""
          }
        },
        "ba20c7fdbc4d4d77afb53d7b0ddf0075": {
          "model_module": "@jupyter-widgets/base",
          "model_name": "LayoutModel",
          "model_module_version": "1.2.0",
          "state": {
            "_model_module": "@jupyter-widgets/base",
            "_model_module_version": "1.2.0",
            "_model_name": "LayoutModel",
            "_view_count": null,
            "_view_module": "@jupyter-widgets/base",
            "_view_module_version": "1.2.0",
            "_view_name": "LayoutView",
            "align_content": null,
            "align_items": null,
            "align_self": null,
            "border": null,
            "bottom": null,
            "display": null,
            "flex": null,
            "flex_flow": null,
            "grid_area": null,
            "grid_auto_columns": null,
            "grid_auto_flow": null,
            "grid_auto_rows": null,
            "grid_column": null,
            "grid_gap": null,
            "grid_row": null,
            "grid_template_areas": null,
            "grid_template_columns": null,
            "grid_template_rows": null,
            "height": null,
            "justify_content": null,
            "justify_items": null,
            "left": null,
            "margin": null,
            "max_height": null,
            "max_width": null,
            "min_height": null,
            "min_width": null,
            "object_fit": null,
            "object_position": null,
            "order": null,
            "overflow": null,
            "overflow_x": null,
            "overflow_y": null,
            "padding": null,
            "right": null,
            "top": null,
            "visibility": null,
            "width": null
          }
        },
        "9eb543f1d4284a2f86b60f309ab33d3f": {
          "model_module": "@jupyter-widgets/controls",
          "model_name": "DescriptionStyleModel",
          "model_module_version": "1.5.0",
          "state": {
            "_model_module": "@jupyter-widgets/controls",
            "_model_module_version": "1.5.0",
            "_model_name": "DescriptionStyleModel",
            "_view_count": null,
            "_view_module": "@jupyter-widgets/base",
            "_view_module_version": "1.2.0",
            "_view_name": "StyleView",
            "description_width": ""
          }
        },
        "9aa076ecac984c0188bb4894e6abdcf2": {
          "model_module": "@jupyter-widgets/controls",
          "model_name": "HBoxModel",
          "model_module_version": "1.5.0",
          "state": {
            "_dom_classes": [],
            "_model_module": "@jupyter-widgets/controls",
            "_model_module_version": "1.5.0",
            "_model_name": "HBoxModel",
            "_view_count": null,
            "_view_module": "@jupyter-widgets/controls",
            "_view_module_version": "1.5.0",
            "_view_name": "HBoxView",
            "box_style": "",
            "children": [
              "IPY_MODEL_110f82c422ee4e2c90cbb5a06fb27cbe",
              "IPY_MODEL_3d0d266073dd47558f831a9265af0ce3",
              "IPY_MODEL_2a3a8afd7d694b438e919cf0626745f9"
            ],
            "layout": "IPY_MODEL_2cd117a5129e41cf92cb12cc1bfda9ae"
          }
        },
        "110f82c422ee4e2c90cbb5a06fb27cbe": {
          "model_module": "@jupyter-widgets/controls",
          "model_name": "HTMLModel",
          "model_module_version": "1.5.0",
          "state": {
            "_dom_classes": [],
            "_model_module": "@jupyter-widgets/controls",
            "_model_module_version": "1.5.0",
            "_model_name": "HTMLModel",
            "_view_count": null,
            "_view_module": "@jupyter-widgets/controls",
            "_view_module_version": "1.5.0",
            "_view_name": "HTMLView",
            "description": "",
            "description_tooltip": null,
            "layout": "IPY_MODEL_0a351c71482e49df9cc16a2bd599f82b",
            "placeholder": "​",
            "style": "IPY_MODEL_e63c8c2f142941cc8f6f97ae70427f19",
            "value": "tokenizer.json: 100%"
          }
        },
        "3d0d266073dd47558f831a9265af0ce3": {
          "model_module": "@jupyter-widgets/controls",
          "model_name": "FloatProgressModel",
          "model_module_version": "1.5.0",
          "state": {
            "_dom_classes": [],
            "_model_module": "@jupyter-widgets/controls",
            "_model_module_version": "1.5.0",
            "_model_name": "FloatProgressModel",
            "_view_count": null,
            "_view_module": "@jupyter-widgets/controls",
            "_view_module_version": "1.5.0",
            "_view_name": "ProgressView",
            "bar_style": "success",
            "description": "",
            "description_tooltip": null,
            "layout": "IPY_MODEL_3a706208abe742f8808e0f4e75925db2",
            "max": 1355256,
            "min": 0,
            "orientation": "horizontal",
            "style": "IPY_MODEL_9bdd3310d5ad4b2ca7b0b53f5d5139f6",
            "value": 1355256
          }
        },
        "2a3a8afd7d694b438e919cf0626745f9": {
          "model_module": "@jupyter-widgets/controls",
          "model_name": "HTMLModel",
          "model_module_version": "1.5.0",
          "state": {
            "_dom_classes": [],
            "_model_module": "@jupyter-widgets/controls",
            "_model_module_version": "1.5.0",
            "_model_name": "HTMLModel",
            "_view_count": null,
            "_view_module": "@jupyter-widgets/controls",
            "_view_module_version": "1.5.0",
            "_view_name": "HTMLView",
            "description": "",
            "description_tooltip": null,
            "layout": "IPY_MODEL_10ed044890b448ec88c5b7d4b8e8c6dc",
            "placeholder": "​",
            "style": "IPY_MODEL_2c548591655f4556b31f40ced5aa33f9",
            "value": " 1.36M/1.36M [00:00&lt;00:00, 13.0MB/s]"
          }
        },
        "2cd117a5129e41cf92cb12cc1bfda9ae": {
          "model_module": "@jupyter-widgets/base",
          "model_name": "LayoutModel",
          "model_module_version": "1.2.0",
          "state": {
            "_model_module": "@jupyter-widgets/base",
            "_model_module_version": "1.2.0",
            "_model_name": "LayoutModel",
            "_view_count": null,
            "_view_module": "@jupyter-widgets/base",
            "_view_module_version": "1.2.0",
            "_view_name": "LayoutView",
            "align_content": null,
            "align_items": null,
            "align_self": null,
            "border": null,
            "bottom": null,
            "display": null,
            "flex": null,
            "flex_flow": null,
            "grid_area": null,
            "grid_auto_columns": null,
            "grid_auto_flow": null,
            "grid_auto_rows": null,
            "grid_column": null,
            "grid_gap": null,
            "grid_row": null,
            "grid_template_areas": null,
            "grid_template_columns": null,
            "grid_template_rows": null,
            "height": null,
            "justify_content": null,
            "justify_items": null,
            "left": null,
            "margin": null,
            "max_height": null,
            "max_width": null,
            "min_height": null,
            "min_width": null,
            "object_fit": null,
            "object_position": null,
            "order": null,
            "overflow": null,
            "overflow_x": null,
            "overflow_y": null,
            "padding": null,
            "right": null,
            "top": null,
            "visibility": null,
            "width": null
          }
        },
        "0a351c71482e49df9cc16a2bd599f82b": {
          "model_module": "@jupyter-widgets/base",
          "model_name": "LayoutModel",
          "model_module_version": "1.2.0",
          "state": {
            "_model_module": "@jupyter-widgets/base",
            "_model_module_version": "1.2.0",
            "_model_name": "LayoutModel",
            "_view_count": null,
            "_view_module": "@jupyter-widgets/base",
            "_view_module_version": "1.2.0",
            "_view_name": "LayoutView",
            "align_content": null,
            "align_items": null,
            "align_self": null,
            "border": null,
            "bottom": null,
            "display": null,
            "flex": null,
            "flex_flow": null,
            "grid_area": null,
            "grid_auto_columns": null,
            "grid_auto_flow": null,
            "grid_auto_rows": null,
            "grid_column": null,
            "grid_gap": null,
            "grid_row": null,
            "grid_template_areas": null,
            "grid_template_columns": null,
            "grid_template_rows": null,
            "height": null,
            "justify_content": null,
            "justify_items": null,
            "left": null,
            "margin": null,
            "max_height": null,
            "max_width": null,
            "min_height": null,
            "min_width": null,
            "object_fit": null,
            "object_position": null,
            "order": null,
            "overflow": null,
            "overflow_x": null,
            "overflow_y": null,
            "padding": null,
            "right": null,
            "top": null,
            "visibility": null,
            "width": null
          }
        },
        "e63c8c2f142941cc8f6f97ae70427f19": {
          "model_module": "@jupyter-widgets/controls",
          "model_name": "DescriptionStyleModel",
          "model_module_version": "1.5.0",
          "state": {
            "_model_module": "@jupyter-widgets/controls",
            "_model_module_version": "1.5.0",
            "_model_name": "DescriptionStyleModel",
            "_view_count": null,
            "_view_module": "@jupyter-widgets/base",
            "_view_module_version": "1.2.0",
            "_view_name": "StyleView",
            "description_width": ""
          }
        },
        "3a706208abe742f8808e0f4e75925db2": {
          "model_module": "@jupyter-widgets/base",
          "model_name": "LayoutModel",
          "model_module_version": "1.2.0",
          "state": {
            "_model_module": "@jupyter-widgets/base",
            "_model_module_version": "1.2.0",
            "_model_name": "LayoutModel",
            "_view_count": null,
            "_view_module": "@jupyter-widgets/base",
            "_view_module_version": "1.2.0",
            "_view_name": "LayoutView",
            "align_content": null,
            "align_items": null,
            "align_self": null,
            "border": null,
            "bottom": null,
            "display": null,
            "flex": null,
            "flex_flow": null,
            "grid_area": null,
            "grid_auto_columns": null,
            "grid_auto_flow": null,
            "grid_auto_rows": null,
            "grid_column": null,
            "grid_gap": null,
            "grid_row": null,
            "grid_template_areas": null,
            "grid_template_columns": null,
            "grid_template_rows": null,
            "height": null,
            "justify_content": null,
            "justify_items": null,
            "left": null,
            "margin": null,
            "max_height": null,
            "max_width": null,
            "min_height": null,
            "min_width": null,
            "object_fit": null,
            "object_position": null,
            "order": null,
            "overflow": null,
            "overflow_x": null,
            "overflow_y": null,
            "padding": null,
            "right": null,
            "top": null,
            "visibility": null,
            "width": null
          }
        },
        "9bdd3310d5ad4b2ca7b0b53f5d5139f6": {
          "model_module": "@jupyter-widgets/controls",
          "model_name": "ProgressStyleModel",
          "model_module_version": "1.5.0",
          "state": {
            "_model_module": "@jupyter-widgets/controls",
            "_model_module_version": "1.5.0",
            "_model_name": "ProgressStyleModel",
            "_view_count": null,
            "_view_module": "@jupyter-widgets/base",
            "_view_module_version": "1.2.0",
            "_view_name": "StyleView",
            "bar_color": null,
            "description_width": ""
          }
        },
        "10ed044890b448ec88c5b7d4b8e8c6dc": {
          "model_module": "@jupyter-widgets/base",
          "model_name": "LayoutModel",
          "model_module_version": "1.2.0",
          "state": {
            "_model_module": "@jupyter-widgets/base",
            "_model_module_version": "1.2.0",
            "_model_name": "LayoutModel",
            "_view_count": null,
            "_view_module": "@jupyter-widgets/base",
            "_view_module_version": "1.2.0",
            "_view_name": "LayoutView",
            "align_content": null,
            "align_items": null,
            "align_self": null,
            "border": null,
            "bottom": null,
            "display": null,
            "flex": null,
            "flex_flow": null,
            "grid_area": null,
            "grid_auto_columns": null,
            "grid_auto_flow": null,
            "grid_auto_rows": null,
            "grid_column": null,
            "grid_gap": null,
            "grid_row": null,
            "grid_template_areas": null,
            "grid_template_columns": null,
            "grid_template_rows": null,
            "height": null,
            "justify_content": null,
            "justify_items": null,
            "left": null,
            "margin": null,
            "max_height": null,
            "max_width": null,
            "min_height": null,
            "min_width": null,
            "object_fit": null,
            "object_position": null,
            "order": null,
            "overflow": null,
            "overflow_x": null,
            "overflow_y": null,
            "padding": null,
            "right": null,
            "top": null,
            "visibility": null,
            "width": null
          }
        },
        "2c548591655f4556b31f40ced5aa33f9": {
          "model_module": "@jupyter-widgets/controls",
          "model_name": "DescriptionStyleModel",
          "model_module_version": "1.5.0",
          "state": {
            "_model_module": "@jupyter-widgets/controls",
            "_model_module_version": "1.5.0",
            "_model_name": "DescriptionStyleModel",
            "_view_count": null,
            "_view_module": "@jupyter-widgets/base",
            "_view_module_version": "1.2.0",
            "_view_name": "StyleView",
            "description_width": ""
          }
        },
        "c3838e76a67649f992f0e9cfe6649651": {
          "model_module": "@jupyter-widgets/controls",
          "model_name": "HBoxModel",
          "model_module_version": "1.5.0",
          "state": {
            "_dom_classes": [],
            "_model_module": "@jupyter-widgets/controls",
            "_model_module_version": "1.5.0",
            "_model_name": "HBoxModel",
            "_view_count": null,
            "_view_module": "@jupyter-widgets/controls",
            "_view_module_version": "1.5.0",
            "_view_name": "HBoxView",
            "box_style": "",
            "children": [
              "IPY_MODEL_35ffad81989e4bfe912dc565b3825392",
              "IPY_MODEL_7b8024bb5e5f4a7da3e3f5307f9335a1",
              "IPY_MODEL_63dc02324bb94884b9b8bfe29160fe46"
            ],
            "layout": "IPY_MODEL_8c2ac18a0a1540a09d7a6ba09c35510a"
          }
        },
        "35ffad81989e4bfe912dc565b3825392": {
          "model_module": "@jupyter-widgets/controls",
          "model_name": "HTMLModel",
          "model_module_version": "1.5.0",
          "state": {
            "_dom_classes": [],
            "_model_module": "@jupyter-widgets/controls",
            "_model_module_version": "1.5.0",
            "_model_name": "HTMLModel",
            "_view_count": null,
            "_view_module": "@jupyter-widgets/controls",
            "_view_module_version": "1.5.0",
            "_view_name": "HTMLView",
            "description": "",
            "description_tooltip": null,
            "layout": "IPY_MODEL_51a436fdd2e246a38877e681705390d0",
            "placeholder": "​",
            "style": "IPY_MODEL_8ec55f3b95344667bfa4429c71f3967e",
            "value": "config.json: 100%"
          }
        },
        "7b8024bb5e5f4a7da3e3f5307f9335a1": {
          "model_module": "@jupyter-widgets/controls",
          "model_name": "FloatProgressModel",
          "model_module_version": "1.5.0",
          "state": {
            "_dom_classes": [],
            "_model_module": "@jupyter-widgets/controls",
            "_model_module_version": "1.5.0",
            "_model_name": "FloatProgressModel",
            "_view_count": null,
            "_view_module": "@jupyter-widgets/controls",
            "_view_module_version": "1.5.0",
            "_view_name": "ProgressView",
            "bar_style": "success",
            "description": "",
            "description_tooltip": null,
            "layout": "IPY_MODEL_f427907b8c1841bba6740e4a0ba0e39e",
            "max": 665,
            "min": 0,
            "orientation": "horizontal",
            "style": "IPY_MODEL_661968010d33410a9a0f479759645d54",
            "value": 665
          }
        },
        "63dc02324bb94884b9b8bfe29160fe46": {
          "model_module": "@jupyter-widgets/controls",
          "model_name": "HTMLModel",
          "model_module_version": "1.5.0",
          "state": {
            "_dom_classes": [],
            "_model_module": "@jupyter-widgets/controls",
            "_model_module_version": "1.5.0",
            "_model_name": "HTMLModel",
            "_view_count": null,
            "_view_module": "@jupyter-widgets/controls",
            "_view_module_version": "1.5.0",
            "_view_name": "HTMLView",
            "description": "",
            "description_tooltip": null,
            "layout": "IPY_MODEL_ea0acfa32fe94cff9423080a6c0bae6e",
            "placeholder": "​",
            "style": "IPY_MODEL_203e569c41f94ae39450e3373a7e0f49",
            "value": " 665/665 [00:00&lt;00:00, 7.22kB/s]"
          }
        },
        "8c2ac18a0a1540a09d7a6ba09c35510a": {
          "model_module": "@jupyter-widgets/base",
          "model_name": "LayoutModel",
          "model_module_version": "1.2.0",
          "state": {
            "_model_module": "@jupyter-widgets/base",
            "_model_module_version": "1.2.0",
            "_model_name": "LayoutModel",
            "_view_count": null,
            "_view_module": "@jupyter-widgets/base",
            "_view_module_version": "1.2.0",
            "_view_name": "LayoutView",
            "align_content": null,
            "align_items": null,
            "align_self": null,
            "border": null,
            "bottom": null,
            "display": null,
            "flex": null,
            "flex_flow": null,
            "grid_area": null,
            "grid_auto_columns": null,
            "grid_auto_flow": null,
            "grid_auto_rows": null,
            "grid_column": null,
            "grid_gap": null,
            "grid_row": null,
            "grid_template_areas": null,
            "grid_template_columns": null,
            "grid_template_rows": null,
            "height": null,
            "justify_content": null,
            "justify_items": null,
            "left": null,
            "margin": null,
            "max_height": null,
            "max_width": null,
            "min_height": null,
            "min_width": null,
            "object_fit": null,
            "object_position": null,
            "order": null,
            "overflow": null,
            "overflow_x": null,
            "overflow_y": null,
            "padding": null,
            "right": null,
            "top": null,
            "visibility": null,
            "width": null
          }
        },
        "51a436fdd2e246a38877e681705390d0": {
          "model_module": "@jupyter-widgets/base",
          "model_name": "LayoutModel",
          "model_module_version": "1.2.0",
          "state": {
            "_model_module": "@jupyter-widgets/base",
            "_model_module_version": "1.2.0",
            "_model_name": "LayoutModel",
            "_view_count": null,
            "_view_module": "@jupyter-widgets/base",
            "_view_module_version": "1.2.0",
            "_view_name": "LayoutView",
            "align_content": null,
            "align_items": null,
            "align_self": null,
            "border": null,
            "bottom": null,
            "display": null,
            "flex": null,
            "flex_flow": null,
            "grid_area": null,
            "grid_auto_columns": null,
            "grid_auto_flow": null,
            "grid_auto_rows": null,
            "grid_column": null,
            "grid_gap": null,
            "grid_row": null,
            "grid_template_areas": null,
            "grid_template_columns": null,
            "grid_template_rows": null,
            "height": null,
            "justify_content": null,
            "justify_items": null,
            "left": null,
            "margin": null,
            "max_height": null,
            "max_width": null,
            "min_height": null,
            "min_width": null,
            "object_fit": null,
            "object_position": null,
            "order": null,
            "overflow": null,
            "overflow_x": null,
            "overflow_y": null,
            "padding": null,
            "right": null,
            "top": null,
            "visibility": null,
            "width": null
          }
        },
        "8ec55f3b95344667bfa4429c71f3967e": {
          "model_module": "@jupyter-widgets/controls",
          "model_name": "DescriptionStyleModel",
          "model_module_version": "1.5.0",
          "state": {
            "_model_module": "@jupyter-widgets/controls",
            "_model_module_version": "1.5.0",
            "_model_name": "DescriptionStyleModel",
            "_view_count": null,
            "_view_module": "@jupyter-widgets/base",
            "_view_module_version": "1.2.0",
            "_view_name": "StyleView",
            "description_width": ""
          }
        },
        "f427907b8c1841bba6740e4a0ba0e39e": {
          "model_module": "@jupyter-widgets/base",
          "model_name": "LayoutModel",
          "model_module_version": "1.2.0",
          "state": {
            "_model_module": "@jupyter-widgets/base",
            "_model_module_version": "1.2.0",
            "_model_name": "LayoutModel",
            "_view_count": null,
            "_view_module": "@jupyter-widgets/base",
            "_view_module_version": "1.2.0",
            "_view_name": "LayoutView",
            "align_content": null,
            "align_items": null,
            "align_self": null,
            "border": null,
            "bottom": null,
            "display": null,
            "flex": null,
            "flex_flow": null,
            "grid_area": null,
            "grid_auto_columns": null,
            "grid_auto_flow": null,
            "grid_auto_rows": null,
            "grid_column": null,
            "grid_gap": null,
            "grid_row": null,
            "grid_template_areas": null,
            "grid_template_columns": null,
            "grid_template_rows": null,
            "height": null,
            "justify_content": null,
            "justify_items": null,
            "left": null,
            "margin": null,
            "max_height": null,
            "max_width": null,
            "min_height": null,
            "min_width": null,
            "object_fit": null,
            "object_position": null,
            "order": null,
            "overflow": null,
            "overflow_x": null,
            "overflow_y": null,
            "padding": null,
            "right": null,
            "top": null,
            "visibility": null,
            "width": null
          }
        },
        "661968010d33410a9a0f479759645d54": {
          "model_module": "@jupyter-widgets/controls",
          "model_name": "ProgressStyleModel",
          "model_module_version": "1.5.0",
          "state": {
            "_model_module": "@jupyter-widgets/controls",
            "_model_module_version": "1.5.0",
            "_model_name": "ProgressStyleModel",
            "_view_count": null,
            "_view_module": "@jupyter-widgets/base",
            "_view_module_version": "1.2.0",
            "_view_name": "StyleView",
            "bar_color": null,
            "description_width": ""
          }
        },
        "ea0acfa32fe94cff9423080a6c0bae6e": {
          "model_module": "@jupyter-widgets/base",
          "model_name": "LayoutModel",
          "model_module_version": "1.2.0",
          "state": {
            "_model_module": "@jupyter-widgets/base",
            "_model_module_version": "1.2.0",
            "_model_name": "LayoutModel",
            "_view_count": null,
            "_view_module": "@jupyter-widgets/base",
            "_view_module_version": "1.2.0",
            "_view_name": "LayoutView",
            "align_content": null,
            "align_items": null,
            "align_self": null,
            "border": null,
            "bottom": null,
            "display": null,
            "flex": null,
            "flex_flow": null,
            "grid_area": null,
            "grid_auto_columns": null,
            "grid_auto_flow": null,
            "grid_auto_rows": null,
            "grid_column": null,
            "grid_gap": null,
            "grid_row": null,
            "grid_template_areas": null,
            "grid_template_columns": null,
            "grid_template_rows": null,
            "height": null,
            "justify_content": null,
            "justify_items": null,
            "left": null,
            "margin": null,
            "max_height": null,
            "max_width": null,
            "min_height": null,
            "min_width": null,
            "object_fit": null,
            "object_position": null,
            "order": null,
            "overflow": null,
            "overflow_x": null,
            "overflow_y": null,
            "padding": null,
            "right": null,
            "top": null,
            "visibility": null,
            "width": null
          }
        },
        "203e569c41f94ae39450e3373a7e0f49": {
          "model_module": "@jupyter-widgets/controls",
          "model_name": "DescriptionStyleModel",
          "model_module_version": "1.5.0",
          "state": {
            "_model_module": "@jupyter-widgets/controls",
            "_model_module_version": "1.5.0",
            "_model_name": "DescriptionStyleModel",
            "_view_count": null,
            "_view_module": "@jupyter-widgets/base",
            "_view_module_version": "1.2.0",
            "_view_name": "StyleView",
            "description_width": ""
          }
        }
      }
    }
  },
  "nbformat": 4,
  "nbformat_minor": 0
}