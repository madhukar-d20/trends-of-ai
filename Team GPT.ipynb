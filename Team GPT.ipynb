{
 "cells": [
  {
   "cell_type": "markdown",
   "metadata": {
    "id": "X_d2A_LbVXDV"
   },
   "source": [
    "\n",
    "# GPT Model\n",
    "\n"
   ]
  },
  {
   "cell_type": "markdown",
   "metadata": {},
   "source": [
    "### Team S.A.M\n",
    "\n",
    "#### Members  \n",
    "- Akash Cuntur Shrinivasmurthy  \n",
    "- Swathi Chandrashekaraiah \n",
    "- Madhukar Devendrappa  \n",
    "- Bekzod Nazarov  "
   ]
  },
  {
   "cell_type": "markdown",
   "metadata": {
    "id": "DoO60AU0Vyxs"
   },
   "source": [
    "# Requirements  and imports"
   ]
  },
  {
   "cell_type": "code",
   "execution_count": null,
   "metadata": {},
   "outputs": [],
   "source": [
    "# missing from docker image\n",
    "!pip install kagglehub\n",
    "!pip install torch\n",
    "!pip install nltk\n",
    "!pip install transformers"
   ]
  },
  {
   "cell_type": "code",
   "execution_count": 9,
   "metadata": {
    "colab": {
     "base_uri": "https://localhost:8080/"
    },
    "id": "RFmwKmFYV2hS",
    "outputId": "4517c6f8-c37d-46c8-9de2-e60f8e543204"
   },
   "outputs": [
    {
     "name": "stderr",
     "output_type": "stream",
     "text": [
      "[nltk_data] Downloading package wordnet to /root/nltk_data...\n"
     ]
    },
    {
     "data": {
      "text/plain": [
       "True"
      ]
     },
     "execution_count": 9,
     "metadata": {},
     "output_type": "execute_result"
    }
   ],
   "source": [
    "import os\n",
    "import re\n",
    "import math\n",
    "import json\n",
    "import pickle\n",
    "import random\n",
    "import kagglehub\n",
    "import pandas as pd\n",
    "import nltk\n",
    "from nltk.corpus import stopwords\n",
    "from nltk.stem import WordNetLemmatizer\n",
    "import torch\n",
    "import torch.nn as nn\n",
    "from torch.nn import functional as F\n",
    "from torch.utils.data import Dataset, DataLoader, random_split\n",
    "from torch.utils.tensorboard import SummaryWriter\n",
    "from collections import Counter\n",
    "from collections import defaultdict\n",
    "from transformers import GPT2Tokenizer\n",
    "from datetime import datetime\n",
    "import numpy as np\n",
    "import pandas as pd\n",
    "\n",
    "nltk.download('wordnet')"
   ]
  },
  {
   "cell_type": "markdown",
   "metadata": {
    "id": "JGMEXDM5VjJj"
   },
   "source": [
    "# Data Preprocessing\n",
    "\n",
    "dataset is on [wine reviews](https://www.kaggle.com/datasets/zynicide/wine-reviews)"
   ]
  },
  {
   "cell_type": "code",
   "execution_count": 10,
   "metadata": {
    "id": "cGpn69E8VVOq"
   },
   "outputs": [],
   "source": [
    "class WineReviewProcessor:\n",
    "    def __init__(self, dataset_name=\"zynicide/wine-reviews\"):\n",
    "        self.dataset_name = dataset_name\n",
    "        self.path = kagglehub.dataset_download(self.dataset_name)\n",
    "        print(\"Path to dataset files:\", self.path)\n",
    "        self.files = [file for file in os.listdir(self.path) if os.path.isfile(os.path.join(self.path, file))]\n",
    "        print(\"Dataset files:\", self.files)\n",
    "        self.data = pd.read_csv(f\"{self.path}/winemag-data-130k-v2.csv\")\n",
    "        self.data.fillna(\"\", inplace=True)\n",
    "        print(\"Missing values:\", self.data.isnull().sum())\n",
    "        print(\"Number of rows:\", self.data.shape[0])\n",
    "\n",
    "        self.data[\"processed_text\"] = self._process_text()\n",
    "\n",
    "    def _process_text(self):\n",
    "        \"\"\"Preprocesses the dataset by combining relevant fields into a single text.\"\"\"\n",
    "        return (\n",
    "            \"wine review : \" +\n",
    "            self.data[\"country\"].str.strip() + \" : \" +\n",
    "            self.data[\"province\"].str.strip() + \" : \" +\n",
    "            self.data[\"variety\"].str.strip() + \" : \" +\n",
    "            self.data[\"description\"].str.strip()\n",
    "        )\n",
    "\n",
    "    def get_processed_data(self):\n",
    "        \"\"\"Returns the processed text data.\"\"\"\n",
    "        return self.data[\"processed_text\"].tolist()\n",
    "\n",
    "    def get_sample(self, index):\n",
    "        \"\"\"Returns a sample of the processed text by index.\"\"\"\n",
    "        return self.data[\"processed_text\"].iloc[index]\n",
    "\n",
    "    def get_dataset_statistics(self):\n",
    "        \"\"\"Provides basic statistics about the dataset.\"\"\"\n",
    "        return {\n",
    "            \"total_rows\": self.data.shape[0],\n",
    "            \"missing_values\": self.data.isnull().sum().to_dict(),\n",
    "            \"unique_countries\": self.data[\"country\"].nunique(),\n",
    "            \"unique_provinces\": self.data[\"province\"].nunique(),\n",
    "            \"unique_varieties\": self.data[\"variety\"].nunique(),\n",
    "        }\n",
    "\n",
    "    def convert_to_lowercase(self):\n",
    "        \"\"\"Converts all characters in the processed text to lowercase.\"\"\"\n",
    "        self.data[\"processed_text\"] = self.data[\"processed_text\"].str.lower()"
   ]
  },
  {
   "cell_type": "markdown",
   "metadata": {
    "id": "gotJ-Q6EAJaa"
   },
   "source": [
    "Number of rows: 129971\n",
    "\n",
    "if rows with missing values were removed using data.dropna()\n",
    "Number of rows: 22387\n",
    "\n",
    "too less rows after dropping the rows with no data, so decided to fill the missing values insted"
   ]
  },
  {
   "cell_type": "code",
   "execution_count": 11,
   "metadata": {
    "colab": {
     "base_uri": "https://localhost:8080/"
    },
    "id": "SGpjwGpgWlBe",
    "outputId": "2f306476-5541-4c1c-874a-e3229ec8b797"
   },
   "outputs": [
    {
     "name": "stdout",
     "output_type": "stream",
     "text": [
      "Downloading from https://www.kaggle.com/api/v1/datasets/download/zynicide/wine-reviews?dataset_version_number=4...\n"
     ]
    },
    {
     "name": "stderr",
     "output_type": "stream",
     "text": [
      "100%|██████████| 50.9M/50.9M [00:12<00:00, 4.20MB/s]"
     ]
    },
    {
     "name": "stdout",
     "output_type": "stream",
     "text": [
      "Extracting files...\n"
     ]
    },
    {
     "name": "stderr",
     "output_type": "stream",
     "text": [
      "\n"
     ]
    },
    {
     "name": "stdout",
     "output_type": "stream",
     "text": [
      "Path to dataset files: /root/.cache/kagglehub/datasets/zynicide/wine-reviews/versions/4\n",
      "Dataset files: ['winemag-data-130k-v2.json', 'winemag-data_first150k.csv', 'winemag-data-130k-v2.csv']\n",
      "Missing values: Unnamed: 0               0\n",
      "country                  0\n",
      "description              0\n",
      "designation              0\n",
      "points                   0\n",
      "price                    0\n",
      "province                 0\n",
      "region_1                 0\n",
      "region_2                 0\n",
      "taster_name              0\n",
      "taster_twitter_handle    0\n",
      "title                    0\n",
      "variety                  0\n",
      "winery                   0\n",
      "dtype: int64\n",
      "Number of rows: 129971\n"
     ]
    }
   ],
   "source": [
    "processor = WineReviewProcessor(dataset_name=\"zynicide/wine-reviews\")\n",
    "processor.convert_to_lowercase()\n",
    "processed_texts = processor.get_processed_data()"
   ]
  },
  {
   "cell_type": "code",
   "execution_count": 12,
   "metadata": {
    "colab": {
     "base_uri": "https://localhost:8080/"
    },
    "id": "ec-I-9w3Wktm",
    "outputId": "7fa8f71a-110f-4499-b2a2-aaa3bc1ddd4c"
   },
   "outputs": [
    {
     "data": {
      "text/plain": [
       "[\"wine review : italy : sicily & sardinia : white blend : aromas include tropical fruit, broom, brimstone and dried herb. the palate isn't overly expressive, offering unripened apple, citrus and dried sage alongside brisk acidity.\",\n",
       " \"wine review : portugal : douro : portuguese red : this is ripe and fruity, a wine that is smooth while still structured. firm tannins are filled out with juicy red berry fruits and freshened with acidity. it's  already drinkable, although it will certainly be better from 2016.\",\n",
       " 'wine review : us : oregon : pinot gris : tart and snappy, the flavors of lime flesh and rind dominate. some green pineapple pokes through, with crisp acidity underscoring the flavors. the wine was all stainless-steel fermented.']"
      ]
     },
     "execution_count": 12,
     "metadata": {},
     "output_type": "execute_result"
    }
   ],
   "source": [
    "processed_texts[:3]"
   ]
  },
  {
   "cell_type": "markdown",
   "metadata": {
    "id": "aEyxtTOiWlZW"
   },
   "source": [
    "# Tokenizer"
   ]
  },
  {
   "cell_type": "code",
   "execution_count": 13,
   "metadata": {
    "id": "02HH_t-QBIUR"
   },
   "outputs": [],
   "source": [
    "def tokenize_text(text):\n",
    "    \"\"\"\n",
    "    Tokenizes the text and creates a frequency dictionary of tokens.\n",
    "    - Splits by spaces, hyphens, and special characters.\n",
    "    - Replaces numbers with <NUM>.\n",
    "    - Applies lemmatization to words.\n",
    "    - Converts contractions like \"isn't\" to \"isnt\".\n",
    "    - Removes unwanted characters.\n",
    "    \"\"\"\n",
    "    # Create a dictionary to store token frequencies\n",
    "    token_dict = defaultdict(int)\n",
    "\n",
    "    # Initialize the lemmatizer\n",
    "    lemmatizer = WordNetLemmatizer()\n",
    "\n",
    "    # Define a regular expression that matches words, numbers, periods, and colons\n",
    "    regex = r\"[a-zA-Z]+|\\d+|[.:]+\"\n",
    "\n",
    "    # Replace contractions with simplified forms\n",
    "    text = re.sub(r\"'\", \"\", text)\n",
    "\n",
    "    # Find all matches based on the regex\n",
    "    tokens = re.findall(regex, text)\n",
    "\n",
    "    # Loop through the tokens\n",
    "    for token in tokens:\n",
    "        token = token.lower()\n",
    "\n",
    "        if token.isdigit():\n",
    "            # Replace numbers with <NUM>\n",
    "            token_dict[\"<NUM>\"] += 1\n",
    "        elif token in {\".\", \":\"}:  # Keep periods and colons as is\n",
    "            token_dict[token] += 1\n",
    "        else:\n",
    "            # Apply lemmatization to words\n",
    "            lemmatized_token = lemmatizer.lemmatize(token)\n",
    "            token_dict[lemmatized_token] += 1\n",
    "\n",
    "    return token_dict"
   ]
  },
  {
   "cell_type": "code",
   "execution_count": 14,
   "metadata": {
    "colab": {
     "base_uri": "https://localhost:8080/",
     "height": 139
    },
    "id": "IbEVAc99B1LY",
    "outputId": "ae895058-8ef9-463a-cb84-e4b4549dab5b"
   },
   "outputs": [
    {
     "data": {
      "text/plain": [
       "\"wine review : italy : sicily & sardinia : white blend : aromas include tropical fruit, broom, brimstone and dried herb. the palate isn't overly expressive, offering unripened apple, citrus and dried sage alongside brisk acidity. : wine review : portugal : douro : portuguese red : this is ripe and fruity, a wine that is smooth while still structured. firm tannins are filled out with juicy red berry fruits and freshened with acidity. it's  already drinkable, although it will certainly be better from 2016. : wine review : us : oregon : pinot gris : tart and snappy, the flavors of lime flesh and rind dominate. some green pineapple pokes through, with crisp acidity underscoring the flavors. the wine was all stainless-steel fermented. : wine review : us : michigan : riesling : pineapple rind, lemon pith and orange blossom start off the aromas. the palate is a bit more opulent, with notes of honey-drizzled guava and mango giving way to a slightly astringent, semidry finish. : wine review : us\""
      ]
     },
     "execution_count": 14,
     "metadata": {},
     "output_type": "execute_result"
    }
   ],
   "source": [
    "my_text = \" : \".join(processed_texts)\n",
    "my_text[:1000]"
   ]
  },
  {
   "cell_type": "code",
   "execution_count": 12,
   "metadata": {
    "id": "ygVYesfLBINJ"
   },
   "outputs": [],
   "source": [
    "def save_vocab_to_json(token_dict, filename=\"vocab.json\"):\n",
    "    \"\"\"\n",
    "    Saves the vocabulary dictionary to a JSON file.\n",
    "    The format will be:\n",
    "    { 'vocab': [{'token': 'word', 'index': 0, 'count': 5}, ...] }\n",
    "    \"\"\"\n",
    "    # Sort tokens by frequency in descending order\n",
    "    sorted_tokens = sorted(token_dict.items(), key=lambda item: item[1], reverse=True)\n",
    "\n",
    "    # Build the list of vocab entries with token, index, and count\n",
    "    vocab_list = [{'token': str(token).strip(), 'index': idx, 'count': count} for idx, (token, count) in enumerate(sorted_tokens)]\n",
    "\n",
    "    # Prepare the dictionary to be saved\n",
    "    vocab_json = {'vocab': vocab_list}\n",
    "\n",
    "    # Save to JSON file\n",
    "    with open(filename, 'w') as f:\n",
    "        json.dump(vocab_json, f, indent=4)\n",
    "\n",
    "token_dict = tokenize_text(my_text.lower())\n",
    "save_vocab_to_json(token_dict, \"vocab.json\")"
   ]
  },
  {
   "cell_type": "code",
   "execution_count": 15,
   "metadata": {
    "id": "Fdxe52wNVWB8"
   },
   "outputs": [],
   "source": [
    "class Tokenizer:\n",
    "    def __init__(self, vocab_file=\"vocab.json\", verbose=False):\n",
    "        \"\"\"\n",
    "        Initializes the tokenizer by loading the vocab file.\n",
    "        \"\"\"\n",
    "        self.vocab_file = vocab_file\n",
    "        self.vocab = self.load_vocab()\n",
    "        self.verbose = verbose\n",
    "        self.token_to_id = {item['token']: item['index'] for item in self.vocab}\n",
    "        self.id_to_token = {item['index']: item['token'] for item in self.vocab}\n",
    "        self.lemmatizer = WordNetLemmatizer()\n",
    "\n",
    "    def load_vocab(self):\n",
    "        \"\"\"Loads the vocabulary from the vocab file.\"\"\"\n",
    "        try:\n",
    "            with open(self.vocab_file, 'r') as f:\n",
    "                vocab_data = json.load(f)\n",
    "                return vocab_data['vocab']\n",
    "        except FileNotFoundError:\n",
    "            raise FileNotFoundError(f\"Vocabulary file '{self.vocab_file}' not found.\")\n",
    "\n",
    "    def encode(self, text):\n",
    "        \"\"\"Encodes the text into a list of token IDs.\"\"\"\n",
    "        # Define a regular expression that matches words, numbers, periods, and colons\n",
    "        regex = r\"[a-zA-Z]+|\\d+|[.:]+\"\n",
    "\n",
    "        # Replace contractions with simplified forms (like \"isn't\" to \"isnt\")\n",
    "        text = re.sub(r\"'\", \"\", text)\n",
    "\n",
    "        # Find all matches based on the regex\n",
    "        tokens = re.findall(regex, text)\n",
    "\n",
    "        encoded = []\n",
    "\n",
    "        # Loop through the tokens and process them\n",
    "        for token in tokens:\n",
    "            token = token.lower()\n",
    "\n",
    "            if token.isdigit():\n",
    "                # Replace numbers with <NUM>\n",
    "                token = \"<NUM>\"\n",
    "            elif token in {\".\", \":\"}:  # Keep periods and colons as is\n",
    "                pass\n",
    "            else:\n",
    "                # Apply lemmatization to words\n",
    "                token = self.lemmatizer.lemmatize(token)\n",
    "\n",
    "            # Check if the token is in the vocabulary\n",
    "            if token in self.token_to_id:\n",
    "                encoded.append(self.token_to_id[token])\n",
    "            else:\n",
    "                encoded.append(self.token_to_id.get(\"[UNK]\", -1))\n",
    "                if self.verbose:\n",
    "                    print(f\"Token -> {token} <- not found in vocab\")\n",
    "\n",
    "        return encoded\n",
    "\n",
    "    def decode(self, encoded):\n",
    "        \"\"\"Decodes the list of token IDs back into a text string.\"\"\"\n",
    "        return ' '.join([self.id_to_token.get(idx, '[UNK]') for idx in encoded])\n",
    "\n",
    "    def get_vocab_size(self):\n",
    "        \"\"\"Returns the size of the vocabulary.\"\"\"\n",
    "        return len(self.vocab)\n",
    "\n",
    "    def limit_vocab_size(self, max_size):\n",
    "        \"\"\"\n",
    "        Limits the vocabulary size to the most frequent `max_size` tokens.\n",
    "\n",
    "        :param max_size: The maximum number of tokens to keep in the vocabulary.\n",
    "        \"\"\"\n",
    "        # Sort the vocab by index (or frequency, if you store it)\n",
    "        sorted_vocab = sorted(self.vocab, key=lambda x: x['index'])[:max_size]\n",
    "\n",
    "        # Rebuild the token_to_id and id_to_token mappings\n",
    "        self.vocab = sorted_vocab\n",
    "        self.token_to_id = {item['token']: item['index'] for item in self.vocab}\n",
    "        self.id_to_token = {item['index']: item['token'] for item in self.vocab}\n",
    "\n",
    "        print(f\"Vocabulary limited to {max_size} tokens.\")\n",
    "        print(f\"New vocab size: {len(self.vocab)}\")"
   ]
  },
  {
   "cell_type": "code",
   "execution_count": 16,
   "metadata": {
    "colab": {
     "base_uri": "https://localhost:8080/"
    },
    "id": "KMe5aNKnHG_f",
    "outputId": "3313dc81-c017-4a74-b34d-875699ad972a"
   },
   "outputs": [
    {
     "name": "stdout",
     "output_type": "stream",
     "text": [
      "[12711, 10163, 3, -1, 759, -1, 65, 43, 4388, -1, 15, 110, 4944, 1]\n",
      "14\n",
      "hello mom the [UNK] run [UNK] well for my [UNK] <NUM> like model .\n"
     ]
    }
   ],
   "source": [
    "coustom_tokenizer = Tokenizer(vocab_file=\"vocab.json\")\n",
    "text = \"Hello mom! The tokenizer runs prety well for my GPT2 like model.\"\n",
    "\n",
    "encode = coustom_tokenizer.encode(text)\n",
    "print(encode)\n",
    "print(len(encode))\n",
    "print(coustom_tokenizer.decode(encode))"
   ]
  },
  {
   "cell_type": "markdown",
   "metadata": {
    "id": "D8rU6zcgHI5n"
   },
   "source": [
    "### In the end due to issues, decided to use GPT-2, BPE tokenizer\n",
    "\n",
    "1. Custom tokenizer vocab count: 29262\n",
    "2. gpt2 tokenizer vocab count: 50257"
   ]
  },
  {
   "cell_type": "code",
   "execution_count": 17,
   "metadata": {
    "colab": {
     "base_uri": "https://localhost:8080/",
     "height": 301,
     "referenced_widgets": [
      "bd1413c016134ff7a2c4764c72345a82",
      "1726d4b70ff446cfa5ea11334cf97aae",
      "f016c25224e74256abd67b35e51226a5",
      "5e77f22c00af4e368a3f1f2b850ce098",
      "3e17f4071c364313b1706c770d245f03",
      "ce0b7463f6b24752949750734638e3ac",
      "808aeb5a17a049a2a8ddecd14885bb29",
      "9e2143ee42c44d5a8b12aa74557bc97b",
      "e538cf111f624dfcba5341e2d569fbd9",
      "21d37f9f92ce408cb3776e9b1ccd91bf",
      "8b8b502d489a4b57bb769b13097a1055",
      "8d911457d9b9495592458fe3972f971c",
      "63476e74d8b640f68752269072a686f9",
      "b2e1b92ed15b4ef88af81c0f4cff7a24",
      "ae879949818849ddbd472e0fc86b7339",
      "d0e297062af244f9a02828b8598472ca",
      "ae9c313c155c4fcd94c464e815a6d6f3",
      "b91b019f7ed14156918f4859c7217503",
      "25847d0829e943d99172c2d35dfd0571",
      "bcfa7961ebec4136ba7883459c0aa614",
      "d42e02790d1a455287ad9077bae24034",
      "47c2a4c37287478e81a29a8859824836",
      "0502dd676c5147e2895c450792155c3e",
      "2b8984637ef24c69b20cde7d91ba0afb",
      "e10686a22abe44cfab2c2b02bce03ca4",
      "0c26980e27444c7b8dd737276c5fba67",
      "68031ca9650a41e68d7667422b943fda",
      "0c24eb5a807440638d29b35ba63225a3",
      "ab8607cedd0242128984b2c830ba2650",
      "a5b07a38e84347718b53fc6250ad4a2f",
      "478ee77bf60e4fa8bb02b03441deb450",
      "f2e1d05c665941dfaa1168ae163edc32",
      "1ad9e943297b43f8b6b31e0a984fa464",
      "6e7452ecc290425891e97fc6685b0cab",
      "25789fa40d8c458291bffd897ac28d60",
      "881e616f3c7148f7ae4cdc5a333dba97",
      "b3209aeca11b4771a8f2d4c7bc83b133",
      "1bd50b7f9dcf4e9ea67f882d6f054099",
      "eb8a660876324ad09bbfceac93a9c8db",
      "731ad362a5104782a0e17453677396da",
      "0399a5aa39ac42149425b523e71c975c",
      "bed5f3c6a81c441a9834f38b281c8aa5",
      "afe360c07e1b4eff97b997638bc11c56",
      "62fbc6e89ec349a58f00e8fe22cdbde4",
      "c90c9924dddd41ca9f6afb95f568debb",
      "6b5e0379b3554e1ebb04829a1382ede7",
      "d6df03e691f74934be425527bc13f663",
      "dcf0eecca2954aa0b52811fd3a591f91",
      "bbe5b7d37e4e43d8874db79ff2007352",
      "02bea01c959f4ff9b6ae9f5efd0514a8",
      "b4fadcef45a1453f86ad2612e0682e91",
      "43a7d8123641467ab7714f1c06483b27",
      "4a22c68a94134c3e961d1d37afa53f8a",
      "38b3d0d7494e42aea89226f5d9b51bb6",
      "4ce57d1c262841819202c4ec99881170"
     ]
    },
    "id": "9sQR4hKLBICN",
    "outputId": "a4f97677-84a6-41ee-eaf2-cac2426d0a2b"
   },
   "outputs": [
    {
     "data": {
      "application/vnd.jupyter.widget-view+json": {
       "model_id": "ed10df31f58e4306b49e3e2e7b658790",
       "version_major": 2,
       "version_minor": 0
      },
      "text/plain": [
       "tokenizer_config.json:   0%|          | 0.00/26.0 [00:00<?, ?B/s]"
      ]
     },
     "metadata": {},
     "output_type": "display_data"
    },
    {
     "data": {
      "application/vnd.jupyter.widget-view+json": {
       "model_id": "06f72d702dcf4f23b01dfc523ce1a0bb",
       "version_major": 2,
       "version_minor": 0
      },
      "text/plain": [
       "vocab.json:   0%|          | 0.00/1.04M [00:00<?, ?B/s]"
      ]
     },
     "metadata": {},
     "output_type": "display_data"
    },
    {
     "data": {
      "application/vnd.jupyter.widget-view+json": {
       "model_id": "ede1b1dea8824665956450e41acc4077",
       "version_major": 2,
       "version_minor": 0
      },
      "text/plain": [
       "merges.txt:   0%|          | 0.00/456k [00:00<?, ?B/s]"
      ]
     },
     "metadata": {},
     "output_type": "display_data"
    },
    {
     "data": {
      "application/vnd.jupyter.widget-view+json": {
       "model_id": "4d6f2234debd408ebb6fa680f028c080",
       "version_major": 2,
       "version_minor": 0
      },
      "text/plain": [
       "tokenizer.json:   0%|          | 0.00/1.36M [00:00<?, ?B/s]"
      ]
     },
     "metadata": {},
     "output_type": "display_data"
    },
    {
     "data": {
      "application/vnd.jupyter.widget-view+json": {
       "model_id": "fd74d04618f2405687658430c6f4965c",
       "version_major": 2,
       "version_minor": 0
      },
      "text/plain": [
       "config.json:   0%|          | 0.00/665 [00:00<?, ?B/s]"
      ]
     },
     "metadata": {},
     "output_type": "display_data"
    }
   ],
   "source": [
    "tokenizer = GPT2Tokenizer.from_pretrained('gpt2')\n",
    "tokenizer.pad_token = tokenizer.eos_token #to fix error with padding"
   ]
  },
  {
   "cell_type": "code",
   "execution_count": 24,
   "metadata": {
    "colab": {
     "base_uri": "https://localhost:8080/"
    },
    "id": "oNDXP9ZvJF55",
    "outputId": "bbf39bbb-2fbe-4e64-ae04-8f4924a66af3"
   },
   "outputs": [
    {
     "name": "stdout",
     "output_type": "stream",
     "text": [
      "[15496, 1995, 0, 383, 11241, 7509, 4539, 662, 774, 880, 329, 616, 402, 11571, 17, 588, 2746, 13]\n",
      "18\n",
      "Hello mom! The tokenizer runs prety well for my GPT2 like model.\n"
     ]
    }
   ],
   "source": [
    "encode = tokenizer.encode(text)\n",
    "print(encode)\n",
    "print(len(encode))\n",
    "print(tokenizer.decode(encode))"
   ]
  },
  {
   "cell_type": "markdown",
   "metadata": {
    "id": "cHfyslgrJQZ4"
   },
   "source": [
    "# N-gram model"
   ]
  },
  {
   "cell_type": "code",
   "execution_count": 30,
   "metadata": {
    "id": "jdc2sNAzJQJH"
   },
   "outputs": [],
   "source": [
    "def generate_ngrams(text, n):\n",
    "    words = text.split()\n",
    "    ngrams = zip(*[words[i:] for i in range(n)])\n",
    "    return [\" \".join(ngram) for ngram in ngrams]\n",
    "\n",
    "def generate_text(context, ngram_counts, n, num_words):\n",
    "    generated_text = context\n",
    "    for _ in range(num_words):\n",
    "        next_word = predict_next_word(generated_text, ngram_counts)\n",
    "        if not next_word:\n",
    "            break  # Stop if no prediction is possible\n",
    "        generated_text += \" \" + next_word\n",
    "    return generated_text\n",
    "\n",
    "def predict_next_word(context, ngram_counts):\n",
    "    context = context.strip().split()\n",
    "    if len(context) < n - 1:\n",
    "        raise ValueError(f\"Context must have at least {n - 1} words for an {n}-gram model.\")\n",
    "\n",
    "    # Get the last n-1 words of the context\n",
    "    context_key = \" \".join(context[-(n - 1):])\n",
    "\n",
    "    # Find all n-grams that start with the context\n",
    "    candidates = {ngram: count for ngram, count in ngram_counts.items() if ngram.startswith(context_key)}\n",
    "\n",
    "    if not candidates:\n",
    "        return None  # No prediction possible\n",
    "\n",
    "    total_count = sum(candidates.values())\n",
    "    probabilities = {ngram: count / total_count for ngram, count in candidates.items()}\n",
    "\n",
    "    # Adding repoducibility\n",
    "    random.seed(13)\n",
    "    next_word = random.choices(\n",
    "        population=[ngram.split()[-1] for ngram in candidates.keys()],\n",
    "        weights=probabilities.values()\n",
    "    )[0]\n",
    "\n",
    "    return next_word"
   ]
  },
  {
   "cell_type": "markdown",
   "metadata": {
    "id": "2s-NZ5rzJssO"
   },
   "source": [
    "## Tri-gram"
   ]
  },
  {
   "cell_type": "code",
   "execution_count": 38,
   "metadata": {
    "colab": {
     "base_uri": "https://localhost:8080/"
    },
    "id": "jgtsV5sDJP9q",
    "outputId": "8d4b60cb-9aea-42ce-8c5c-b202cd1f592b"
   },
   "outputs": [
    {
     "name": "stdout",
     "output_type": "stream",
     "text": [
      "Top 10 most common 3-grams:\n",
      "[('wine review :', 129971), ('review : us', 54504), (': us :', 54504), ('us : california', 36247), (': california :', 36247), ('review : france', 22093), (': france :', 22093), ('review : italy', 19540), (': italy :', 19540), ('red blend :', 17458)]\n"
     ]
    }
   ],
   "source": [
    "n = 3\n",
    "all_ngrams = []\n",
    "for text in processed_texts:\n",
    "    all_ngrams.extend(generate_ngrams(text, n))\n",
    "\n",
    "ngram_counts = Counter(all_ngrams)\n",
    "\n",
    "print(f\"Top 10 most common {n}-grams:\")\n",
    "print(ngram_counts.most_common(10))"
   ]
  },
  {
   "cell_type": "code",
   "execution_count": 40,
   "metadata": {
    "colab": {
     "base_uri": "https://localhost:8080/"
    },
    "id": "P8FlWEjGKhZd",
    "outputId": "40210843-e599-4f47-900c-3ac890a656ba"
   },
   "outputs": [
    {
     "name": "stdout",
     "output_type": "stream",
     "text": [
      "wine review : portugal : douro :\n",
      "wine review : portugal : douro : portuguese red : this is a fine example of the best wines it was aged in 30% new french oak the this and make for a 3–4 years screwcap.\n"
     ]
    }
   ],
   "source": [
    "context = \"wine review : portugal : douro :\"\n",
    "print(context)\n",
    "# Number of words to predict\n",
    "num_words = 30\n",
    "print(generate_text(context, ngram_counts, n, num_words))"
   ]
  },
  {
   "cell_type": "markdown",
   "metadata": {
    "id": "oBmCm0iQK1Y5"
   },
   "source": [
    "## Bi-gram"
   ]
  },
  {
   "cell_type": "code",
   "execution_count": 41,
   "metadata": {
    "colab": {
     "base_uri": "https://localhost:8080/"
    },
    "id": "HBkLNuLLKiOP",
    "outputId": "12d0d5bb-f4d0-4c14-b59b-04c77505dce6"
   },
   "outputs": [
    {
     "name": "stdout",
     "output_type": "stream",
     "text": [
      "Top 10 most common 2-grams:\n",
      "[('wine review', 129971), ('review :', 129971), (': us', 54504), ('us :', 54504), (': california', 36257), ('california :', 36247), ('on the', 33195), (': this', 28766), ('blend :', 25730), ('this is', 24744)]\n",
      "\n",
      "\n",
      "wine review : portugal : douro : pinot noir : pinot noir : pinot noir : pinot noir : pinot noir : pinot noir : pinot noir : pinot noir : pinot noir : pinot noir :\n"
     ]
    }
   ],
   "source": [
    "n = 2\n",
    "all_ngrams = []\n",
    "for text in processed_texts:\n",
    "    all_ngrams.extend(generate_ngrams(text, n))\n",
    "\n",
    "ngram_counts = Counter(all_ngrams)\n",
    "\n",
    "num_words = 30\n",
    "\n",
    "print(f\"Top 10 most common {n}-grams:\")\n",
    "print(ngram_counts.most_common(10))\n",
    "print(\"\\n\")\n",
    "print(generate_text(context, ngram_counts, n, num_words))"
   ]
  },
  {
   "cell_type": "markdown",
   "metadata": {
    "id": "Ef8RzgmdLEca"
   },
   "source": [
    "## 4-gram"
   ]
  },
  {
   "cell_type": "code",
   "execution_count": 42,
   "metadata": {
    "colab": {
     "base_uri": "https://localhost:8080/"
    },
    "id": "hI9Dd0cTLEMF",
    "outputId": "ad94d778-61cd-4b46-ac9a-5b5d4f800f3a"
   },
   "outputs": [
    {
     "name": "stdout",
     "output_type": "stream",
     "text": [
      "Top 10 most common 4-grams:\n",
      "[('wine review : us', 54504), ('review : us :', 54504), (': us : california', 36247), ('us : california :', 36247), ('wine review : france', 22093), ('review : france :', 22093), ('wine review : italy', 19540), ('review : italy :', 19540), (': pinot noir :', 13272), (': cabernet sauvignon :', 9472)]\n",
      "\n",
      "\n",
      "wine review : portugal : douro : portuguese red : this is a great wine for a drink window\n"
     ]
    }
   ],
   "source": [
    "n = 4\n",
    "all_ngrams = []\n",
    "for text in processed_texts:\n",
    "    all_ngrams.extend(generate_ngrams(text, n))\n",
    "\n",
    "ngram_counts = Counter(all_ngrams)\n",
    "\n",
    "num_words = 30\n",
    "\n",
    "print(f\"Top 10 most common {n}-grams:\")\n",
    "print(ngram_counts.most_common(10))\n",
    "print(\"\\n\")\n",
    "print(generate_text(context, ngram_counts, n, num_words))"
   ]
  },
  {
   "cell_type": "markdown",
   "metadata": {
    "id": "-XxFOAeUQiO0"
   },
   "source": [
    "# GPT Architecture"
   ]
  },
  {
   "cell_type": "markdown",
   "metadata": {},
   "source": [
    "Model 1 : 11.6 million parameters\n",
    "Model 2 : 13.9 million parameters\n",
    "For reference, GPT-2 : 124 million parameters"
   ]
  },
  {
   "cell_type": "markdown",
   "metadata": {
    "id": "Y2T7HZp9RJ01"
   },
   "source": [
    "### Method 1. Following this [medium](https://medium.com/@vipul.koti333/from-theory-to-code-step-by-step-implementation-and-code-breakdown-of-gpt-2-model-7bde8d5cecda) article"
   ]
  },
  {
   "cell_type": "code",
   "execution_count": 43,
   "metadata": {
    "id": "Uc4FPyp5LEGv"
   },
   "outputs": [],
   "source": [
    "GPT_CONFIG_124M = {\n",
    "    \"vocab_size\": 16384,\n",
    "    \"context_length\": 64,\n",
    "    \"emb_dim\": 256,\n",
    "    \"batch_size\": 8,\n",
    "    \"n_heads\": 4,\n",
    "    \"n_layers\": 4,\n",
    "    \"drop_rate\": 0.1,\n",
    "    \"qkv_bias\": True\n",
    "}"
   ]
  },
  {
   "cell_type": "markdown",
   "metadata": {
    "id": "dO5-di50RulX"
   },
   "source": [
    "Hyperparameters used in the model:\n",
    "\n",
    "- **`vocab_size`**: Defines the vocabulary size, which in our case is 16,384 tokens.\n",
    "- **`context_length`**: Represents the model's maximum input token length, constrained by the positional embeddings.\n",
    "- **`emb_dim`**: Refers to the embedding size for token inputs, where each input token is converted into a 256-dimensional vector.\n",
    "- **`n_heads`**: Specifies the number of attention heads in the multi-head attention mechanism.\n",
    "- **`n_layers`**: Indicates the number of transformer blocks in the model, which will be implemented in the following sections.\n",
    "- **`drop_rate`**: Determines the intensity of the dropout mechanism, with a value of 0.1 implying that 10% of hidden units are dropped during training to reduce overfitting.\n",
    "- **`qkv_bias`**: Controls whether a bias vector is added in the Linear layers of the multi-head attention mechanism when computing the query (Q), key (K), and value (V) tensors.\n",
    "\n"
   ]
  },
  {
   "cell_type": "markdown",
   "metadata": {
    "id": "K2YXONEGTkAv"
   },
   "source": [
    "#### **GPT Model Breakdown:**\n",
    "\n",
    "1. **Token Embedding**\n",
    "2. **Positional Encoding**\n",
    "3. **Transformer Blocks**</br>\n",
    "   -a. Multi-Head Attention  \n",
    "   -b. Layer Normalization  \n",
    "   -c. Feed-Forward Neural Network\n",
    "4. **Output Layer**"
   ]
  },
  {
   "cell_type": "code",
   "execution_count": 4,
   "metadata": {
    "colab": {
     "base_uri": "https://localhost:8080/"
    },
    "id": "kgGK8clMK-tP",
    "outputId": "3b93c37f-c549-495c-dab3-302d2b2e6297"
   },
   "outputs": [
    {
     "name": "stdout",
     "output_type": "stream",
     "text": [
      "Embedding output shape: torch.Size([2, 10, 256])\n"
     ]
    }
   ],
   "source": [
    "# 1. Embedding Layer\n",
    "class Embedding(nn.Module):\n",
    "    def __init__(self, vocab_size, embed_size):\n",
    "        super().__init__()\n",
    "        self.embed = nn.Embedding(vocab_size, embed_size)\n",
    "\n",
    "    def forward(self, x):\n",
    "        return self.embed(x)\n",
    "\n",
    "embedding = Embedding(GPT_CONFIG_124M[\"vocab_size\"], GPT_CONFIG_124M[\"emb_dim\"])\n",
    "\n",
    "input_ids = torch.randint(0, GPT_CONFIG_124M[\"vocab_size\"], (2, 10))\n",
    "\n",
    "embed_output = embedding(input_ids)\n",
    "\n",
    "print(f\"Embedding output shape: {embed_output.shape}\")\n",
    "\n",
    "assert embed_output.shape == (2, 10, GPT_CONFIG_124M[\"emb_dim\"]), \"Embedding shape mismatch\""
   ]
  },
  {
   "cell_type": "code",
   "execution_count": 5,
   "metadata": {
    "colab": {
     "base_uri": "https://localhost:8080/"
    },
    "id": "RvHgdO9jS1Gl",
    "outputId": "c02dac1a-8a43-4ad4-c955-dab99208bc83"
   },
   "outputs": [
    {
     "name": "stdout",
     "output_type": "stream",
     "text": [
      "Positional Encoding output shape: torch.Size([2, 10, 256])\n"
     ]
    }
   ],
   "source": [
    "# 2. Positional Encoding\n",
    "class PositionalEncoding(nn.Module):\n",
    "    def __init__(self, embed_size, max_seq_length):\n",
    "        super().__init__()\n",
    "        pe = torch.zeros(max_seq_length, embed_size)\n",
    "\n",
    "        position = torch.arange(0, max_seq_length, dtype=torch.float).unsqueeze(1)\n",
    "\n",
    "        div_term = torch.exp(torch.arange(0, embed_size, 2).float() * -(math.log(10000.0) / embed_size))\n",
    "\n",
    "        pe[:, 0::2] = torch.sin(position * div_term)\n",
    "        pe[:, 1::2] = torch.cos(position * div_term)\n",
    "\n",
    "        self.register_buffer('pe', pe.unsqueeze(0))\n",
    "\n",
    "    def forward(self, x):\n",
    "        if torch.isnan(x).any():\n",
    "            print(\"NaN detected in input embeddings!\")\n",
    "\n",
    "        pos_encoded_x = x + self.pe[:, :x.size(1)]\n",
    "\n",
    "        if torch.isnan(pos_encoded_x).any():\n",
    "            print(\"NaN detected in positional encoding output!\")\n",
    "\n",
    "        return pos_encoded_x\n",
    "\n",
    "\n",
    "pos_encoding = PositionalEncoding(GPT_CONFIG_124M[\"emb_dim\"], GPT_CONFIG_124M[\"context_length\"])\n",
    "\n",
    "pos_output = pos_encoding(embed_output)\n",
    "\n",
    "print(f\"Positional Encoding output shape: {pos_output.shape}\")\n",
    "\n",
    "assert pos_output.shape == embed_output.shape, \"Positional Encoding shape mismatch\""
   ]
  },
  {
   "cell_type": "code",
   "execution_count": 6,
   "metadata": {
    "colab": {
     "base_uri": "https://localhost:8080/"
    },
    "id": "qTp_trntS1Db",
    "outputId": "8277a291-153e-44aa-cea2-24169ef18a80"
   },
   "outputs": [
    {
     "name": "stdout",
     "output_type": "stream",
     "text": [
      "Multi-Head Attention output shape: torch.Size([2, 10, 256])\n"
     ]
    }
   ],
   "source": [
    "# A. Multi-Head Attention\n",
    "class MultiHeadAttention(nn.Module):\n",
    "    def __init__(self, embed_size, num_heads, qkv_bias=False):\n",
    "        super().__init__()\n",
    "        self.embed_size = embed_size\n",
    "        self.num_heads = num_heads\n",
    "        self.head_dim = embed_size // num_heads\n",
    "\n",
    "        self.query = nn.Linear(embed_size, embed_size, bias=qkv_bias)\n",
    "        self.key = nn.Linear(embed_size, embed_size, bias=qkv_bias)\n",
    "        self.value = nn.Linear(embed_size, embed_size, bias=qkv_bias)\n",
    "        self.out = nn.Linear(embed_size, embed_size)\n",
    "\n",
    "    def forward(self, x, mask=None):\n",
    "        batch_size = x.shape[0]\n",
    "\n",
    "        q = self.query(x).view(batch_size, -1, self.num_heads, self.head_dim).transpose(1, 2)\n",
    "        k = self.key(x).view(batch_size, -1, self.num_heads, self.head_dim).transpose(1, 2)\n",
    "        v = self.value(x).view(batch_size, -1, self.num_heads, self.head_dim).transpose(1, 2)\n",
    "\n",
    "        attention = torch.matmul(q, k.transpose(-1, -2)) / math.sqrt(self.head_dim)\n",
    "        if mask is not None:\n",
    "            attention = attention.masked_fill(mask == 0, float('-inf'))\n",
    "        attention = torch.softmax(attention, dim=-1)\n",
    "\n",
    "        out = torch.matmul(attention, v)\n",
    "        out = out.transpose(1, 2).contiguous().view(batch_size, -1, self.embed_size)\n",
    "        return self.out(out)\n",
    "\n",
    "mha = MultiHeadAttention(GPT_CONFIG_124M[\"emb_dim\"], GPT_CONFIG_124M[\"n_heads\"])\n",
    "mha_output = mha(pos_output)\n",
    "print(f\"Multi-Head Attention output shape: {mha_output.shape}\")\n",
    "assert mha_output.shape == pos_output.shape, \"Multi-Head Attention shape mismatch\""
   ]
  },
  {
   "cell_type": "code",
   "execution_count": 7,
   "metadata": {
    "colab": {
     "base_uri": "https://localhost:8080/"
    },
    "id": "QOc1Fer2S09T",
    "outputId": "553fa5f2-1abf-4663-fdb4-dd65746138ca"
   },
   "outputs": [
    {
     "name": "stdout",
     "output_type": "stream",
     "text": [
      "LayerNorm output shape: torch.Size([2, 10, 256])\n",
      "LayerNorm test passed!\n"
     ]
    }
   ],
   "source": [
    "# 4. Layer Normalization\n",
    "class LayerNorm(nn.Module):\n",
    "    def __init__(self, emb_dim, eps=1e-5):\n",
    "        super().__init__()\n",
    "        self.eps = eps\n",
    "        self.scale = nn.Parameter(torch.ones(emb_dim))\n",
    "        self.shift = nn.Parameter(torch.zeros(emb_dim))\n",
    "\n",
    "    def forward(self, x):\n",
    "        mean = x.mean(dim=-1, keepdim=True)\n",
    "        var = x.var(dim=-1, keepdim=True, unbiased=False)\n",
    "\n",
    "        norm_x = (x - mean) / torch.sqrt(var + self.eps)\n",
    "\n",
    "        return self.scale * norm_x + self.shift\n",
    "\n",
    "emb_dim = GPT_CONFIG_124M[\"emb_dim\"]\n",
    "layer_norm = LayerNorm(emb_dim)\n",
    "\n",
    "batch_size = 2\n",
    "seq_length = 10\n",
    "input_tensor = torch.randn(batch_size, seq_length, emb_dim)\n",
    "\n",
    "ln_output = layer_norm(input_tensor)\n",
    "\n",
    "print(f\"LayerNorm output shape: {ln_output.shape}\")\n",
    "assert ln_output.shape == input_tensor.shape, \"LayerNorm output shape mismatch\"\n",
    "\n",
    "output_mean = ln_output.mean(dim=-1)\n",
    "output_var = ln_output.var(dim=-1, unbiased=False)\n",
    "\n",
    "assert torch.allclose(output_mean, torch.zeros(batch_size, seq_length), atol=1e-6), \"Mean is not close to 0\"\n",
    "\n",
    "assert torch.allclose(output_var, torch.ones(batch_size, seq_length), atol=1e-2), \"Variance is not close to 1\"\n",
    "\n",
    "print(\"LayerNorm test passed!\")"
   ]
  },
  {
   "cell_type": "code",
   "execution_count": 8,
   "metadata": {
    "colab": {
     "base_uri": "https://localhost:8080/"
    },
    "id": "HYo_RRI6S0z5",
    "outputId": "5c2fac91-07b4-470f-b7b3-0f352caefac4"
   },
   "outputs": [
    {
     "name": "stdout",
     "output_type": "stream",
     "text": [
      "Feed-Forward output shape: torch.Size([2, 10, 256])\n"
     ]
    }
   ],
   "source": [
    "# 5. Feed-Forward Network\n",
    "class FeedForward(nn.Module):\n",
    "    def __init__(self, embed_size, ff_hidden_size):\n",
    "        super().__init__()\n",
    "        self.fc1 = nn.Linear(embed_size, ff_hidden_size)\n",
    "        self.fc2 = nn.Linear(ff_hidden_size, embed_size)\n",
    "        self.gelu = nn.GELU()\n",
    "\n",
    "    def forward(self, x):\n",
    "        return self.fc2(self.gelu(self.fc1(x)))\n",
    "\n",
    "ff_hidden_size = GPT_CONFIG_124M[\"emb_dim\"] * 4\n",
    "ff = FeedForward(GPT_CONFIG_124M[\"emb_dim\"], ff_hidden_size)\n",
    "\n",
    "ff_output = ff(mha_output)\n",
    "\n",
    "print(f\"Feed-Forward output shape: {ff_output.shape}\")\n",
    "\n",
    "assert ff_output.shape == mha_output.shape, \"Feed-Forward shape mismatch\""
   ]
  },
  {
   "cell_type": "code",
   "execution_count": 9,
   "metadata": {
    "colab": {
     "base_uri": "https://localhost:8080/"
    },
    "id": "GXJNaQjoS642",
    "outputId": "11c7fc01-dd85-41cd-cc06-188319efac43"
   },
   "outputs": [
    {
     "name": "stdout",
     "output_type": "stream",
     "text": [
      "Transformer Block output shape: torch.Size([2, 10, 256])\n"
     ]
    }
   ],
   "source": [
    "# 6. Combined Transformer Block\n",
    "class TransformerBlock(nn.Module):\n",
    "    def __init__(self, embed_size, num_heads, ff_hidden_size, dropout=0.1, qkv_bias=False):\n",
    "        super().__init__()\n",
    "        self.mha = MultiHeadAttention(embed_size, num_heads, qkv_bias)\n",
    "        self.ff = FeedForward(embed_size, ff_hidden_size)\n",
    "        self.ln1 = nn.LayerNorm(embed_size)\n",
    "        self.ln2 = nn.LayerNorm(embed_size)\n",
    "        self.dropout = nn.Dropout(dropout)\n",
    "\n",
    "    def forward(self, x, mask=None):\n",
    "        attention_output = self.ln1(x + self.dropout(self.mha(x, mask)))\n",
    "        ff_output = self.ln2(attention_output + self.dropout(self.ff(attention_output)))\n",
    "        return ff_output\n",
    "\n",
    "transformer = TransformerBlock(GPT_CONFIG_124M[\"emb_dim\"], GPT_CONFIG_124M[\"n_heads\"], ff_hidden_size)\n",
    "\n",
    "transformer_output = transformer(pos_output)\n",
    "\n",
    "print(f\"Transformer Block output shape: {transformer_output.shape}\")\n",
    "\n",
    "assert transformer_output.shape == pos_output.shape, \"Transformer Block shape mismatch\""
   ]
  },
  {
   "cell_type": "code",
   "execution_count": 10,
   "metadata": {
    "colab": {
     "base_uri": "https://localhost:8080/"
    },
    "id": "osUflog6S62b",
    "outputId": "b12e66d1-0078-47ec-e5f0-7b0ce3397a82"
   },
   "outputs": [
    {
     "name": "stdout",
     "output_type": "stream",
     "text": [
      "GPT-2 Model output shape: torch.Size([2, 64, 16384])\n"
     ]
    }
   ],
   "source": [
    "# 7. GPT-2 Model\n",
    "class GPT2(nn.Module):\n",
    "    def __init__(self, config):\n",
    "        super().__init__()\n",
    "        self.embedding = Embedding(config[\"vocab_size\"], config[\"emb_dim\"])\n",
    "\n",
    "        self.positional_encoding = PositionalEncoding(config[\"emb_dim\"], config[\"context_length\"])\n",
    "\n",
    "        self.transformer_blocks = nn.ModuleList([\n",
    "            TransformerBlock(config[\"emb_dim\"], config[\"n_heads\"], config[\"emb_dim\"] * 4, config[\"drop_rate\"], config[\"qkv_bias\"])\n",
    "            for _ in range(config[\"n_layers\"])\n",
    "        ])\n",
    "\n",
    "        self.fc_out = nn.Linear(config[\"emb_dim\"], config[\"vocab_size\"])\n",
    "\n",
    "        self.dropout = nn.Dropout(config[\"drop_rate\"])\n",
    "\n",
    "    def forward(self, x, mask=None):\n",
    "        x = self.dropout(self.positional_encoding(self.embedding(x)))\n",
    "\n",
    "        for block in self.transformer_blocks:\n",
    "            x = block(x, mask)\n",
    "\n",
    "        return self.fc_out(x)\n",
    "\n",
    "\n",
    "model = GPT2(GPT_CONFIG_124M)\n",
    "\n",
    "input_ids = torch.randint(0, GPT_CONFIG_124M[\"vocab_size\"], (2, 64))\n",
    "\n",
    "output = model(input_ids)\n",
    "\n",
    "print(f\"GPT-2 Model output shape: {output.shape}\")\n",
    "\n",
    "assert output.shape == (2, 64, GPT_CONFIG_124M[\"vocab_size\"]), \"GPT-2 Model shape mismatch\""
   ]
  },
  {
   "cell_type": "code",
   "execution_count": null,
   "metadata": {
    "id": "7j4QQ2QfS6zo"
   },
   "outputs": [],
   "source": [
    "class GPT2Dataset(Dataset):\n",
    "    def __init__(self, tokenized_text, seq_length):\n",
    "        self.tokens = tokenized_text.squeeze(0)\n",
    "        self.seq_length = seq_length\n",
    "\n",
    "    def __len__(self):\n",
    "        return len(self.tokens) // self.seq_length\n",
    "\n",
    "    def __getitem__(self, idx):\n",
    "        start = idx * self.seq_length\n",
    "        end = start + self.seq_length\n",
    "        input_ids = self.tokens[start:end]\n",
    "        target_ids = input_ids.clone()\n",
    "        return input_ids, target_ids"
   ]
  },
  {
   "cell_type": "code",
   "execution_count": null,
   "metadata": {
    "id": "fbfs3XNTS6wu"
   },
   "outputs": [],
   "source": [
    "class ChunkedDataset(Dataset):\n",
    "    def __init__(self, tokenized_text, context_length):\n",
    "        \"\"\"\n",
    "        Initializes the dataset with tokenized text and context length.\n",
    "        tokenized_text: List of tokenized text (list of lists of token IDs).\n",
    "        context_length: The length of each chunk.\n",
    "        \"\"\"\n",
    "        self.tokens = tokenized_text\n",
    "        self.context_length = context_length\n",
    "\n",
    "    def __len__(self):\n",
    "        total_tokens = sum(len(text) for text in self.tokens)\n",
    "        return total_tokens // self.context_length\n",
    "\n",
    "    def __getitem__(self, idx):\n",
    "        current_token_index = idx * self.context_length\n",
    "        chunk = []\n",
    "        current_text_index = 0\n",
    "\n",
    "        while len(chunk) < self.context_length and current_text_index < len(self.tokens):\n",
    "            text = self.tokens[current_text_index]\n",
    "            start = current_token_index - sum(len(t) for t in self.tokens[:current_text_index])\n",
    "            end = min(len(text), start + (self.context_length - len(chunk)))\n",
    "\n",
    "            chunk.extend(text[start:end])  # Add tokens from the current sequence\n",
    "            current_token_index += end - start\n",
    "            current_text_index += 1\n",
    "\n",
    "        padding_length = self.context_length - len(chunk)\n",
    "        if padding_length > 0:\n",
    "            chunk = chunk + [0] * padding_length\n",
    "        elif padding_length < 0:\n",
    "            chunk = chunk[:self.context_length]\n",
    "\n",
    "        return torch.tensor(chunk), torch.tensor(chunk)\n"
   ]
  },
  {
   "cell_type": "code",
   "execution_count": null,
   "metadata": {
    "id": "JnhTgvwhTx6k"
   },
   "outputs": [],
   "source": [
    "from torch.utils.data import random_split\n",
    "\n",
    "tokenized_input = tokenizer.encode(joined_string)\n",
    "tokenized_text = [tokenized_input[i:i + GPT_CONFIG_124M[\"context_length\"]] for i in range(0, len(tokenized_input), GPT_CONFIG_124M[\"context_length\"])]\n",
    "\n",
    "# Split dataset into training and validation (e.g., 90% train, 10% validation)\n",
    "train_size = int(0.9 * len(tokenized_text))\n",
    "val_size = len(tokenized_text) - train_size\n",
    "\n",
    "train_dataset = ChunkedDataset(tokenized_text[:train_size], GPT_CONFIG_124M[\"context_length\"])\n",
    "val_dataset = ChunkedDataset(tokenized_text[train_size:], GPT_CONFIG_124M[\"context_length\"])\n",
    "\n",
    "train_dataloader = DataLoader(train_dataset, batch_size=GPT_CONFIG_124M[\"batch_size\"], shuffle=True)\n",
    "val_dataloader = DataLoader(val_dataset, batch_size=GPT_CONFIG_124M[\"batch_size\"], shuffle=False)\n"
   ]
  },
  {
   "cell_type": "code",
   "execution_count": null,
   "metadata": {
    "id": "A_MvcMJdTxyy"
   },
   "outputs": [],
   "source": [
    "\n",
    "model = GPT2(GPT_CONFIG_124M)\n",
    "device = torch.device(\"cuda\")\n",
    "model.to(device)\n",
    "\n",
    "# optimizer and loss function\n",
    "optimizer = optim.AdamW(model.parameters(), lr=2e-4)\n",
    "criterion = nn.CrossEntropyLoss()\n",
    "\n",
    "run_name = f\"run_{datetime.now().strftime('%Y%m%d_%H%M%S')}\"\n",
    "writer = SummaryWriter(log_dir=f\"./logs/{run_name}\")  # Create a log directory for TensorBoard\n",
    "\n",
    "# Training loop\n",
    "num_epochs = 5\n",
    "for epoch in range(num_epochs):\n",
    "    print(f\"Training epoch {epoch + 1}...\")\n",
    "    model.train()\n",
    "    total_train_loss = 0\n",
    "\n",
    "    # Training phase\n",
    "    for batch_idx, (input_ids, targets) in enumerate(train_dataloader):\n",
    "        input_ids, targets = input_ids.to(device), targets.to(device)\n",
    "\n",
    "        outputs = model(input_ids)\n",
    "\n",
    "        logits = outputs.view(-1, GPT_CONFIG_124M[\"vocab_size\"])  # Flatten for CrossEntropyLoss\n",
    "        targets = targets.view(-1)  # Flatten targets\n",
    "\n",
    "        loss = criterion(logits, targets)\n",
    "\n",
    "        optimizer.zero_grad()\n",
    "        loss.backward()\n",
    "        optimizer.step()\n",
    "\n",
    "        total_train_loss += loss.item()\n",
    "\n",
    "        if (batch_idx + 1) % 1000 == 0:  # Log every 1000 batches\n",
    "            print(f\"Epoch [{epoch + 1}/{num_epochs}], Step [{batch_idx + 1}/{len(train_dataloader)}], Loss: {loss.item():.6f}\")\n",
    "\n",
    "        writer.add_scalar('Loss/train', loss.item(), epoch * len(train_dataloader) + batch_idx)\n",
    "\n",
    "    print(f\"Epoch [{epoch + 1}/{num_epochs}] finished. Average Training Loss: {total_train_loss / len(train_dataloader):.4f}\")\n",
    "\n",
    "    # Validation phase\n",
    "    model.eval()\n",
    "    total_val_loss = 0\n",
    "    with torch.no_grad():\n",
    "        for batch_idx, (input_ids, targets) in enumerate(val_dataloader):\n",
    "            input_ids, targets = input_ids.to(device), targets.to(device)\n",
    "\n",
    "            outputs = model(input_ids)\n",
    "\n",
    "            logits = outputs.view(-1, GPT_CONFIG_124M[\"vocab_size\"])  # Flatten for CrossEntropyLoss\n",
    "            targets = targets.view(-1)  # Flatten targets\n",
    "\n",
    "            loss = criterion(logits, targets)\n",
    "            total_val_loss += loss.item()\n",
    "\n",
    "        writer.add_scalar('Loss/val', total_val_loss / len(val_dataloader), epoch)\n",
    "\n",
    "    print(f\"Epoch [{epoch + 1}/{num_epochs}] finished. Average Validation Loss: {total_val_loss / len(val_dataloader):.4f}\")\n",
    "\n",
    "writer.close()\n",
    "\n",
    "print(\"Training completed.\")"
   ]
  },
  {
   "cell_type": "code",
   "execution_count": null,
   "metadata": {
    "id": "yc4OVE8hccuw"
   },
   "outputs": [],
   "source": [
    "model_save_path = \"gpt2_medium.pth\"\n",
    "torch.save(model.state_dict(), model_save_path)\n",
    "print(f\"Model saved to {model_save_path}\")"
   ]
  },
  {
   "cell_type": "markdown",
   "metadata": {
    "id": "JPGKpN42UEAi"
   },
   "source": [
    "#### **Generate output using GPT-2 Model**"
   ]
  },
  {
   "cell_type": "code",
   "execution_count": 16,
   "metadata": {
    "colab": {
     "base_uri": "https://localhost:8080/"
    },
    "id": "e676l-HvTxtq",
    "outputId": "0467c74c-caf1-483b-e87f-f6070cd7d3a0"
   },
   "outputs": [
    {
     "name": "stdout",
     "output_type": "stream",
     "text": [
      "Vocabulary limited to 16384 tokens.\n",
      "New vocab size: 16384\n"
     ]
    },
    {
     "name": "stderr",
     "output_type": "stream",
     "text": [
      "<ipython-input-16-369f1b5616a1>:18: FutureWarning: You are using `torch.load` with `weights_only=False` (the current default value), which uses the default pickle module implicitly. It is possible to construct malicious pickle data which will execute arbitrary code during unpickling (See https://github.com/pytorch/pytorch/blob/main/SECURITY.md#untrusted-models for more details). In a future release, the default value for `weights_only` will be flipped to `True`. This limits the functions that could be executed during unpickling. Arbitrary objects will no longer be allowed to be loaded via this mode unless they are explicitly allowlisted by the user via `torch.serialization.add_safe_globals`. We recommend you start setting `weights_only=True` for any use case where you don't have full control of the loaded file. Please open an issue on GitHub for any issues related to this experimental feature.\n",
      "  model.load_state_dict(torch.load(checkpoint_path, map_location=torch.device('cpu')))\n"
     ]
    },
    {
     "data": {
      "text/plain": [
       "GPT2(\n",
       "  (embedding): Embedding(\n",
       "    (embed): Embedding(16384, 256)\n",
       "  )\n",
       "  (positional_encoding): PositionalEncoding()\n",
       "  (transformer_blocks): ModuleList(\n",
       "    (0-3): 4 x TransformerBlock(\n",
       "      (mha): MultiHeadAttention(\n",
       "        (query): Linear(in_features=256, out_features=256, bias=True)\n",
       "        (key): Linear(in_features=256, out_features=256, bias=True)\n",
       "        (value): Linear(in_features=256, out_features=256, bias=True)\n",
       "        (out): Linear(in_features=256, out_features=256, bias=True)\n",
       "      )\n",
       "      (ff): FeedForward(\n",
       "        (fc1): Linear(in_features=256, out_features=1024, bias=True)\n",
       "        (fc2): Linear(in_features=1024, out_features=256, bias=True)\n",
       "        (gelu): GELU(approximate='none')\n",
       "      )\n",
       "      (ln1): LayerNorm((256,), eps=1e-05, elementwise_affine=True)\n",
       "      (ln2): LayerNorm((256,), eps=1e-05, elementwise_affine=True)\n",
       "      (dropout): Dropout(p=0.1, inplace=False)\n",
       "    )\n",
       "  )\n",
       "  (fc_out): Linear(in_features=256, out_features=16384, bias=True)\n",
       "  (dropout): Dropout(p=0.1, inplace=False)\n",
       ")"
      ]
     },
     "execution_count": 16,
     "metadata": {},
     "output_type": "execute_result"
    }
   ],
   "source": [
    "GPT_CONFIG_124M = {'vocab_size': 16384,\n",
    " 'context_length': 128,\n",
    " 'emb_dim': 256,\n",
    " 'batch_size': 16,\n",
    " 'n_heads': 4,\n",
    " 'n_layers': 4,\n",
    " 'drop_rate': 0.1,\n",
    " 'qkv_bias': True}\n",
    "\n",
    "model = GPT2(GPT_CONFIG_124M)\n",
    "\n",
    "checkpoint_path = \"./checkpoint/model1/gpt2_medium.pth\"\n",
    "\n",
    "tokenizer = Tokenizer()\n",
    "tokenizer.limit_vocab_size(GPT_CONFIG_124M[\"vocab_size\"])\n",
    "\n",
    "model.load_state_dict(torch.load(checkpoint_path, map_location=torch.device('cpu')))\n",
    "model.eval()"
   ]
  },
  {
   "cell_type": "code",
   "execution_count": 17,
   "metadata": {
    "id": "-3R5FD8JUMNc"
   },
   "outputs": [],
   "source": [
    "def generate_text_simple(model, idx, max_new_tokens, context_size, temperature=1.0):\n",
    "    \"\"\"\n",
    "    Generate text using the provided model by predicting the next tokens based on the current context.\n",
    "\n",
    "    Parameters:\n",
    "    - model: The language model used for generating text.\n",
    "    - idx: A tensor of shape (batch, n_tokens) containing the current context token indices.\n",
    "    - max_new_tokens: The maximum number of new tokens to generate.\n",
    "    - context_size: The maximum number of tokens to consider from the context.\n",
    "    - temperature: A value to scale logits for controlling randomness in sampling.\n",
    "\n",
    "    Returns:\n",
    "    - idx: The updated tensor containing the original context and the newly generated tokens.\n",
    "    \"\"\"\n",
    "\n",
    "    idx = idx.to(next(model.parameters()).device)\n",
    "    for _ in range(max_new_tokens):\n",
    "\n",
    "        idx_cond = idx[:, -context_size:]\n",
    "\n",
    "        with torch.no_grad():\n",
    "            logits = model(idx_cond)\n",
    "\n",
    "        logits = logits[:, -1, :]\n",
    "\n",
    "        logits = logits / temperature\n",
    "\n",
    "        probas = torch.softmax(logits, dim=-1)\n",
    "\n",
    "        idx_next = torch.multinomial(probas, num_samples=1)\n",
    "\n",
    "        idx = torch.cat((idx, idx_next), dim=1)\n",
    "\n",
    "    return idx"
   ]
  },
  {
   "cell_type": "code",
   "execution_count": 21,
   "metadata": {
    "colab": {
     "base_uri": "https://localhost:8080/"
    },
    "id": "1R9Oh1P9UMDi",
    "outputId": "a27d31c9-bb89-4012-baf0-7052d29da823"
   },
   "outputs": [
    {
     "name": "stdout",
     "output_type": "stream",
     "text": [
      "Encoded: [4, 7, 0, 36, 0, 148, 0, 39, 392, 0]\n",
      "Encoded tensor: tensor([[  4,   7,   0,  36,   0, 148,   0,  39, 392,   0]])\n",
      "Output: tensor([[    4,     7,     0,    36,     0,   148,     0,    39,   392,     0,\n",
      "          2866,  1501,   157, 15625,  3638,  7691,  3673,  7882,  3945, 16270,\n",
      "          7090, 11205, 13453, 11120,  7384, 13851,  9777,  6449, 10386, 11921,\n",
      "          1322, 15718,  5828,  3369,  2959, 15266, 15780, 13411, 10545,  3665,\n",
      "         10019, 11417,  6928,  9200,  4681,   472,  3130, 12524,  6104,  3495,\n",
      "          9552,   758, 12166, 10901, 10005, 12142, 10655, 14186,  1568,  5046]])\n",
      "Output length: 60\n",
      "Decoded text: wine review : italy : oregon : pinot gris : indication exhibit taste afficionados select cigarette awesome reluctant rotgipfler trine trending fined cerretta gassiness responsible bechthold shuttered vegetarian broker countywide immediate tinker amity history basically tertre vineam ferreirinha dampened diesel compels susanna davis specked steer pleasant content corp envelops hamburger lissome unusual sughere durant mur sneaking enrico fanfare roundness maceration\n"
     ]
    }
   ],
   "source": [
    "start_context = \"wine review : Italy : Oregon : Pinot Gris : \"\n",
    "\n",
    "encoded = tokenizer.encode(start_context)\n",
    "print(\"Encoded:\", encoded)\n",
    "\n",
    "encoded_tensor = torch.tensor(encoded).unsqueeze(0)\n",
    "print(\"Encoded tensor:\", encoded_tensor)\n",
    "\n",
    "model.eval()\n",
    "\n",
    "out = generate_text_simple(\n",
    "    model=model,\n",
    "    idx=encoded_tensor,\n",
    "    max_new_tokens=50,\n",
    "    context_size=GPT_CONFIG_124M[\"context_length\"],\n",
    "    temperature=3.0\n",
    ")\n",
    "\n",
    "print(\"Output:\", out)\n",
    "print(\"Output length:\", len(out[0]))\n",
    "\n",
    "decoded_text = tokenizer.decode(out.squeeze(0).tolist())\n",
    "print(\"Decoded text:\", decoded_text)"
   ]
  },
  {
   "cell_type": "markdown",
   "metadata": {
    "id": "xXtcVduBY1mV"
   },
   "source": [
    "### Method 2: Using GPT2 tokenizer"
   ]
  },
  {
   "cell_type": "code",
   "execution_count": 22,
   "metadata": {
    "id": "WeS-ENpfZN4Z"
   },
   "outputs": [],
   "source": [
    "# Adjusted hyperparameters\n",
    "BATCH_SIZE = 48\n",
    "BLOCK_SIZE = 256\n",
    "EPOCHS = 10\n",
    "LEARNING_RATE = 1e-4\n",
    "DEVICE = torch.device(\"cuda\" if torch.cuda.is_available() else \"cpu\")\n",
    "D_MODEL = 384\n",
    "N_HEAD = 6\n",
    "N_LAYER = 6\n",
    "DROPOUT = 0.2"
   ]
  },
  {
   "cell_type": "markdown",
   "metadata": {
    "id": "SB2VThRGbLjo"
   },
   "source": [
    "#### Model architecture\n"
   ]
  },
  {
   "cell_type": "code",
   "execution_count": null,
   "metadata": {
    "id": "1NEsz85hWvmz"
   },
   "outputs": [],
   "source": [
    "class TextDataset(Dataset):\n",
    "    def __init__(self, text_data, block_size, tokenizer):\n",
    "        self.tokenizer = tokenizer\n",
    "        self.block_size = block_size\n",
    "        self.examples = []\n",
    "\n",
    "        for text in text_data:\n",
    "            encodings = tokenizer(text, truncation=True, max_length=block_size,\n",
    "                                padding='max_length', return_tensors=\"pt\")\n",
    "\n",
    "            if encodings['input_ids'].size(1) > 0:\n",
    "                self.examples.append({\n",
    "                    'input_ids': encodings['input_ids'][0],\n",
    "                    'attention_mask': encodings['attention_mask'][0]\n",
    "                })\n",
    "\n",
    "    def __len__(self):\n",
    "        return len(self.examples)\n",
    "\n",
    "    def __getitem__(self, idx):\n",
    "        return {\n",
    "            \"input_ids\": self.examples[idx]['input_ids'],\n",
    "            \"attention_mask\": self.examples[idx]['attention_mask'],\n",
    "            \"labels\": self.examples[idx]['input_ids'].clone()\n",
    "        }\n"
   ]
  },
  {
   "cell_type": "code",
   "execution_count": 23,
   "metadata": {
    "id": "U5lFlVU1ZuxA"
   },
   "outputs": [],
   "source": [
    "class GPTLanguageModel(nn.Module):\n",
    "    def __init__(self, vocab_size, d_model, block_size, n_head, n_layer, dropout):\n",
    "        super().__init__()\n",
    "        self.block_size = block_size\n",
    "\n",
    "        self.token_embedding = nn.Embedding(vocab_size, d_model)\n",
    "        self.position_embedding = nn.Embedding(block_size, d_model)\n",
    "        self.dropout = nn.Dropout(dropout)\n",
    "\n",
    "        self.blocks = nn.ModuleList([\n",
    "            nn.TransformerEncoderLayer(\n",
    "                d_model=d_model,\n",
    "                nhead=n_head,\n",
    "                dim_feedforward=4 * d_model,\n",
    "                dropout=dropout,\n",
    "                batch_first=True,\n",
    "                norm_first=True\n",
    "            )\n",
    "            for _ in range(n_layer)\n",
    "        ])\n",
    "\n",
    "        self.ln_f = nn.LayerNorm(d_model)\n",
    "        self.lm_head = nn.Linear(d_model, vocab_size)\n",
    "\n",
    "        self.apply(self._init_weights)\n",
    "\n",
    "    def _init_weights(self, module):\n",
    "        if isinstance(module, nn.Linear):\n",
    "            torch.nn.init.normal_(module.weight, mean=0.0, std=0.02)\n",
    "            if module.bias is not None:\n",
    "                torch.nn.init.zeros_(module.bias)\n",
    "        elif isinstance(module, nn.Embedding):\n",
    "            torch.nn.init.normal_(module.weight, mean=0.0, std=0.02)\n",
    "        elif isinstance(module, nn.LayerNorm):\n",
    "            torch.nn.init.ones_(module.weight)\n",
    "            torch.nn.init.zeros_(module.bias)\n",
    "\n",
    "    def forward(self, idx, attention_mask=None, labels=None):\n",
    "        B, T = idx.shape\n",
    "\n",
    "        tok_emb = self.token_embedding(idx)\n",
    "        pos = torch.arange(0, T, dtype=torch.long, device=idx.device)\n",
    "        pos_emb = self.position_embedding(pos)\n",
    "\n",
    "        x = self.dropout(tok_emb + pos_emb)\n",
    "\n",
    "        if attention_mask is not None:\n",
    "            mask = attention_mask.bool()\n",
    "        else:\n",
    "            mask = None\n",
    "\n",
    "        for block in self.blocks:\n",
    "            x = block(x, src_key_padding_mask=~mask if mask is not None else None)\n",
    "\n",
    "        x = self.ln_f(x)\n",
    "        logits = self.lm_head(x)\n",
    "\n",
    "        if labels is None:\n",
    "            return logits\n",
    "        else:\n",
    "            if attention_mask is not None:\n",
    "                labels = labels.masked_fill(~attention_mask.bool(), -100)\n",
    "            loss = F.cross_entropy(logits.view(-1, logits.size(-1)),\n",
    "                                 labels.view(-1),\n",
    "                                 ignore_index=-100)\n",
    "            return logits, loss\n",
    "\n",
    "    def generate(self, prefix, max_length, tokenizer, temperature=0.7, top_k=50):\n",
    "        self.eval()\n",
    "        with torch.no_grad():\n",
    "            prefix_tokens = tokenizer.encode(prefix, return_tensors=\"pt\").to(DEVICE)\n",
    "            generated = prefix_tokens.clone()\n",
    "\n",
    "            for _ in range(max_length):\n",
    "                if generated.size(1) >= self.block_size:\n",
    "                    generated = generated[:, -self.block_size:]\n",
    "\n",
    "                logits = self(generated)\n",
    "                next_token_logits = logits[:, -1, :] / temperature\n",
    "\n",
    "                top_k_logits, top_k_indices = torch.topk(next_token_logits, k=top_k)\n",
    "                probs = F.softmax(top_k_logits, dim=-1)\n",
    "                next_token_idx = torch.multinomial(probs, num_samples=1)\n",
    "                next_token = top_k_indices.gather(-1, next_token_idx)\n",
    "\n",
    "                generated = torch.cat([generated, next_token], dim=1)\n",
    "\n",
    "                if next_token.item() == tokenizer.eos_token_id:\n",
    "                    break\n",
    "\n",
    "            return tokenizer.decode(generated[0])\n"
   ]
  },
  {
   "cell_type": "code",
   "execution_count": null,
   "metadata": {
    "id": "GGlYhzgNafxR"
   },
   "outputs": [],
   "source": [
    "def train_model(model, train_loader, val_loader, optimizer, scheduler, writer, epoch, save_path):\n",
    "    model.train()\n",
    "    total_loss = 0\n",
    "\n",
    "    for batch_idx, batch in enumerate(train_loader):\n",
    "        input_ids = batch[\"input_ids\"].to(DEVICE)\n",
    "        attention_mask = batch[\"attention_mask\"].to(DEVICE)\n",
    "        labels = batch[\"labels\"].to(DEVICE)\n",
    "\n",
    "        logits, loss = model(input_ids, attention_mask=attention_mask, labels=labels)\n",
    "\n",
    "        optimizer.zero_grad()\n",
    "        loss.backward()\n",
    "        torch.nn.utils.clip_grad_norm_(model.parameters(), 1.0)\n",
    "        optimizer.step()\n",
    "        scheduler.step()\n",
    "\n",
    "        total_loss += loss.item()\n",
    "\n",
    "        if batch_idx % 100 == 0:\n",
    "            writer.add_scalar('Training Loss', loss.item(), epoch * len(train_loader) + batch_idx)\n",
    "            print(f'Epoch {epoch}, Batch {batch_idx}/{len(train_loader)}, Loss: {loss.item():.4f}')\n",
    "\n",
    "    avg_train_loss = total_loss / len(train_loader)\n",
    "\n",
    "    model.eval()\n",
    "    total_val_loss = 0\n",
    "    with torch.no_grad():\n",
    "        for batch_idx, batch in enumerate(val_loader):\n",
    "            input_ids = batch[\"input_ids\"].to(DEVICE)\n",
    "            attention_mask = batch[\"attention_mask\"].to(DEVICE)\n",
    "            labels = batch[\"labels\"].to(DEVICE)\n",
    "\n",
    "            logits, loss = model(input_ids, attention_mask=attention_mask, labels=labels)\n",
    "            total_val_loss += loss.item()\n",
    "\n",
    "            if batch_idx % 50 == 0:\n",
    "                writer.add_scalar('Validation Loss', loss.item(), epoch * len(val_loader) + batch_idx)\n",
    "\n",
    "    avg_val_loss = total_val_loss / len(val_loader)\n",
    "    print(f'Epoch {epoch}, Validation Loss: {avg_val_loss:.4f}')\n",
    "\n",
    "    checkpoint_path = f\"{save_path}/epoch_{epoch}.pt\"\n",
    "    torch.save(model.state_dict(), checkpoint_path)\n",
    "    print(f'Model checkpoint saved to {checkpoint_path}')\n",
    "\n",
    "    return avg_train_loss, avg_val_loss"
   ]
  },
  {
   "cell_type": "code",
   "execution_count": null,
   "metadata": {
    "id": "Pq8LR7mCawWd"
   },
   "outputs": [],
   "source": [
    "processor = WineReviewProcessor(dataset_name=\"zynicide/wine-reviews\")\n",
    "processor.convert_to_lowercase()\n",
    "text_data = processor.get_processed_data()"
   ]
  },
  {
   "cell_type": "code",
   "execution_count": 25,
   "metadata": {
    "colab": {
     "base_uri": "https://localhost:8080/",
     "height": 301,
     "referenced_widgets": [
      "9231cf07efbc4b62bcc9c23c68451efe",
      "14d15851a49a46a38b8423f9f7cc783a",
      "48fa4852e8534118833c4a5d2911c0f9",
      "b844044141404903aff702c1b684cf04",
      "0e2a0586624240d8a3d7bb36fabeefe1",
      "4b0f2723761e47b29c3659fefb299587",
      "cc448c7f651f47ff96798313cacc66f5",
      "7cf7861e3d074d12bbe70e885a94e5a7",
      "9f5c2e424bb9422f90eb35cf1529865b",
      "e1d0be61ca9840d4ba44e4bf667478d3",
      "2eecd8396a034c62b956e6aca9fd6e55",
      "580f3a8678cc420ba478ebd2947b6321",
      "8829fea7a63f427fa0915fa8f871dfdb",
      "a8d5f2eb25ad4875804ea1294c46ceff",
      "8eb550b464014809a5f7b0f8c3293b6d",
      "17333e641ec24bc1b3705802cecc5e3f",
      "2378f6dacc7f4e9c87a8332158c028fd",
      "eb6e8d84bc9046e9ac6b47a281ae3583",
      "df140db99ed04fa69ab1101fec108a87",
      "559f560bf8b94459b8b414ad0dea740f",
      "91606b400e0849378bd3da7742efa020",
      "48f9e8245aae4878bd661c85f2e90d69",
      "5e75b4db8a0d4f3b84e7092ebe68f074",
      "84c9fd74ac2e4c5ea8839631345112cb",
      "d8a64c3309ad4a12a2ead8293f5fd48c",
      "55e508f56c5144aa8803e10a06c1895c",
      "7fc045ddc65a4fa8901168c7f4411a29",
      "4a214a8429614a9996b8657799477236",
      "79d168e173c94d8f95d107811300cf20",
      "7b99ffefe2744dd2a74827ba668352ca",
      "c14ef40832d5448bb42367ff383f3144",
      "739ec44bccc04dfb958f1f5eb8092598",
      "2a6d0046d6114b18ad650c111bd2c2b5",
      "3bbcb98cb9f4461f8019225143dd7a12",
      "284282537da84ed686e3c68676235532",
      "065df148af1f435c9d5d7c415e854e1e",
      "4975b16cd712437e88565a6b23d0eb38",
      "ab170c0a59c54049ad7e167a1e6e4dbc",
      "b09af5a47ee041609b4b4bc5a4a12514",
      "fdc6c69afc134cd79aef7cfa6ca695c2",
      "841a9d52a22e452d9f4ee94e99354ca7",
      "e52fb06b412f400b98d87c982f323ce5",
      "e902dc8858dc4deda38f713c07dd3b05",
      "c8188572ec7448188398e8d61325cb01",
      "19c7850550f241609d39ca235ecdc459",
      "e1a560ef0f1645d1b8bd40f830bb7d97",
      "917a34a4759d428e89b0cde645e3a403",
      "ff0ddcecfa6344ddb8bfd79a6ecae003",
      "305421daebb04bee827138129ba7ba9e",
      "1412a342fa36475e8dbba1a7f85f4541",
      "b2f577cb00264439b8de055e7b13071b",
      "61ec82f504b348589032bc889b243da4",
      "1b42ae1d1c7a4e2a8a657f2ccb7b8cc9",
      "b687f350baec4e1ea416632f70da8b26",
      "bb09e8a6e28a4a2a9512b50868af7eef"
     ]
    },
    "id": "W56qgxLQdvD0",
    "outputId": "00f668fb-0992-4c69-c6f6-5b313a199eec"
   },
   "outputs": [
    {
     "name": "stderr",
     "output_type": "stream",
     "text": [
      "/usr/local/lib/python3.11/dist-packages/huggingface_hub/utils/_auth.py:94: UserWarning: \n",
      "The secret `HF_TOKEN` does not exist in your Colab secrets.\n",
      "To authenticate with the Hugging Face Hub, create a token in your settings tab (https://huggingface.co/settings/tokens), set it as secret in your Google Colab and restart your session.\n",
      "You will be able to reuse this secret in all of your notebooks.\n",
      "Please note that authentication is recommended but still optional to access public models or datasets.\n",
      "  warnings.warn(\n"
     ]
    },
    {
     "data": {
      "application/vnd.jupyter.widget-view+json": {
       "model_id": "9231cf07efbc4b62bcc9c23c68451efe",
       "version_major": 2,
       "version_minor": 0
      },
      "text/plain": [
       "tokenizer_config.json:   0%|          | 0.00/26.0 [00:00<?, ?B/s]"
      ]
     },
     "metadata": {},
     "output_type": "display_data"
    },
    {
     "data": {
      "application/vnd.jupyter.widget-view+json": {
       "model_id": "580f3a8678cc420ba478ebd2947b6321",
       "version_major": 2,
       "version_minor": 0
      },
      "text/plain": [
       "vocab.json:   0%|          | 0.00/1.04M [00:00<?, ?B/s]"
      ]
     },
     "metadata": {},
     "output_type": "display_data"
    },
    {
     "data": {
      "application/vnd.jupyter.widget-view+json": {
       "model_id": "5e75b4db8a0d4f3b84e7092ebe68f074",
       "version_major": 2,
       "version_minor": 0
      },
      "text/plain": [
       "merges.txt:   0%|          | 0.00/456k [00:00<?, ?B/s]"
      ]
     },
     "metadata": {},
     "output_type": "display_data"
    },
    {
     "data": {
      "application/vnd.jupyter.widget-view+json": {
       "model_id": "3bbcb98cb9f4461f8019225143dd7a12",
       "version_major": 2,
       "version_minor": 0
      },
      "text/plain": [
       "tokenizer.json:   0%|          | 0.00/1.36M [00:00<?, ?B/s]"
      ]
     },
     "metadata": {},
     "output_type": "display_data"
    },
    {
     "data": {
      "application/vnd.jupyter.widget-view+json": {
       "model_id": "19c7850550f241609d39ca235ecdc459",
       "version_major": 2,
       "version_minor": 0
      },
      "text/plain": [
       "config.json:   0%|          | 0.00/665 [00:00<?, ?B/s]"
      ]
     },
     "metadata": {},
     "output_type": "display_data"
    }
   ],
   "source": [
    "tokenizer = GPT2Tokenizer.from_pretrained('gpt2')\n",
    "tokenizer.pad_token = tokenizer.eos_token"
   ]
  },
  {
   "cell_type": "code",
   "execution_count": null,
   "metadata": {
    "id": "qLCWIAPaUL1n"
   },
   "outputs": [],
   "source": [
    "# split ratio 80% for training, 20% for validation\n",
    "train_ratio = 0.8\n",
    "val_ratio = 0.2\n",
    "\n",
    "dataset = TextDataset(text_data, BLOCK_SIZE, tokenizer)\n",
    "\n",
    "total_size = len(dataset)\n",
    "train_size = int(total_size * train_ratio)\n",
    "val_size = total_size - train_size\n",
    "\n",
    "train_dataset, val_dataset = random_split(dataset, [train_size, val_size])\n",
    "\n",
    "train_loader = DataLoader(train_dataset, batch_size=BATCH_SIZE, shuffle=True)\n",
    "val_loader = DataLoader(val_dataset, batch_size=BATCH_SIZE, shuffle=False)"
   ]
  },
  {
   "cell_type": "code",
   "execution_count": null,
   "metadata": {
    "id": "hlrJhBc4S6t1"
   },
   "outputs": [],
   "source": [
    "model = GPTLanguageModel(\n",
    "    vocab_size=tokenizer.vocab_size,\n",
    "    d_model=D_MODEL,\n",
    "    block_size=BLOCK_SIZE,\n",
    "    n_head=N_HEAD,\n",
    "    n_layer=N_LAYER,\n",
    "    dropout=DROPOUT\n",
    ").to(DEVICE)\n",
    "\n",
    "optimizer = torch.optim.AdamW(model.parameters(), lr=LEARNING_RATE)\n",
    "scheduler = torch.optim.lr_scheduler.CosineAnnealingLR(optimizer, EPOCHS)\n",
    "writer = SummaryWriter('runs/gpt_training_now')"
   ]
  },
  {
   "cell_type": "code",
   "execution_count": null,
   "metadata": {
    "id": "bUS2JBKAadEU"
   },
   "outputs": [],
   "source": [
    "save_path = \"./checkpoints\"\n",
    "for epoch in range(EPOCHS):\n",
    "    train_loss, val_loss = train_model(model, train_loader, val_loader, optimizer, scheduler, writer, epoch, save_path)\n",
    "    print(f\"Epoch {epoch} - Training Loss: {train_loss:.4f}, Validation Loss: {val_loss:.4f}\")"
   ]
  },
  {
   "cell_type": "code",
   "execution_count": null,
   "metadata": {
    "id": "b6IKbvklcRTF"
   },
   "outputs": [],
   "source": [
    "model_save_path = \"best.pth\"\n",
    "torch.save(model.state_dict(), model_save_path)\n",
    "print(f\"Model saved to {model_save_path}\")"
   ]
  },
  {
   "cell_type": "markdown",
   "metadata": {
    "id": "IZKkaP7LcRok"
   },
   "source": [
    "#### Generating output"
   ]
  },
  {
   "cell_type": "code",
   "execution_count": 29,
   "metadata": {
    "colab": {
     "base_uri": "https://localhost:8080/"
    },
    "id": "hF9XtG1QcjhE",
    "outputId": "55218ad5-8917-49bc-b0a1-4a295c8a9658"
   },
   "outputs": [
    {
     "name": "stderr",
     "output_type": "stream",
     "text": [
      "<ipython-input-29-5857eca08a1b>:14: FutureWarning: You are using `torch.load` with `weights_only=False` (the current default value), which uses the default pickle module implicitly. It is possible to construct malicious pickle data which will execute arbitrary code during unpickling (See https://github.com/pytorch/pytorch/blob/main/SECURITY.md#untrusted-models for more details). In a future release, the default value for `weights_only` will be flipped to `True`. This limits the functions that could be executed during unpickling. Arbitrary objects will no longer be allowed to be loaded via this mode unless they are explicitly allowlisted by the user via `torch.serialization.add_safe_globals`. We recommend you start setting `weights_only=True` for any use case where you don't have full control of the loaded file. Please open an issue on GitHub for any issues related to this experimental feature.\n",
      "  model.load_state_dict(torch.load(checkpoint_path, map_location=DEVICE))\n"
     ]
    },
    {
     "data": {
      "text/plain": [
       "GPTLanguageModel(\n",
       "  (token_embedding): Embedding(50257, 384)\n",
       "  (position_embedding): Embedding(256, 384)\n",
       "  (dropout): Dropout(p=0.2, inplace=False)\n",
       "  (blocks): ModuleList(\n",
       "    (0-5): 6 x TransformerEncoderLayer(\n",
       "      (self_attn): MultiheadAttention(\n",
       "        (out_proj): NonDynamicallyQuantizableLinear(in_features=384, out_features=384, bias=True)\n",
       "      )\n",
       "      (linear1): Linear(in_features=384, out_features=1536, bias=True)\n",
       "      (dropout): Dropout(p=0.2, inplace=False)\n",
       "      (linear2): Linear(in_features=1536, out_features=384, bias=True)\n",
       "      (norm1): LayerNorm((384,), eps=1e-05, elementwise_affine=True)\n",
       "      (norm2): LayerNorm((384,), eps=1e-05, elementwise_affine=True)\n",
       "      (dropout1): Dropout(p=0.2, inplace=False)\n",
       "      (dropout2): Dropout(p=0.2, inplace=False)\n",
       "    )\n",
       "  )\n",
       "  (ln_f): LayerNorm((384,), eps=1e-05, elementwise_affine=True)\n",
       "  (lm_head): Linear(in_features=384, out_features=50257, bias=True)\n",
       ")"
      ]
     },
     "execution_count": 29,
     "metadata": {},
     "output_type": "execute_result"
    }
   ],
   "source": [
    "BATCH_SIZE = 48\n",
    "BLOCK_SIZE = 256\n",
    "EPOCHS = 10\n",
    "LEARNING_RATE = 1e-4\n",
    "DEVICE = torch.device(\"cuda\" if torch.cuda.is_available() else \"cpu\")\n",
    "D_MODEL = 384\n",
    "N_HEAD = 6\n",
    "N_LAYER = 6\n",
    "DROPOUT = 0.2\n",
    "\n",
    "model = GPTLanguageModel(\n",
    "    vocab_size=tokenizer.vocab_size,\n",
    "    d_model=D_MODEL,\n",
    "    block_size=BLOCK_SIZE,\n",
    "    n_head=N_HEAD,\n",
    "    n_layer=N_LAYER,\n",
    "    dropout=DROPOUT\n",
    ").to(DEVICE)\n",
    "checkpoint_path = \"./checkpoint/model2/epoch_3.pt\"\n",
    "\n",
    "tokenizer = GPT2Tokenizer.from_pretrained('gpt2')\n",
    "tokenizer.pad_token = tokenizer.eos_token\n",
    "\n",
    "model.load_state_dict(torch.load(checkpoint_path, map_location=DEVICE))\n",
    "\n",
    "model.eval()"
   ]
  },
  {
   "cell_type": "code",
   "execution_count": 58,
   "metadata": {
    "colab": {
     "base_uri": "https://localhost:8080/"
    },
    "id": "hub18bZ7bHlN",
    "outputId": "911586f4-04f1-4571-a6bb-1e03995c4005"
   },
   "outputs": [
    {
     "name": "stdout",
     "output_type": "stream",
     "text": [
      "Generated text:\n",
      "wine review : Italy : Oregon : Pinot Gris : A wine  about preserves complexity barrel complexity complexitygoing preserves juinesionalional working z ahead whisper high works thinktext\n"
     ]
    }
   ],
   "source": [
    "test_prefix = \"wine review : Italy : Oregon : Pinot Gris : A wine \"\n",
    "generated_text = model.generate(test_prefix, max_length=20, tokenizer=tokenizer, temperature=10.0, top_k=50)\n",
    "print(f\"Generated text:\\n{generated_text}\")"
   ]
  },
  {
   "cell_type": "markdown",
   "metadata": {
    "id": "961OTF7Rd_px"
   },
   "source": [
    "# Tensorboard"
   ]
  },
  {
   "cell_type": "code",
   "execution_count": null,
   "metadata": {},
   "outputs": [],
   "source": [
    "%load_ext tensorboard\n",
    "%tensorboard --logdir ./runs"
   ]
  },
  {
   "cell_type": "code",
   "execution_count": 49,
   "metadata": {},
   "outputs": [],
   "source": []
  },
  {
   "cell_type": "code",
   "execution_count": null,
   "metadata": {},
   "outputs": [],
   "source": []
  }
 ],
 "metadata": {
  "colab": {
   "provenance": []
  },
  "kernelspec": {
   "display_name": "Python 3 (ipykernel)",
   "language": "python",
   "name": "python3"
  },
  "language_info": {
   "codemirror_mode": {
    "name": "ipython",
    "version": 3
   },
   "file_extension": ".py",
   "mimetype": "text/x-python",
   "name": "python",
   "nbconvert_exporter": "python",
   "pygments_lexer": "ipython3",
   "version": "3.9.7"
  },
  "widgets": {
   "application/vnd.jupyter.widget-state+json": {
    "02bea01c959f4ff9b6ae9f5efd0514a8": {
     "model_module": "@jupyter-widgets/base",
     "model_module_version": "1.2.0",
     "model_name": "LayoutModel",
     "state": {
      "_model_module": "@jupyter-widgets/base",
      "_model_module_version": "1.2.0",
      "_model_name": "LayoutModel",
      "_view_count": null,
      "_view_module": "@jupyter-widgets/base",
      "_view_module_version": "1.2.0",
      "_view_name": "LayoutView",
      "align_content": null,
      "align_items": null,
      "align_self": null,
      "border": null,
      "bottom": null,
      "display": null,
      "flex": null,
      "flex_flow": null,
      "grid_area": null,
      "grid_auto_columns": null,
      "grid_auto_flow": null,
      "grid_auto_rows": null,
      "grid_column": null,
      "grid_gap": null,
      "grid_row": null,
      "grid_template_areas": null,
      "grid_template_columns": null,
      "grid_template_rows": null,
      "height": null,
      "justify_content": null,
      "justify_items": null,
      "left": null,
      "margin": null,
      "max_height": null,
      "max_width": null,
      "min_height": null,
      "min_width": null,
      "object_fit": null,
      "object_position": null,
      "order": null,
      "overflow": null,
      "overflow_x": null,
      "overflow_y": null,
      "padding": null,
      "right": null,
      "top": null,
      "visibility": null,
      "width": null
     }
    },
    "0399a5aa39ac42149425b523e71c975c": {
     "model_module": "@jupyter-widgets/base",
     "model_module_version": "1.2.0",
     "model_name": "LayoutModel",
     "state": {
      "_model_module": "@jupyter-widgets/base",
      "_model_module_version": "1.2.0",
      "_model_name": "LayoutModel",
      "_view_count": null,
      "_view_module": "@jupyter-widgets/base",
      "_view_module_version": "1.2.0",
      "_view_name": "LayoutView",
      "align_content": null,
      "align_items": null,
      "align_self": null,
      "border": null,
      "bottom": null,
      "display": null,
      "flex": null,
      "flex_flow": null,
      "grid_area": null,
      "grid_auto_columns": null,
      "grid_auto_flow": null,
      "grid_auto_rows": null,
      "grid_column": null,
      "grid_gap": null,
      "grid_row": null,
      "grid_template_areas": null,
      "grid_template_columns": null,
      "grid_template_rows": null,
      "height": null,
      "justify_content": null,
      "justify_items": null,
      "left": null,
      "margin": null,
      "max_height": null,
      "max_width": null,
      "min_height": null,
      "min_width": null,
      "object_fit": null,
      "object_position": null,
      "order": null,
      "overflow": null,
      "overflow_x": null,
      "overflow_y": null,
      "padding": null,
      "right": null,
      "top": null,
      "visibility": null,
      "width": null
     }
    },
    "0502dd676c5147e2895c450792155c3e": {
     "model_module": "@jupyter-widgets/controls",
     "model_module_version": "1.5.0",
     "model_name": "HBoxModel",
     "state": {
      "_dom_classes": [],
      "_model_module": "@jupyter-widgets/controls",
      "_model_module_version": "1.5.0",
      "_model_name": "HBoxModel",
      "_view_count": null,
      "_view_module": "@jupyter-widgets/controls",
      "_view_module_version": "1.5.0",
      "_view_name": "HBoxView",
      "box_style": "",
      "children": [
       "IPY_MODEL_2b8984637ef24c69b20cde7d91ba0afb",
       "IPY_MODEL_e10686a22abe44cfab2c2b02bce03ca4",
       "IPY_MODEL_0c26980e27444c7b8dd737276c5fba67"
      ],
      "layout": "IPY_MODEL_68031ca9650a41e68d7667422b943fda"
     }
    },
    "065df148af1f435c9d5d7c415e854e1e": {
     "model_module": "@jupyter-widgets/controls",
     "model_module_version": "1.5.0",
     "model_name": "FloatProgressModel",
     "state": {
      "_dom_classes": [],
      "_model_module": "@jupyter-widgets/controls",
      "_model_module_version": "1.5.0",
      "_model_name": "FloatProgressModel",
      "_view_count": null,
      "_view_module": "@jupyter-widgets/controls",
      "_view_module_version": "1.5.0",
      "_view_name": "ProgressView",
      "bar_style": "success",
      "description": "",
      "description_tooltip": null,
      "layout": "IPY_MODEL_841a9d52a22e452d9f4ee94e99354ca7",
      "max": 1355256,
      "min": 0,
      "orientation": "horizontal",
      "style": "IPY_MODEL_e52fb06b412f400b98d87c982f323ce5",
      "value": 1355256
     }
    },
    "0c24eb5a807440638d29b35ba63225a3": {
     "model_module": "@jupyter-widgets/base",
     "model_module_version": "1.2.0",
     "model_name": "LayoutModel",
     "state": {
      "_model_module": "@jupyter-widgets/base",
      "_model_module_version": "1.2.0",
      "_model_name": "LayoutModel",
      "_view_count": null,
      "_view_module": "@jupyter-widgets/base",
      "_view_module_version": "1.2.0",
      "_view_name": "LayoutView",
      "align_content": null,
      "align_items": null,
      "align_self": null,
      "border": null,
      "bottom": null,
      "display": null,
      "flex": null,
      "flex_flow": null,
      "grid_area": null,
      "grid_auto_columns": null,
      "grid_auto_flow": null,
      "grid_auto_rows": null,
      "grid_column": null,
      "grid_gap": null,
      "grid_row": null,
      "grid_template_areas": null,
      "grid_template_columns": null,
      "grid_template_rows": null,
      "height": null,
      "justify_content": null,
      "justify_items": null,
      "left": null,
      "margin": null,
      "max_height": null,
      "max_width": null,
      "min_height": null,
      "min_width": null,
      "object_fit": null,
      "object_position": null,
      "order": null,
      "overflow": null,
      "overflow_x": null,
      "overflow_y": null,
      "padding": null,
      "right": null,
      "top": null,
      "visibility": null,
      "width": null
     }
    },
    "0c26980e27444c7b8dd737276c5fba67": {
     "model_module": "@jupyter-widgets/controls",
     "model_module_version": "1.5.0",
     "model_name": "HTMLModel",
     "state": {
      "_dom_classes": [],
      "_model_module": "@jupyter-widgets/controls",
      "_model_module_version": "1.5.0",
      "_model_name": "HTMLModel",
      "_view_count": null,
      "_view_module": "@jupyter-widgets/controls",
      "_view_module_version": "1.5.0",
      "_view_name": "HTMLView",
      "description": "",
      "description_tooltip": null,
      "layout": "IPY_MODEL_f2e1d05c665941dfaa1168ae163edc32",
      "placeholder": "​",
      "style": "IPY_MODEL_1ad9e943297b43f8b6b31e0a984fa464",
      "value": " 456k/456k [00:00&lt;00:00, 9.70MB/s]"
     }
    },
    "0e2a0586624240d8a3d7bb36fabeefe1": {
     "model_module": "@jupyter-widgets/base",
     "model_module_version": "1.2.0",
     "model_name": "LayoutModel",
     "state": {
      "_model_module": "@jupyter-widgets/base",
      "_model_module_version": "1.2.0",
      "_model_name": "LayoutModel",
      "_view_count": null,
      "_view_module": "@jupyter-widgets/base",
      "_view_module_version": "1.2.0",
      "_view_name": "LayoutView",
      "align_content": null,
      "align_items": null,
      "align_self": null,
      "border": null,
      "bottom": null,
      "display": null,
      "flex": null,
      "flex_flow": null,
      "grid_area": null,
      "grid_auto_columns": null,
      "grid_auto_flow": null,
      "grid_auto_rows": null,
      "grid_column": null,
      "grid_gap": null,
      "grid_row": null,
      "grid_template_areas": null,
      "grid_template_columns": null,
      "grid_template_rows": null,
      "height": null,
      "justify_content": null,
      "justify_items": null,
      "left": null,
      "margin": null,
      "max_height": null,
      "max_width": null,
      "min_height": null,
      "min_width": null,
      "object_fit": null,
      "object_position": null,
      "order": null,
      "overflow": null,
      "overflow_x": null,
      "overflow_y": null,
      "padding": null,
      "right": null,
      "top": null,
      "visibility": null,
      "width": null
     }
    },
    "1412a342fa36475e8dbba1a7f85f4541": {
     "model_module": "@jupyter-widgets/base",
     "model_module_version": "1.2.0",
     "model_name": "LayoutModel",
     "state": {
      "_model_module": "@jupyter-widgets/base",
      "_model_module_version": "1.2.0",
      "_model_name": "LayoutModel",
      "_view_count": null,
      "_view_module": "@jupyter-widgets/base",
      "_view_module_version": "1.2.0",
      "_view_name": "LayoutView",
      "align_content": null,
      "align_items": null,
      "align_self": null,
      "border": null,
      "bottom": null,
      "display": null,
      "flex": null,
      "flex_flow": null,
      "grid_area": null,
      "grid_auto_columns": null,
      "grid_auto_flow": null,
      "grid_auto_rows": null,
      "grid_column": null,
      "grid_gap": null,
      "grid_row": null,
      "grid_template_areas": null,
      "grid_template_columns": null,
      "grid_template_rows": null,
      "height": null,
      "justify_content": null,
      "justify_items": null,
      "left": null,
      "margin": null,
      "max_height": null,
      "max_width": null,
      "min_height": null,
      "min_width": null,
      "object_fit": null,
      "object_position": null,
      "order": null,
      "overflow": null,
      "overflow_x": null,
      "overflow_y": null,
      "padding": null,
      "right": null,
      "top": null,
      "visibility": null,
      "width": null
     }
    },
    "14d15851a49a46a38b8423f9f7cc783a": {
     "model_module": "@jupyter-widgets/controls",
     "model_module_version": "1.5.0",
     "model_name": "HTMLModel",
     "state": {
      "_dom_classes": [],
      "_model_module": "@jupyter-widgets/controls",
      "_model_module_version": "1.5.0",
      "_model_name": "HTMLModel",
      "_view_count": null,
      "_view_module": "@jupyter-widgets/controls",
      "_view_module_version": "1.5.0",
      "_view_name": "HTMLView",
      "description": "",
      "description_tooltip": null,
      "layout": "IPY_MODEL_4b0f2723761e47b29c3659fefb299587",
      "placeholder": "​",
      "style": "IPY_MODEL_cc448c7f651f47ff96798313cacc66f5",
      "value": "tokenizer_config.json: 100%"
     }
    },
    "1726d4b70ff446cfa5ea11334cf97aae": {
     "model_module": "@jupyter-widgets/controls",
     "model_module_version": "1.5.0",
     "model_name": "HTMLModel",
     "state": {
      "_dom_classes": [],
      "_model_module": "@jupyter-widgets/controls",
      "_model_module_version": "1.5.0",
      "_model_name": "HTMLModel",
      "_view_count": null,
      "_view_module": "@jupyter-widgets/controls",
      "_view_module_version": "1.5.0",
      "_view_name": "HTMLView",
      "description": "",
      "description_tooltip": null,
      "layout": "IPY_MODEL_ce0b7463f6b24752949750734638e3ac",
      "placeholder": "​",
      "style": "IPY_MODEL_808aeb5a17a049a2a8ddecd14885bb29",
      "value": "tokenizer_config.json: 100%"
     }
    },
    "17333e641ec24bc1b3705802cecc5e3f": {
     "model_module": "@jupyter-widgets/base",
     "model_module_version": "1.2.0",
     "model_name": "LayoutModel",
     "state": {
      "_model_module": "@jupyter-widgets/base",
      "_model_module_version": "1.2.0",
      "_model_name": "LayoutModel",
      "_view_count": null,
      "_view_module": "@jupyter-widgets/base",
      "_view_module_version": "1.2.0",
      "_view_name": "LayoutView",
      "align_content": null,
      "align_items": null,
      "align_self": null,
      "border": null,
      "bottom": null,
      "display": null,
      "flex": null,
      "flex_flow": null,
      "grid_area": null,
      "grid_auto_columns": null,
      "grid_auto_flow": null,
      "grid_auto_rows": null,
      "grid_column": null,
      "grid_gap": null,
      "grid_row": null,
      "grid_template_areas": null,
      "grid_template_columns": null,
      "grid_template_rows": null,
      "height": null,
      "justify_content": null,
      "justify_items": null,
      "left": null,
      "margin": null,
      "max_height": null,
      "max_width": null,
      "min_height": null,
      "min_width": null,
      "object_fit": null,
      "object_position": null,
      "order": null,
      "overflow": null,
      "overflow_x": null,
      "overflow_y": null,
      "padding": null,
      "right": null,
      "top": null,
      "visibility": null,
      "width": null
     }
    },
    "19c7850550f241609d39ca235ecdc459": {
     "model_module": "@jupyter-widgets/controls",
     "model_module_version": "1.5.0",
     "model_name": "HBoxModel",
     "state": {
      "_dom_classes": [],
      "_model_module": "@jupyter-widgets/controls",
      "_model_module_version": "1.5.0",
      "_model_name": "HBoxModel",
      "_view_count": null,
      "_view_module": "@jupyter-widgets/controls",
      "_view_module_version": "1.5.0",
      "_view_name": "HBoxView",
      "box_style": "",
      "children": [
       "IPY_MODEL_e1a560ef0f1645d1b8bd40f830bb7d97",
       "IPY_MODEL_917a34a4759d428e89b0cde645e3a403",
       "IPY_MODEL_ff0ddcecfa6344ddb8bfd79a6ecae003"
      ],
      "layout": "IPY_MODEL_305421daebb04bee827138129ba7ba9e"
     }
    },
    "1ad9e943297b43f8b6b31e0a984fa464": {
     "model_module": "@jupyter-widgets/controls",
     "model_module_version": "1.5.0",
     "model_name": "DescriptionStyleModel",
     "state": {
      "_model_module": "@jupyter-widgets/controls",
      "_model_module_version": "1.5.0",
      "_model_name": "DescriptionStyleModel",
      "_view_count": null,
      "_view_module": "@jupyter-widgets/base",
      "_view_module_version": "1.2.0",
      "_view_name": "StyleView",
      "description_width": ""
     }
    },
    "1b42ae1d1c7a4e2a8a657f2ccb7b8cc9": {
     "model_module": "@jupyter-widgets/controls",
     "model_module_version": "1.5.0",
     "model_name": "ProgressStyleModel",
     "state": {
      "_model_module": "@jupyter-widgets/controls",
      "_model_module_version": "1.5.0",
      "_model_name": "ProgressStyleModel",
      "_view_count": null,
      "_view_module": "@jupyter-widgets/base",
      "_view_module_version": "1.2.0",
      "_view_name": "StyleView",
      "bar_color": null,
      "description_width": ""
     }
    },
    "1bd50b7f9dcf4e9ea67f882d6f054099": {
     "model_module": "@jupyter-widgets/base",
     "model_module_version": "1.2.0",
     "model_name": "LayoutModel",
     "state": {
      "_model_module": "@jupyter-widgets/base",
      "_model_module_version": "1.2.0",
      "_model_name": "LayoutModel",
      "_view_count": null,
      "_view_module": "@jupyter-widgets/base",
      "_view_module_version": "1.2.0",
      "_view_name": "LayoutView",
      "align_content": null,
      "align_items": null,
      "align_self": null,
      "border": null,
      "bottom": null,
      "display": null,
      "flex": null,
      "flex_flow": null,
      "grid_area": null,
      "grid_auto_columns": null,
      "grid_auto_flow": null,
      "grid_auto_rows": null,
      "grid_column": null,
      "grid_gap": null,
      "grid_row": null,
      "grid_template_areas": null,
      "grid_template_columns": null,
      "grid_template_rows": null,
      "height": null,
      "justify_content": null,
      "justify_items": null,
      "left": null,
      "margin": null,
      "max_height": null,
      "max_width": null,
      "min_height": null,
      "min_width": null,
      "object_fit": null,
      "object_position": null,
      "order": null,
      "overflow": null,
      "overflow_x": null,
      "overflow_y": null,
      "padding": null,
      "right": null,
      "top": null,
      "visibility": null,
      "width": null
     }
    },
    "21d37f9f92ce408cb3776e9b1ccd91bf": {
     "model_module": "@jupyter-widgets/base",
     "model_module_version": "1.2.0",
     "model_name": "LayoutModel",
     "state": {
      "_model_module": "@jupyter-widgets/base",
      "_model_module_version": "1.2.0",
      "_model_name": "LayoutModel",
      "_view_count": null,
      "_view_module": "@jupyter-widgets/base",
      "_view_module_version": "1.2.0",
      "_view_name": "LayoutView",
      "align_content": null,
      "align_items": null,
      "align_self": null,
      "border": null,
      "bottom": null,
      "display": null,
      "flex": null,
      "flex_flow": null,
      "grid_area": null,
      "grid_auto_columns": null,
      "grid_auto_flow": null,
      "grid_auto_rows": null,
      "grid_column": null,
      "grid_gap": null,
      "grid_row": null,
      "grid_template_areas": null,
      "grid_template_columns": null,
      "grid_template_rows": null,
      "height": null,
      "justify_content": null,
      "justify_items": null,
      "left": null,
      "margin": null,
      "max_height": null,
      "max_width": null,
      "min_height": null,
      "min_width": null,
      "object_fit": null,
      "object_position": null,
      "order": null,
      "overflow": null,
      "overflow_x": null,
      "overflow_y": null,
      "padding": null,
      "right": null,
      "top": null,
      "visibility": null,
      "width": null
     }
    },
    "2378f6dacc7f4e9c87a8332158c028fd": {
     "model_module": "@jupyter-widgets/base",
     "model_module_version": "1.2.0",
     "model_name": "LayoutModel",
     "state": {
      "_model_module": "@jupyter-widgets/base",
      "_model_module_version": "1.2.0",
      "_model_name": "LayoutModel",
      "_view_count": null,
      "_view_module": "@jupyter-widgets/base",
      "_view_module_version": "1.2.0",
      "_view_name": "LayoutView",
      "align_content": null,
      "align_items": null,
      "align_self": null,
      "border": null,
      "bottom": null,
      "display": null,
      "flex": null,
      "flex_flow": null,
      "grid_area": null,
      "grid_auto_columns": null,
      "grid_auto_flow": null,
      "grid_auto_rows": null,
      "grid_column": null,
      "grid_gap": null,
      "grid_row": null,
      "grid_template_areas": null,
      "grid_template_columns": null,
      "grid_template_rows": null,
      "height": null,
      "justify_content": null,
      "justify_items": null,
      "left": null,
      "margin": null,
      "max_height": null,
      "max_width": null,
      "min_height": null,
      "min_width": null,
      "object_fit": null,
      "object_position": null,
      "order": null,
      "overflow": null,
      "overflow_x": null,
      "overflow_y": null,
      "padding": null,
      "right": null,
      "top": null,
      "visibility": null,
      "width": null
     }
    },
    "25789fa40d8c458291bffd897ac28d60": {
     "model_module": "@jupyter-widgets/controls",
     "model_module_version": "1.5.0",
     "model_name": "HTMLModel",
     "state": {
      "_dom_classes": [],
      "_model_module": "@jupyter-widgets/controls",
      "_model_module_version": "1.5.0",
      "_model_name": "HTMLModel",
      "_view_count": null,
      "_view_module": "@jupyter-widgets/controls",
      "_view_module_version": "1.5.0",
      "_view_name": "HTMLView",
      "description": "",
      "description_tooltip": null,
      "layout": "IPY_MODEL_eb8a660876324ad09bbfceac93a9c8db",
      "placeholder": "​",
      "style": "IPY_MODEL_731ad362a5104782a0e17453677396da",
      "value": "tokenizer.json: 100%"
     }
    },
    "25847d0829e943d99172c2d35dfd0571": {
     "model_module": "@jupyter-widgets/base",
     "model_module_version": "1.2.0",
     "model_name": "LayoutModel",
     "state": {
      "_model_module": "@jupyter-widgets/base",
      "_model_module_version": "1.2.0",
      "_model_name": "LayoutModel",
      "_view_count": null,
      "_view_module": "@jupyter-widgets/base",
      "_view_module_version": "1.2.0",
      "_view_name": "LayoutView",
      "align_content": null,
      "align_items": null,
      "align_self": null,
      "border": null,
      "bottom": null,
      "display": null,
      "flex": null,
      "flex_flow": null,
      "grid_area": null,
      "grid_auto_columns": null,
      "grid_auto_flow": null,
      "grid_auto_rows": null,
      "grid_column": null,
      "grid_gap": null,
      "grid_row": null,
      "grid_template_areas": null,
      "grid_template_columns": null,
      "grid_template_rows": null,
      "height": null,
      "justify_content": null,
      "justify_items": null,
      "left": null,
      "margin": null,
      "max_height": null,
      "max_width": null,
      "min_height": null,
      "min_width": null,
      "object_fit": null,
      "object_position": null,
      "order": null,
      "overflow": null,
      "overflow_x": null,
      "overflow_y": null,
      "padding": null,
      "right": null,
      "top": null,
      "visibility": null,
      "width": null
     }
    },
    "284282537da84ed686e3c68676235532": {
     "model_module": "@jupyter-widgets/controls",
     "model_module_version": "1.5.0",
     "model_name": "HTMLModel",
     "state": {
      "_dom_classes": [],
      "_model_module": "@jupyter-widgets/controls",
      "_model_module_version": "1.5.0",
      "_model_name": "HTMLModel",
      "_view_count": null,
      "_view_module": "@jupyter-widgets/controls",
      "_view_module_version": "1.5.0",
      "_view_name": "HTMLView",
      "description": "",
      "description_tooltip": null,
      "layout": "IPY_MODEL_b09af5a47ee041609b4b4bc5a4a12514",
      "placeholder": "​",
      "style": "IPY_MODEL_fdc6c69afc134cd79aef7cfa6ca695c2",
      "value": "tokenizer.json: 100%"
     }
    },
    "2a6d0046d6114b18ad650c111bd2c2b5": {
     "model_module": "@jupyter-widgets/controls",
     "model_module_version": "1.5.0",
     "model_name": "DescriptionStyleModel",
     "state": {
      "_model_module": "@jupyter-widgets/controls",
      "_model_module_version": "1.5.0",
      "_model_name": "DescriptionStyleModel",
      "_view_count": null,
      "_view_module": "@jupyter-widgets/base",
      "_view_module_version": "1.2.0",
      "_view_name": "StyleView",
      "description_width": ""
     }
    },
    "2b8984637ef24c69b20cde7d91ba0afb": {
     "model_module": "@jupyter-widgets/controls",
     "model_module_version": "1.5.0",
     "model_name": "HTMLModel",
     "state": {
      "_dom_classes": [],
      "_model_module": "@jupyter-widgets/controls",
      "_model_module_version": "1.5.0",
      "_model_name": "HTMLModel",
      "_view_count": null,
      "_view_module": "@jupyter-widgets/controls",
      "_view_module_version": "1.5.0",
      "_view_name": "HTMLView",
      "description": "",
      "description_tooltip": null,
      "layout": "IPY_MODEL_0c24eb5a807440638d29b35ba63225a3",
      "placeholder": "​",
      "style": "IPY_MODEL_ab8607cedd0242128984b2c830ba2650",
      "value": "merges.txt: 100%"
     }
    },
    "2eecd8396a034c62b956e6aca9fd6e55": {
     "model_module": "@jupyter-widgets/controls",
     "model_module_version": "1.5.0",
     "model_name": "DescriptionStyleModel",
     "state": {
      "_model_module": "@jupyter-widgets/controls",
      "_model_module_version": "1.5.0",
      "_model_name": "DescriptionStyleModel",
      "_view_count": null,
      "_view_module": "@jupyter-widgets/base",
      "_view_module_version": "1.2.0",
      "_view_name": "StyleView",
      "description_width": ""
     }
    },
    "305421daebb04bee827138129ba7ba9e": {
     "model_module": "@jupyter-widgets/base",
     "model_module_version": "1.2.0",
     "model_name": "LayoutModel",
     "state": {
      "_model_module": "@jupyter-widgets/base",
      "_model_module_version": "1.2.0",
      "_model_name": "LayoutModel",
      "_view_count": null,
      "_view_module": "@jupyter-widgets/base",
      "_view_module_version": "1.2.0",
      "_view_name": "LayoutView",
      "align_content": null,
      "align_items": null,
      "align_self": null,
      "border": null,
      "bottom": null,
      "display": null,
      "flex": null,
      "flex_flow": null,
      "grid_area": null,
      "grid_auto_columns": null,
      "grid_auto_flow": null,
      "grid_auto_rows": null,
      "grid_column": null,
      "grid_gap": null,
      "grid_row": null,
      "grid_template_areas": null,
      "grid_template_columns": null,
      "grid_template_rows": null,
      "height": null,
      "justify_content": null,
      "justify_items": null,
      "left": null,
      "margin": null,
      "max_height": null,
      "max_width": null,
      "min_height": null,
      "min_width": null,
      "object_fit": null,
      "object_position": null,
      "order": null,
      "overflow": null,
      "overflow_x": null,
      "overflow_y": null,
      "padding": null,
      "right": null,
      "top": null,
      "visibility": null,
      "width": null
     }
    },
    "38b3d0d7494e42aea89226f5d9b51bb6": {
     "model_module": "@jupyter-widgets/base",
     "model_module_version": "1.2.0",
     "model_name": "LayoutModel",
     "state": {
      "_model_module": "@jupyter-widgets/base",
      "_model_module_version": "1.2.0",
      "_model_name": "LayoutModel",
      "_view_count": null,
      "_view_module": "@jupyter-widgets/base",
      "_view_module_version": "1.2.0",
      "_view_name": "LayoutView",
      "align_content": null,
      "align_items": null,
      "align_self": null,
      "border": null,
      "bottom": null,
      "display": null,
      "flex": null,
      "flex_flow": null,
      "grid_area": null,
      "grid_auto_columns": null,
      "grid_auto_flow": null,
      "grid_auto_rows": null,
      "grid_column": null,
      "grid_gap": null,
      "grid_row": null,
      "grid_template_areas": null,
      "grid_template_columns": null,
      "grid_template_rows": null,
      "height": null,
      "justify_content": null,
      "justify_items": null,
      "left": null,
      "margin": null,
      "max_height": null,
      "max_width": null,
      "min_height": null,
      "min_width": null,
      "object_fit": null,
      "object_position": null,
      "order": null,
      "overflow": null,
      "overflow_x": null,
      "overflow_y": null,
      "padding": null,
      "right": null,
      "top": null,
      "visibility": null,
      "width": null
     }
    },
    "3bbcb98cb9f4461f8019225143dd7a12": {
     "model_module": "@jupyter-widgets/controls",
     "model_module_version": "1.5.0",
     "model_name": "HBoxModel",
     "state": {
      "_dom_classes": [],
      "_model_module": "@jupyter-widgets/controls",
      "_model_module_version": "1.5.0",
      "_model_name": "HBoxModel",
      "_view_count": null,
      "_view_module": "@jupyter-widgets/controls",
      "_view_module_version": "1.5.0",
      "_view_name": "HBoxView",
      "box_style": "",
      "children": [
       "IPY_MODEL_284282537da84ed686e3c68676235532",
       "IPY_MODEL_065df148af1f435c9d5d7c415e854e1e",
       "IPY_MODEL_4975b16cd712437e88565a6b23d0eb38"
      ],
      "layout": "IPY_MODEL_ab170c0a59c54049ad7e167a1e6e4dbc"
     }
    },
    "3e17f4071c364313b1706c770d245f03": {
     "model_module": "@jupyter-widgets/base",
     "model_module_version": "1.2.0",
     "model_name": "LayoutModel",
     "state": {
      "_model_module": "@jupyter-widgets/base",
      "_model_module_version": "1.2.0",
      "_model_name": "LayoutModel",
      "_view_count": null,
      "_view_module": "@jupyter-widgets/base",
      "_view_module_version": "1.2.0",
      "_view_name": "LayoutView",
      "align_content": null,
      "align_items": null,
      "align_self": null,
      "border": null,
      "bottom": null,
      "display": null,
      "flex": null,
      "flex_flow": null,
      "grid_area": null,
      "grid_auto_columns": null,
      "grid_auto_flow": null,
      "grid_auto_rows": null,
      "grid_column": null,
      "grid_gap": null,
      "grid_row": null,
      "grid_template_areas": null,
      "grid_template_columns": null,
      "grid_template_rows": null,
      "height": null,
      "justify_content": null,
      "justify_items": null,
      "left": null,
      "margin": null,
      "max_height": null,
      "max_width": null,
      "min_height": null,
      "min_width": null,
      "object_fit": null,
      "object_position": null,
      "order": null,
      "overflow": null,
      "overflow_x": null,
      "overflow_y": null,
      "padding": null,
      "right": null,
      "top": null,
      "visibility": null,
      "width": null
     }
    },
    "43a7d8123641467ab7714f1c06483b27": {
     "model_module": "@jupyter-widgets/base",
     "model_module_version": "1.2.0",
     "model_name": "LayoutModel",
     "state": {
      "_model_module": "@jupyter-widgets/base",
      "_model_module_version": "1.2.0",
      "_model_name": "LayoutModel",
      "_view_count": null,
      "_view_module": "@jupyter-widgets/base",
      "_view_module_version": "1.2.0",
      "_view_name": "LayoutView",
      "align_content": null,
      "align_items": null,
      "align_self": null,
      "border": null,
      "bottom": null,
      "display": null,
      "flex": null,
      "flex_flow": null,
      "grid_area": null,
      "grid_auto_columns": null,
      "grid_auto_flow": null,
      "grid_auto_rows": null,
      "grid_column": null,
      "grid_gap": null,
      "grid_row": null,
      "grid_template_areas": null,
      "grid_template_columns": null,
      "grid_template_rows": null,
      "height": null,
      "justify_content": null,
      "justify_items": null,
      "left": null,
      "margin": null,
      "max_height": null,
      "max_width": null,
      "min_height": null,
      "min_width": null,
      "object_fit": null,
      "object_position": null,
      "order": null,
      "overflow": null,
      "overflow_x": null,
      "overflow_y": null,
      "padding": null,
      "right": null,
      "top": null,
      "visibility": null,
      "width": null
     }
    },
    "478ee77bf60e4fa8bb02b03441deb450": {
     "model_module": "@jupyter-widgets/controls",
     "model_module_version": "1.5.0",
     "model_name": "ProgressStyleModel",
     "state": {
      "_model_module": "@jupyter-widgets/controls",
      "_model_module_version": "1.5.0",
      "_model_name": "ProgressStyleModel",
      "_view_count": null,
      "_view_module": "@jupyter-widgets/base",
      "_view_module_version": "1.2.0",
      "_view_name": "StyleView",
      "bar_color": null,
      "description_width": ""
     }
    },
    "47c2a4c37287478e81a29a8859824836": {
     "model_module": "@jupyter-widgets/controls",
     "model_module_version": "1.5.0",
     "model_name": "DescriptionStyleModel",
     "state": {
      "_model_module": "@jupyter-widgets/controls",
      "_model_module_version": "1.5.0",
      "_model_name": "DescriptionStyleModel",
      "_view_count": null,
      "_view_module": "@jupyter-widgets/base",
      "_view_module_version": "1.2.0",
      "_view_name": "StyleView",
      "description_width": ""
     }
    },
    "48f9e8245aae4878bd661c85f2e90d69": {
     "model_module": "@jupyter-widgets/controls",
     "model_module_version": "1.5.0",
     "model_name": "DescriptionStyleModel",
     "state": {
      "_model_module": "@jupyter-widgets/controls",
      "_model_module_version": "1.5.0",
      "_model_name": "DescriptionStyleModel",
      "_view_count": null,
      "_view_module": "@jupyter-widgets/base",
      "_view_module_version": "1.2.0",
      "_view_name": "StyleView",
      "description_width": ""
     }
    },
    "48fa4852e8534118833c4a5d2911c0f9": {
     "model_module": "@jupyter-widgets/controls",
     "model_module_version": "1.5.0",
     "model_name": "FloatProgressModel",
     "state": {
      "_dom_classes": [],
      "_model_module": "@jupyter-widgets/controls",
      "_model_module_version": "1.5.0",
      "_model_name": "FloatProgressModel",
      "_view_count": null,
      "_view_module": "@jupyter-widgets/controls",
      "_view_module_version": "1.5.0",
      "_view_name": "ProgressView",
      "bar_style": "success",
      "description": "",
      "description_tooltip": null,
      "layout": "IPY_MODEL_7cf7861e3d074d12bbe70e885a94e5a7",
      "max": 26,
      "min": 0,
      "orientation": "horizontal",
      "style": "IPY_MODEL_9f5c2e424bb9422f90eb35cf1529865b",
      "value": 26
     }
    },
    "4975b16cd712437e88565a6b23d0eb38": {
     "model_module": "@jupyter-widgets/controls",
     "model_module_version": "1.5.0",
     "model_name": "HTMLModel",
     "state": {
      "_dom_classes": [],
      "_model_module": "@jupyter-widgets/controls",
      "_model_module_version": "1.5.0",
      "_model_name": "HTMLModel",
      "_view_count": null,
      "_view_module": "@jupyter-widgets/controls",
      "_view_module_version": "1.5.0",
      "_view_name": "HTMLView",
      "description": "",
      "description_tooltip": null,
      "layout": "IPY_MODEL_e902dc8858dc4deda38f713c07dd3b05",
      "placeholder": "​",
      "style": "IPY_MODEL_c8188572ec7448188398e8d61325cb01",
      "value": " 1.36M/1.36M [00:00&lt;00:00, 17.6MB/s]"
     }
    },
    "4a214a8429614a9996b8657799477236": {
     "model_module": "@jupyter-widgets/base",
     "model_module_version": "1.2.0",
     "model_name": "LayoutModel",
     "state": {
      "_model_module": "@jupyter-widgets/base",
      "_model_module_version": "1.2.0",
      "_model_name": "LayoutModel",
      "_view_count": null,
      "_view_module": "@jupyter-widgets/base",
      "_view_module_version": "1.2.0",
      "_view_name": "LayoutView",
      "align_content": null,
      "align_items": null,
      "align_self": null,
      "border": null,
      "bottom": null,
      "display": null,
      "flex": null,
      "flex_flow": null,
      "grid_area": null,
      "grid_auto_columns": null,
      "grid_auto_flow": null,
      "grid_auto_rows": null,
      "grid_column": null,
      "grid_gap": null,
      "grid_row": null,
      "grid_template_areas": null,
      "grid_template_columns": null,
      "grid_template_rows": null,
      "height": null,
      "justify_content": null,
      "justify_items": null,
      "left": null,
      "margin": null,
      "max_height": null,
      "max_width": null,
      "min_height": null,
      "min_width": null,
      "object_fit": null,
      "object_position": null,
      "order": null,
      "overflow": null,
      "overflow_x": null,
      "overflow_y": null,
      "padding": null,
      "right": null,
      "top": null,
      "visibility": null,
      "width": null
     }
    },
    "4a22c68a94134c3e961d1d37afa53f8a": {
     "model_module": "@jupyter-widgets/controls",
     "model_module_version": "1.5.0",
     "model_name": "ProgressStyleModel",
     "state": {
      "_model_module": "@jupyter-widgets/controls",
      "_model_module_version": "1.5.0",
      "_model_name": "ProgressStyleModel",
      "_view_count": null,
      "_view_module": "@jupyter-widgets/base",
      "_view_module_version": "1.2.0",
      "_view_name": "StyleView",
      "bar_color": null,
      "description_width": ""
     }
    },
    "4b0f2723761e47b29c3659fefb299587": {
     "model_module": "@jupyter-widgets/base",
     "model_module_version": "1.2.0",
     "model_name": "LayoutModel",
     "state": {
      "_model_module": "@jupyter-widgets/base",
      "_model_module_version": "1.2.0",
      "_model_name": "LayoutModel",
      "_view_count": null,
      "_view_module": "@jupyter-widgets/base",
      "_view_module_version": "1.2.0",
      "_view_name": "LayoutView",
      "align_content": null,
      "align_items": null,
      "align_self": null,
      "border": null,
      "bottom": null,
      "display": null,
      "flex": null,
      "flex_flow": null,
      "grid_area": null,
      "grid_auto_columns": null,
      "grid_auto_flow": null,
      "grid_auto_rows": null,
      "grid_column": null,
      "grid_gap": null,
      "grid_row": null,
      "grid_template_areas": null,
      "grid_template_columns": null,
      "grid_template_rows": null,
      "height": null,
      "justify_content": null,
      "justify_items": null,
      "left": null,
      "margin": null,
      "max_height": null,
      "max_width": null,
      "min_height": null,
      "min_width": null,
      "object_fit": null,
      "object_position": null,
      "order": null,
      "overflow": null,
      "overflow_x": null,
      "overflow_y": null,
      "padding": null,
      "right": null,
      "top": null,
      "visibility": null,
      "width": null
     }
    },
    "4ce57d1c262841819202c4ec99881170": {
     "model_module": "@jupyter-widgets/controls",
     "model_module_version": "1.5.0",
     "model_name": "DescriptionStyleModel",
     "state": {
      "_model_module": "@jupyter-widgets/controls",
      "_model_module_version": "1.5.0",
      "_model_name": "DescriptionStyleModel",
      "_view_count": null,
      "_view_module": "@jupyter-widgets/base",
      "_view_module_version": "1.2.0",
      "_view_name": "StyleView",
      "description_width": ""
     }
    },
    "559f560bf8b94459b8b414ad0dea740f": {
     "model_module": "@jupyter-widgets/controls",
     "model_module_version": "1.5.0",
     "model_name": "ProgressStyleModel",
     "state": {
      "_model_module": "@jupyter-widgets/controls",
      "_model_module_version": "1.5.0",
      "_model_name": "ProgressStyleModel",
      "_view_count": null,
      "_view_module": "@jupyter-widgets/base",
      "_view_module_version": "1.2.0",
      "_view_name": "StyleView",
      "bar_color": null,
      "description_width": ""
     }
    },
    "55e508f56c5144aa8803e10a06c1895c": {
     "model_module": "@jupyter-widgets/controls",
     "model_module_version": "1.5.0",
     "model_name": "HTMLModel",
     "state": {
      "_dom_classes": [],
      "_model_module": "@jupyter-widgets/controls",
      "_model_module_version": "1.5.0",
      "_model_name": "HTMLModel",
      "_view_count": null,
      "_view_module": "@jupyter-widgets/controls",
      "_view_module_version": "1.5.0",
      "_view_name": "HTMLView",
      "description": "",
      "description_tooltip": null,
      "layout": "IPY_MODEL_739ec44bccc04dfb958f1f5eb8092598",
      "placeholder": "​",
      "style": "IPY_MODEL_2a6d0046d6114b18ad650c111bd2c2b5",
      "value": " 456k/456k [00:00&lt;00:00, 7.91MB/s]"
     }
    },
    "580f3a8678cc420ba478ebd2947b6321": {
     "model_module": "@jupyter-widgets/controls",
     "model_module_version": "1.5.0",
     "model_name": "HBoxModel",
     "state": {
      "_dom_classes": [],
      "_model_module": "@jupyter-widgets/controls",
      "_model_module_version": "1.5.0",
      "_model_name": "HBoxModel",
      "_view_count": null,
      "_view_module": "@jupyter-widgets/controls",
      "_view_module_version": "1.5.0",
      "_view_name": "HBoxView",
      "box_style": "",
      "children": [
       "IPY_MODEL_8829fea7a63f427fa0915fa8f871dfdb",
       "IPY_MODEL_a8d5f2eb25ad4875804ea1294c46ceff",
       "IPY_MODEL_8eb550b464014809a5f7b0f8c3293b6d"
      ],
      "layout": "IPY_MODEL_17333e641ec24bc1b3705802cecc5e3f"
     }
    },
    "5e75b4db8a0d4f3b84e7092ebe68f074": {
     "model_module": "@jupyter-widgets/controls",
     "model_module_version": "1.5.0",
     "model_name": "HBoxModel",
     "state": {
      "_dom_classes": [],
      "_model_module": "@jupyter-widgets/controls",
      "_model_module_version": "1.5.0",
      "_model_name": "HBoxModel",
      "_view_count": null,
      "_view_module": "@jupyter-widgets/controls",
      "_view_module_version": "1.5.0",
      "_view_name": "HBoxView",
      "box_style": "",
      "children": [
       "IPY_MODEL_84c9fd74ac2e4c5ea8839631345112cb",
       "IPY_MODEL_d8a64c3309ad4a12a2ead8293f5fd48c",
       "IPY_MODEL_55e508f56c5144aa8803e10a06c1895c"
      ],
      "layout": "IPY_MODEL_7fc045ddc65a4fa8901168c7f4411a29"
     }
    },
    "5e77f22c00af4e368a3f1f2b850ce098": {
     "model_module": "@jupyter-widgets/controls",
     "model_module_version": "1.5.0",
     "model_name": "HTMLModel",
     "state": {
      "_dom_classes": [],
      "_model_module": "@jupyter-widgets/controls",
      "_model_module_version": "1.5.0",
      "_model_name": "HTMLModel",
      "_view_count": null,
      "_view_module": "@jupyter-widgets/controls",
      "_view_module_version": "1.5.0",
      "_view_name": "HTMLView",
      "description": "",
      "description_tooltip": null,
      "layout": "IPY_MODEL_21d37f9f92ce408cb3776e9b1ccd91bf",
      "placeholder": "​",
      "style": "IPY_MODEL_8b8b502d489a4b57bb769b13097a1055",
      "value": " 26.0/26.0 [00:00&lt;00:00, 1.34kB/s]"
     }
    },
    "61ec82f504b348589032bc889b243da4": {
     "model_module": "@jupyter-widgets/base",
     "model_module_version": "1.2.0",
     "model_name": "LayoutModel",
     "state": {
      "_model_module": "@jupyter-widgets/base",
      "_model_module_version": "1.2.0",
      "_model_name": "LayoutModel",
      "_view_count": null,
      "_view_module": "@jupyter-widgets/base",
      "_view_module_version": "1.2.0",
      "_view_name": "LayoutView",
      "align_content": null,
      "align_items": null,
      "align_self": null,
      "border": null,
      "bottom": null,
      "display": null,
      "flex": null,
      "flex_flow": null,
      "grid_area": null,
      "grid_auto_columns": null,
      "grid_auto_flow": null,
      "grid_auto_rows": null,
      "grid_column": null,
      "grid_gap": null,
      "grid_row": null,
      "grid_template_areas": null,
      "grid_template_columns": null,
      "grid_template_rows": null,
      "height": null,
      "justify_content": null,
      "justify_items": null,
      "left": null,
      "margin": null,
      "max_height": null,
      "max_width": null,
      "min_height": null,
      "min_width": null,
      "object_fit": null,
      "object_position": null,
      "order": null,
      "overflow": null,
      "overflow_x": null,
      "overflow_y": null,
      "padding": null,
      "right": null,
      "top": null,
      "visibility": null,
      "width": null
     }
    },
    "62fbc6e89ec349a58f00e8fe22cdbde4": {
     "model_module": "@jupyter-widgets/controls",
     "model_module_version": "1.5.0",
     "model_name": "DescriptionStyleModel",
     "state": {
      "_model_module": "@jupyter-widgets/controls",
      "_model_module_version": "1.5.0",
      "_model_name": "DescriptionStyleModel",
      "_view_count": null,
      "_view_module": "@jupyter-widgets/base",
      "_view_module_version": "1.2.0",
      "_view_name": "StyleView",
      "description_width": ""
     }
    },
    "63476e74d8b640f68752269072a686f9": {
     "model_module": "@jupyter-widgets/controls",
     "model_module_version": "1.5.0",
     "model_name": "HTMLModel",
     "state": {
      "_dom_classes": [],
      "_model_module": "@jupyter-widgets/controls",
      "_model_module_version": "1.5.0",
      "_model_name": "HTMLModel",
      "_view_count": null,
      "_view_module": "@jupyter-widgets/controls",
      "_view_module_version": "1.5.0",
      "_view_name": "HTMLView",
      "description": "",
      "description_tooltip": null,
      "layout": "IPY_MODEL_ae9c313c155c4fcd94c464e815a6d6f3",
      "placeholder": "​",
      "style": "IPY_MODEL_b91b019f7ed14156918f4859c7217503",
      "value": "vocab.json: 100%"
     }
    },
    "68031ca9650a41e68d7667422b943fda": {
     "model_module": "@jupyter-widgets/base",
     "model_module_version": "1.2.0",
     "model_name": "LayoutModel",
     "state": {
      "_model_module": "@jupyter-widgets/base",
      "_model_module_version": "1.2.0",
      "_model_name": "LayoutModel",
      "_view_count": null,
      "_view_module": "@jupyter-widgets/base",
      "_view_module_version": "1.2.0",
      "_view_name": "LayoutView",
      "align_content": null,
      "align_items": null,
      "align_self": null,
      "border": null,
      "bottom": null,
      "display": null,
      "flex": null,
      "flex_flow": null,
      "grid_area": null,
      "grid_auto_columns": null,
      "grid_auto_flow": null,
      "grid_auto_rows": null,
      "grid_column": null,
      "grid_gap": null,
      "grid_row": null,
      "grid_template_areas": null,
      "grid_template_columns": null,
      "grid_template_rows": null,
      "height": null,
      "justify_content": null,
      "justify_items": null,
      "left": null,
      "margin": null,
      "max_height": null,
      "max_width": null,
      "min_height": null,
      "min_width": null,
      "object_fit": null,
      "object_position": null,
      "order": null,
      "overflow": null,
      "overflow_x": null,
      "overflow_y": null,
      "padding": null,
      "right": null,
      "top": null,
      "visibility": null,
      "width": null
     }
    },
    "6b5e0379b3554e1ebb04829a1382ede7": {
     "model_module": "@jupyter-widgets/controls",
     "model_module_version": "1.5.0",
     "model_name": "HTMLModel",
     "state": {
      "_dom_classes": [],
      "_model_module": "@jupyter-widgets/controls",
      "_model_module_version": "1.5.0",
      "_model_name": "HTMLModel",
      "_view_count": null,
      "_view_module": "@jupyter-widgets/controls",
      "_view_module_version": "1.5.0",
      "_view_name": "HTMLView",
      "description": "",
      "description_tooltip": null,
      "layout": "IPY_MODEL_02bea01c959f4ff9b6ae9f5efd0514a8",
      "placeholder": "​",
      "style": "IPY_MODEL_b4fadcef45a1453f86ad2612e0682e91",
      "value": "config.json: 100%"
     }
    },
    "6e7452ecc290425891e97fc6685b0cab": {
     "model_module": "@jupyter-widgets/controls",
     "model_module_version": "1.5.0",
     "model_name": "HBoxModel",
     "state": {
      "_dom_classes": [],
      "_model_module": "@jupyter-widgets/controls",
      "_model_module_version": "1.5.0",
      "_model_name": "HBoxModel",
      "_view_count": null,
      "_view_module": "@jupyter-widgets/controls",
      "_view_module_version": "1.5.0",
      "_view_name": "HBoxView",
      "box_style": "",
      "children": [
       "IPY_MODEL_25789fa40d8c458291bffd897ac28d60",
       "IPY_MODEL_881e616f3c7148f7ae4cdc5a333dba97",
       "IPY_MODEL_b3209aeca11b4771a8f2d4c7bc83b133"
      ],
      "layout": "IPY_MODEL_1bd50b7f9dcf4e9ea67f882d6f054099"
     }
    },
    "731ad362a5104782a0e17453677396da": {
     "model_module": "@jupyter-widgets/controls",
     "model_module_version": "1.5.0",
     "model_name": "DescriptionStyleModel",
     "state": {
      "_model_module": "@jupyter-widgets/controls",
      "_model_module_version": "1.5.0",
      "_model_name": "DescriptionStyleModel",
      "_view_count": null,
      "_view_module": "@jupyter-widgets/base",
      "_view_module_version": "1.2.0",
      "_view_name": "StyleView",
      "description_width": ""
     }
    },
    "739ec44bccc04dfb958f1f5eb8092598": {
     "model_module": "@jupyter-widgets/base",
     "model_module_version": "1.2.0",
     "model_name": "LayoutModel",
     "state": {
      "_model_module": "@jupyter-widgets/base",
      "_model_module_version": "1.2.0",
      "_model_name": "LayoutModel",
      "_view_count": null,
      "_view_module": "@jupyter-widgets/base",
      "_view_module_version": "1.2.0",
      "_view_name": "LayoutView",
      "align_content": null,
      "align_items": null,
      "align_self": null,
      "border": null,
      "bottom": null,
      "display": null,
      "flex": null,
      "flex_flow": null,
      "grid_area": null,
      "grid_auto_columns": null,
      "grid_auto_flow": null,
      "grid_auto_rows": null,
      "grid_column": null,
      "grid_gap": null,
      "grid_row": null,
      "grid_template_areas": null,
      "grid_template_columns": null,
      "grid_template_rows": null,
      "height": null,
      "justify_content": null,
      "justify_items": null,
      "left": null,
      "margin": null,
      "max_height": null,
      "max_width": null,
      "min_height": null,
      "min_width": null,
      "object_fit": null,
      "object_position": null,
      "order": null,
      "overflow": null,
      "overflow_x": null,
      "overflow_y": null,
      "padding": null,
      "right": null,
      "top": null,
      "visibility": null,
      "width": null
     }
    },
    "79d168e173c94d8f95d107811300cf20": {
     "model_module": "@jupyter-widgets/controls",
     "model_module_version": "1.5.0",
     "model_name": "DescriptionStyleModel",
     "state": {
      "_model_module": "@jupyter-widgets/controls",
      "_model_module_version": "1.5.0",
      "_model_name": "DescriptionStyleModel",
      "_view_count": null,
      "_view_module": "@jupyter-widgets/base",
      "_view_module_version": "1.2.0",
      "_view_name": "StyleView",
      "description_width": ""
     }
    },
    "7b99ffefe2744dd2a74827ba668352ca": {
     "model_module": "@jupyter-widgets/base",
     "model_module_version": "1.2.0",
     "model_name": "LayoutModel",
     "state": {
      "_model_module": "@jupyter-widgets/base",
      "_model_module_version": "1.2.0",
      "_model_name": "LayoutModel",
      "_view_count": null,
      "_view_module": "@jupyter-widgets/base",
      "_view_module_version": "1.2.0",
      "_view_name": "LayoutView",
      "align_content": null,
      "align_items": null,
      "align_self": null,
      "border": null,
      "bottom": null,
      "display": null,
      "flex": null,
      "flex_flow": null,
      "grid_area": null,
      "grid_auto_columns": null,
      "grid_auto_flow": null,
      "grid_auto_rows": null,
      "grid_column": null,
      "grid_gap": null,
      "grid_row": null,
      "grid_template_areas": null,
      "grid_template_columns": null,
      "grid_template_rows": null,
      "height": null,
      "justify_content": null,
      "justify_items": null,
      "left": null,
      "margin": null,
      "max_height": null,
      "max_width": null,
      "min_height": null,
      "min_width": null,
      "object_fit": null,
      "object_position": null,
      "order": null,
      "overflow": null,
      "overflow_x": null,
      "overflow_y": null,
      "padding": null,
      "right": null,
      "top": null,
      "visibility": null,
      "width": null
     }
    },
    "7cf7861e3d074d12bbe70e885a94e5a7": {
     "model_module": "@jupyter-widgets/base",
     "model_module_version": "1.2.0",
     "model_name": "LayoutModel",
     "state": {
      "_model_module": "@jupyter-widgets/base",
      "_model_module_version": "1.2.0",
      "_model_name": "LayoutModel",
      "_view_count": null,
      "_view_module": "@jupyter-widgets/base",
      "_view_module_version": "1.2.0",
      "_view_name": "LayoutView",
      "align_content": null,
      "align_items": null,
      "align_self": null,
      "border": null,
      "bottom": null,
      "display": null,
      "flex": null,
      "flex_flow": null,
      "grid_area": null,
      "grid_auto_columns": null,
      "grid_auto_flow": null,
      "grid_auto_rows": null,
      "grid_column": null,
      "grid_gap": null,
      "grid_row": null,
      "grid_template_areas": null,
      "grid_template_columns": null,
      "grid_template_rows": null,
      "height": null,
      "justify_content": null,
      "justify_items": null,
      "left": null,
      "margin": null,
      "max_height": null,
      "max_width": null,
      "min_height": null,
      "min_width": null,
      "object_fit": null,
      "object_position": null,
      "order": null,
      "overflow": null,
      "overflow_x": null,
      "overflow_y": null,
      "padding": null,
      "right": null,
      "top": null,
      "visibility": null,
      "width": null
     }
    },
    "7fc045ddc65a4fa8901168c7f4411a29": {
     "model_module": "@jupyter-widgets/base",
     "model_module_version": "1.2.0",
     "model_name": "LayoutModel",
     "state": {
      "_model_module": "@jupyter-widgets/base",
      "_model_module_version": "1.2.0",
      "_model_name": "LayoutModel",
      "_view_count": null,
      "_view_module": "@jupyter-widgets/base",
      "_view_module_version": "1.2.0",
      "_view_name": "LayoutView",
      "align_content": null,
      "align_items": null,
      "align_self": null,
      "border": null,
      "bottom": null,
      "display": null,
      "flex": null,
      "flex_flow": null,
      "grid_area": null,
      "grid_auto_columns": null,
      "grid_auto_flow": null,
      "grid_auto_rows": null,
      "grid_column": null,
      "grid_gap": null,
      "grid_row": null,
      "grid_template_areas": null,
      "grid_template_columns": null,
      "grid_template_rows": null,
      "height": null,
      "justify_content": null,
      "justify_items": null,
      "left": null,
      "margin": null,
      "max_height": null,
      "max_width": null,
      "min_height": null,
      "min_width": null,
      "object_fit": null,
      "object_position": null,
      "order": null,
      "overflow": null,
      "overflow_x": null,
      "overflow_y": null,
      "padding": null,
      "right": null,
      "top": null,
      "visibility": null,
      "width": null
     }
    },
    "808aeb5a17a049a2a8ddecd14885bb29": {
     "model_module": "@jupyter-widgets/controls",
     "model_module_version": "1.5.0",
     "model_name": "DescriptionStyleModel",
     "state": {
      "_model_module": "@jupyter-widgets/controls",
      "_model_module_version": "1.5.0",
      "_model_name": "DescriptionStyleModel",
      "_view_count": null,
      "_view_module": "@jupyter-widgets/base",
      "_view_module_version": "1.2.0",
      "_view_name": "StyleView",
      "description_width": ""
     }
    },
    "841a9d52a22e452d9f4ee94e99354ca7": {
     "model_module": "@jupyter-widgets/base",
     "model_module_version": "1.2.0",
     "model_name": "LayoutModel",
     "state": {
      "_model_module": "@jupyter-widgets/base",
      "_model_module_version": "1.2.0",
      "_model_name": "LayoutModel",
      "_view_count": null,
      "_view_module": "@jupyter-widgets/base",
      "_view_module_version": "1.2.0",
      "_view_name": "LayoutView",
      "align_content": null,
      "align_items": null,
      "align_self": null,
      "border": null,
      "bottom": null,
      "display": null,
      "flex": null,
      "flex_flow": null,
      "grid_area": null,
      "grid_auto_columns": null,
      "grid_auto_flow": null,
      "grid_auto_rows": null,
      "grid_column": null,
      "grid_gap": null,
      "grid_row": null,
      "grid_template_areas": null,
      "grid_template_columns": null,
      "grid_template_rows": null,
      "height": null,
      "justify_content": null,
      "justify_items": null,
      "left": null,
      "margin": null,
      "max_height": null,
      "max_width": null,
      "min_height": null,
      "min_width": null,
      "object_fit": null,
      "object_position": null,
      "order": null,
      "overflow": null,
      "overflow_x": null,
      "overflow_y": null,
      "padding": null,
      "right": null,
      "top": null,
      "visibility": null,
      "width": null
     }
    },
    "84c9fd74ac2e4c5ea8839631345112cb": {
     "model_module": "@jupyter-widgets/controls",
     "model_module_version": "1.5.0",
     "model_name": "HTMLModel",
     "state": {
      "_dom_classes": [],
      "_model_module": "@jupyter-widgets/controls",
      "_model_module_version": "1.5.0",
      "_model_name": "HTMLModel",
      "_view_count": null,
      "_view_module": "@jupyter-widgets/controls",
      "_view_module_version": "1.5.0",
      "_view_name": "HTMLView",
      "description": "",
      "description_tooltip": null,
      "layout": "IPY_MODEL_4a214a8429614a9996b8657799477236",
      "placeholder": "​",
      "style": "IPY_MODEL_79d168e173c94d8f95d107811300cf20",
      "value": "merges.txt: 100%"
     }
    },
    "881e616f3c7148f7ae4cdc5a333dba97": {
     "model_module": "@jupyter-widgets/controls",
     "model_module_version": "1.5.0",
     "model_name": "FloatProgressModel",
     "state": {
      "_dom_classes": [],
      "_model_module": "@jupyter-widgets/controls",
      "_model_module_version": "1.5.0",
      "_model_name": "FloatProgressModel",
      "_view_count": null,
      "_view_module": "@jupyter-widgets/controls",
      "_view_module_version": "1.5.0",
      "_view_name": "ProgressView",
      "bar_style": "success",
      "description": "",
      "description_tooltip": null,
      "layout": "IPY_MODEL_0399a5aa39ac42149425b523e71c975c",
      "max": 1355256,
      "min": 0,
      "orientation": "horizontal",
      "style": "IPY_MODEL_bed5f3c6a81c441a9834f38b281c8aa5",
      "value": 1355256
     }
    },
    "8829fea7a63f427fa0915fa8f871dfdb": {
     "model_module": "@jupyter-widgets/controls",
     "model_module_version": "1.5.0",
     "model_name": "HTMLModel",
     "state": {
      "_dom_classes": [],
      "_model_module": "@jupyter-widgets/controls",
      "_model_module_version": "1.5.0",
      "_model_name": "HTMLModel",
      "_view_count": null,
      "_view_module": "@jupyter-widgets/controls",
      "_view_module_version": "1.5.0",
      "_view_name": "HTMLView",
      "description": "",
      "description_tooltip": null,
      "layout": "IPY_MODEL_2378f6dacc7f4e9c87a8332158c028fd",
      "placeholder": "​",
      "style": "IPY_MODEL_eb6e8d84bc9046e9ac6b47a281ae3583",
      "value": "vocab.json: 100%"
     }
    },
    "8b8b502d489a4b57bb769b13097a1055": {
     "model_module": "@jupyter-widgets/controls",
     "model_module_version": "1.5.0",
     "model_name": "DescriptionStyleModel",
     "state": {
      "_model_module": "@jupyter-widgets/controls",
      "_model_module_version": "1.5.0",
      "_model_name": "DescriptionStyleModel",
      "_view_count": null,
      "_view_module": "@jupyter-widgets/base",
      "_view_module_version": "1.2.0",
      "_view_name": "StyleView",
      "description_width": ""
     }
    },
    "8d911457d9b9495592458fe3972f971c": {
     "model_module": "@jupyter-widgets/controls",
     "model_module_version": "1.5.0",
     "model_name": "HBoxModel",
     "state": {
      "_dom_classes": [],
      "_model_module": "@jupyter-widgets/controls",
      "_model_module_version": "1.5.0",
      "_model_name": "HBoxModel",
      "_view_count": null,
      "_view_module": "@jupyter-widgets/controls",
      "_view_module_version": "1.5.0",
      "_view_name": "HBoxView",
      "box_style": "",
      "children": [
       "IPY_MODEL_63476e74d8b640f68752269072a686f9",
       "IPY_MODEL_b2e1b92ed15b4ef88af81c0f4cff7a24",
       "IPY_MODEL_ae879949818849ddbd472e0fc86b7339"
      ],
      "layout": "IPY_MODEL_d0e297062af244f9a02828b8598472ca"
     }
    },
    "8eb550b464014809a5f7b0f8c3293b6d": {
     "model_module": "@jupyter-widgets/controls",
     "model_module_version": "1.5.0",
     "model_name": "HTMLModel",
     "state": {
      "_dom_classes": [],
      "_model_module": "@jupyter-widgets/controls",
      "_model_module_version": "1.5.0",
      "_model_name": "HTMLModel",
      "_view_count": null,
      "_view_module": "@jupyter-widgets/controls",
      "_view_module_version": "1.5.0",
      "_view_name": "HTMLView",
      "description": "",
      "description_tooltip": null,
      "layout": "IPY_MODEL_91606b400e0849378bd3da7742efa020",
      "placeholder": "​",
      "style": "IPY_MODEL_48f9e8245aae4878bd661c85f2e90d69",
      "value": " 1.04M/1.04M [00:00&lt;00:00, 6.74MB/s]"
     }
    },
    "91606b400e0849378bd3da7742efa020": {
     "model_module": "@jupyter-widgets/base",
     "model_module_version": "1.2.0",
     "model_name": "LayoutModel",
     "state": {
      "_model_module": "@jupyter-widgets/base",
      "_model_module_version": "1.2.0",
      "_model_name": "LayoutModel",
      "_view_count": null,
      "_view_module": "@jupyter-widgets/base",
      "_view_module_version": "1.2.0",
      "_view_name": "LayoutView",
      "align_content": null,
      "align_items": null,
      "align_self": null,
      "border": null,
      "bottom": null,
      "display": null,
      "flex": null,
      "flex_flow": null,
      "grid_area": null,
      "grid_auto_columns": null,
      "grid_auto_flow": null,
      "grid_auto_rows": null,
      "grid_column": null,
      "grid_gap": null,
      "grid_row": null,
      "grid_template_areas": null,
      "grid_template_columns": null,
      "grid_template_rows": null,
      "height": null,
      "justify_content": null,
      "justify_items": null,
      "left": null,
      "margin": null,
      "max_height": null,
      "max_width": null,
      "min_height": null,
      "min_width": null,
      "object_fit": null,
      "object_position": null,
      "order": null,
      "overflow": null,
      "overflow_x": null,
      "overflow_y": null,
      "padding": null,
      "right": null,
      "top": null,
      "visibility": null,
      "width": null
     }
    },
    "917a34a4759d428e89b0cde645e3a403": {
     "model_module": "@jupyter-widgets/controls",
     "model_module_version": "1.5.0",
     "model_name": "FloatProgressModel",
     "state": {
      "_dom_classes": [],
      "_model_module": "@jupyter-widgets/controls",
      "_model_module_version": "1.5.0",
      "_model_name": "FloatProgressModel",
      "_view_count": null,
      "_view_module": "@jupyter-widgets/controls",
      "_view_module_version": "1.5.0",
      "_view_name": "ProgressView",
      "bar_style": "success",
      "description": "",
      "description_tooltip": null,
      "layout": "IPY_MODEL_61ec82f504b348589032bc889b243da4",
      "max": 665,
      "min": 0,
      "orientation": "horizontal",
      "style": "IPY_MODEL_1b42ae1d1c7a4e2a8a657f2ccb7b8cc9",
      "value": 665
     }
    },
    "9231cf07efbc4b62bcc9c23c68451efe": {
     "model_module": "@jupyter-widgets/controls",
     "model_module_version": "1.5.0",
     "model_name": "HBoxModel",
     "state": {
      "_dom_classes": [],
      "_model_module": "@jupyter-widgets/controls",
      "_model_module_version": "1.5.0",
      "_model_name": "HBoxModel",
      "_view_count": null,
      "_view_module": "@jupyter-widgets/controls",
      "_view_module_version": "1.5.0",
      "_view_name": "HBoxView",
      "box_style": "",
      "children": [
       "IPY_MODEL_14d15851a49a46a38b8423f9f7cc783a",
       "IPY_MODEL_48fa4852e8534118833c4a5d2911c0f9",
       "IPY_MODEL_b844044141404903aff702c1b684cf04"
      ],
      "layout": "IPY_MODEL_0e2a0586624240d8a3d7bb36fabeefe1"
     }
    },
    "9e2143ee42c44d5a8b12aa74557bc97b": {
     "model_module": "@jupyter-widgets/base",
     "model_module_version": "1.2.0",
     "model_name": "LayoutModel",
     "state": {
      "_model_module": "@jupyter-widgets/base",
      "_model_module_version": "1.2.0",
      "_model_name": "LayoutModel",
      "_view_count": null,
      "_view_module": "@jupyter-widgets/base",
      "_view_module_version": "1.2.0",
      "_view_name": "LayoutView",
      "align_content": null,
      "align_items": null,
      "align_self": null,
      "border": null,
      "bottom": null,
      "display": null,
      "flex": null,
      "flex_flow": null,
      "grid_area": null,
      "grid_auto_columns": null,
      "grid_auto_flow": null,
      "grid_auto_rows": null,
      "grid_column": null,
      "grid_gap": null,
      "grid_row": null,
      "grid_template_areas": null,
      "grid_template_columns": null,
      "grid_template_rows": null,
      "height": null,
      "justify_content": null,
      "justify_items": null,
      "left": null,
      "margin": null,
      "max_height": null,
      "max_width": null,
      "min_height": null,
      "min_width": null,
      "object_fit": null,
      "object_position": null,
      "order": null,
      "overflow": null,
      "overflow_x": null,
      "overflow_y": null,
      "padding": null,
      "right": null,
      "top": null,
      "visibility": null,
      "width": null
     }
    },
    "9f5c2e424bb9422f90eb35cf1529865b": {
     "model_module": "@jupyter-widgets/controls",
     "model_module_version": "1.5.0",
     "model_name": "ProgressStyleModel",
     "state": {
      "_model_module": "@jupyter-widgets/controls",
      "_model_module_version": "1.5.0",
      "_model_name": "ProgressStyleModel",
      "_view_count": null,
      "_view_module": "@jupyter-widgets/base",
      "_view_module_version": "1.2.0",
      "_view_name": "StyleView",
      "bar_color": null,
      "description_width": ""
     }
    },
    "a5b07a38e84347718b53fc6250ad4a2f": {
     "model_module": "@jupyter-widgets/base",
     "model_module_version": "1.2.0",
     "model_name": "LayoutModel",
     "state": {
      "_model_module": "@jupyter-widgets/base",
      "_model_module_version": "1.2.0",
      "_model_name": "LayoutModel",
      "_view_count": null,
      "_view_module": "@jupyter-widgets/base",
      "_view_module_version": "1.2.0",
      "_view_name": "LayoutView",
      "align_content": null,
      "align_items": null,
      "align_self": null,
      "border": null,
      "bottom": null,
      "display": null,
      "flex": null,
      "flex_flow": null,
      "grid_area": null,
      "grid_auto_columns": null,
      "grid_auto_flow": null,
      "grid_auto_rows": null,
      "grid_column": null,
      "grid_gap": null,
      "grid_row": null,
      "grid_template_areas": null,
      "grid_template_columns": null,
      "grid_template_rows": null,
      "height": null,
      "justify_content": null,
      "justify_items": null,
      "left": null,
      "margin": null,
      "max_height": null,
      "max_width": null,
      "min_height": null,
      "min_width": null,
      "object_fit": null,
      "object_position": null,
      "order": null,
      "overflow": null,
      "overflow_x": null,
      "overflow_y": null,
      "padding": null,
      "right": null,
      "top": null,
      "visibility": null,
      "width": null
     }
    },
    "a8d5f2eb25ad4875804ea1294c46ceff": {
     "model_module": "@jupyter-widgets/controls",
     "model_module_version": "1.5.0",
     "model_name": "FloatProgressModel",
     "state": {
      "_dom_classes": [],
      "_model_module": "@jupyter-widgets/controls",
      "_model_module_version": "1.5.0",
      "_model_name": "FloatProgressModel",
      "_view_count": null,
      "_view_module": "@jupyter-widgets/controls",
      "_view_module_version": "1.5.0",
      "_view_name": "ProgressView",
      "bar_style": "success",
      "description": "",
      "description_tooltip": null,
      "layout": "IPY_MODEL_df140db99ed04fa69ab1101fec108a87",
      "max": 1042301,
      "min": 0,
      "orientation": "horizontal",
      "style": "IPY_MODEL_559f560bf8b94459b8b414ad0dea740f",
      "value": 1042301
     }
    },
    "ab170c0a59c54049ad7e167a1e6e4dbc": {
     "model_module": "@jupyter-widgets/base",
     "model_module_version": "1.2.0",
     "model_name": "LayoutModel",
     "state": {
      "_model_module": "@jupyter-widgets/base",
      "_model_module_version": "1.2.0",
      "_model_name": "LayoutModel",
      "_view_count": null,
      "_view_module": "@jupyter-widgets/base",
      "_view_module_version": "1.2.0",
      "_view_name": "LayoutView",
      "align_content": null,
      "align_items": null,
      "align_self": null,
      "border": null,
      "bottom": null,
      "display": null,
      "flex": null,
      "flex_flow": null,
      "grid_area": null,
      "grid_auto_columns": null,
      "grid_auto_flow": null,
      "grid_auto_rows": null,
      "grid_column": null,
      "grid_gap": null,
      "grid_row": null,
      "grid_template_areas": null,
      "grid_template_columns": null,
      "grid_template_rows": null,
      "height": null,
      "justify_content": null,
      "justify_items": null,
      "left": null,
      "margin": null,
      "max_height": null,
      "max_width": null,
      "min_height": null,
      "min_width": null,
      "object_fit": null,
      "object_position": null,
      "order": null,
      "overflow": null,
      "overflow_x": null,
      "overflow_y": null,
      "padding": null,
      "right": null,
      "top": null,
      "visibility": null,
      "width": null
     }
    },
    "ab8607cedd0242128984b2c830ba2650": {
     "model_module": "@jupyter-widgets/controls",
     "model_module_version": "1.5.0",
     "model_name": "DescriptionStyleModel",
     "state": {
      "_model_module": "@jupyter-widgets/controls",
      "_model_module_version": "1.5.0",
      "_model_name": "DescriptionStyleModel",
      "_view_count": null,
      "_view_module": "@jupyter-widgets/base",
      "_view_module_version": "1.2.0",
      "_view_name": "StyleView",
      "description_width": ""
     }
    },
    "ae879949818849ddbd472e0fc86b7339": {
     "model_module": "@jupyter-widgets/controls",
     "model_module_version": "1.5.0",
     "model_name": "HTMLModel",
     "state": {
      "_dom_classes": [],
      "_model_module": "@jupyter-widgets/controls",
      "_model_module_version": "1.5.0",
      "_model_name": "HTMLModel",
      "_view_count": null,
      "_view_module": "@jupyter-widgets/controls",
      "_view_module_version": "1.5.0",
      "_view_name": "HTMLView",
      "description": "",
      "description_tooltip": null,
      "layout": "IPY_MODEL_d42e02790d1a455287ad9077bae24034",
      "placeholder": "​",
      "style": "IPY_MODEL_47c2a4c37287478e81a29a8859824836",
      "value": " 1.04M/1.04M [00:00&lt;00:00, 4.49MB/s]"
     }
    },
    "ae9c313c155c4fcd94c464e815a6d6f3": {
     "model_module": "@jupyter-widgets/base",
     "model_module_version": "1.2.0",
     "model_name": "LayoutModel",
     "state": {
      "_model_module": "@jupyter-widgets/base",
      "_model_module_version": "1.2.0",
      "_model_name": "LayoutModel",
      "_view_count": null,
      "_view_module": "@jupyter-widgets/base",
      "_view_module_version": "1.2.0",
      "_view_name": "LayoutView",
      "align_content": null,
      "align_items": null,
      "align_self": null,
      "border": null,
      "bottom": null,
      "display": null,
      "flex": null,
      "flex_flow": null,
      "grid_area": null,
      "grid_auto_columns": null,
      "grid_auto_flow": null,
      "grid_auto_rows": null,
      "grid_column": null,
      "grid_gap": null,
      "grid_row": null,
      "grid_template_areas": null,
      "grid_template_columns": null,
      "grid_template_rows": null,
      "height": null,
      "justify_content": null,
      "justify_items": null,
      "left": null,
      "margin": null,
      "max_height": null,
      "max_width": null,
      "min_height": null,
      "min_width": null,
      "object_fit": null,
      "object_position": null,
      "order": null,
      "overflow": null,
      "overflow_x": null,
      "overflow_y": null,
      "padding": null,
      "right": null,
      "top": null,
      "visibility": null,
      "width": null
     }
    },
    "afe360c07e1b4eff97b997638bc11c56": {
     "model_module": "@jupyter-widgets/base",
     "model_module_version": "1.2.0",
     "model_name": "LayoutModel",
     "state": {
      "_model_module": "@jupyter-widgets/base",
      "_model_module_version": "1.2.0",
      "_model_name": "LayoutModel",
      "_view_count": null,
      "_view_module": "@jupyter-widgets/base",
      "_view_module_version": "1.2.0",
      "_view_name": "LayoutView",
      "align_content": null,
      "align_items": null,
      "align_self": null,
      "border": null,
      "bottom": null,
      "display": null,
      "flex": null,
      "flex_flow": null,
      "grid_area": null,
      "grid_auto_columns": null,
      "grid_auto_flow": null,
      "grid_auto_rows": null,
      "grid_column": null,
      "grid_gap": null,
      "grid_row": null,
      "grid_template_areas": null,
      "grid_template_columns": null,
      "grid_template_rows": null,
      "height": null,
      "justify_content": null,
      "justify_items": null,
      "left": null,
      "margin": null,
      "max_height": null,
      "max_width": null,
      "min_height": null,
      "min_width": null,
      "object_fit": null,
      "object_position": null,
      "order": null,
      "overflow": null,
      "overflow_x": null,
      "overflow_y": null,
      "padding": null,
      "right": null,
      "top": null,
      "visibility": null,
      "width": null
     }
    },
    "b09af5a47ee041609b4b4bc5a4a12514": {
     "model_module": "@jupyter-widgets/base",
     "model_module_version": "1.2.0",
     "model_name": "LayoutModel",
     "state": {
      "_model_module": "@jupyter-widgets/base",
      "_model_module_version": "1.2.0",
      "_model_name": "LayoutModel",
      "_view_count": null,
      "_view_module": "@jupyter-widgets/base",
      "_view_module_version": "1.2.0",
      "_view_name": "LayoutView",
      "align_content": null,
      "align_items": null,
      "align_self": null,
      "border": null,
      "bottom": null,
      "display": null,
      "flex": null,
      "flex_flow": null,
      "grid_area": null,
      "grid_auto_columns": null,
      "grid_auto_flow": null,
      "grid_auto_rows": null,
      "grid_column": null,
      "grid_gap": null,
      "grid_row": null,
      "grid_template_areas": null,
      "grid_template_columns": null,
      "grid_template_rows": null,
      "height": null,
      "justify_content": null,
      "justify_items": null,
      "left": null,
      "margin": null,
      "max_height": null,
      "max_width": null,
      "min_height": null,
      "min_width": null,
      "object_fit": null,
      "object_position": null,
      "order": null,
      "overflow": null,
      "overflow_x": null,
      "overflow_y": null,
      "padding": null,
      "right": null,
      "top": null,
      "visibility": null,
      "width": null
     }
    },
    "b2e1b92ed15b4ef88af81c0f4cff7a24": {
     "model_module": "@jupyter-widgets/controls",
     "model_module_version": "1.5.0",
     "model_name": "FloatProgressModel",
     "state": {
      "_dom_classes": [],
      "_model_module": "@jupyter-widgets/controls",
      "_model_module_version": "1.5.0",
      "_model_name": "FloatProgressModel",
      "_view_count": null,
      "_view_module": "@jupyter-widgets/controls",
      "_view_module_version": "1.5.0",
      "_view_name": "ProgressView",
      "bar_style": "success",
      "description": "",
      "description_tooltip": null,
      "layout": "IPY_MODEL_25847d0829e943d99172c2d35dfd0571",
      "max": 1042301,
      "min": 0,
      "orientation": "horizontal",
      "style": "IPY_MODEL_bcfa7961ebec4136ba7883459c0aa614",
      "value": 1042301
     }
    },
    "b2f577cb00264439b8de055e7b13071b": {
     "model_module": "@jupyter-widgets/controls",
     "model_module_version": "1.5.0",
     "model_name": "DescriptionStyleModel",
     "state": {
      "_model_module": "@jupyter-widgets/controls",
      "_model_module_version": "1.5.0",
      "_model_name": "DescriptionStyleModel",
      "_view_count": null,
      "_view_module": "@jupyter-widgets/base",
      "_view_module_version": "1.2.0",
      "_view_name": "StyleView",
      "description_width": ""
     }
    },
    "b3209aeca11b4771a8f2d4c7bc83b133": {
     "model_module": "@jupyter-widgets/controls",
     "model_module_version": "1.5.0",
     "model_name": "HTMLModel",
     "state": {
      "_dom_classes": [],
      "_model_module": "@jupyter-widgets/controls",
      "_model_module_version": "1.5.0",
      "_model_name": "HTMLModel",
      "_view_count": null,
      "_view_module": "@jupyter-widgets/controls",
      "_view_module_version": "1.5.0",
      "_view_name": "HTMLView",
      "description": "",
      "description_tooltip": null,
      "layout": "IPY_MODEL_afe360c07e1b4eff97b997638bc11c56",
      "placeholder": "​",
      "style": "IPY_MODEL_62fbc6e89ec349a58f00e8fe22cdbde4",
      "value": " 1.36M/1.36M [00:00&lt;00:00, 13.5MB/s]"
     }
    },
    "b4fadcef45a1453f86ad2612e0682e91": {
     "model_module": "@jupyter-widgets/controls",
     "model_module_version": "1.5.0",
     "model_name": "DescriptionStyleModel",
     "state": {
      "_model_module": "@jupyter-widgets/controls",
      "_model_module_version": "1.5.0",
      "_model_name": "DescriptionStyleModel",
      "_view_count": null,
      "_view_module": "@jupyter-widgets/base",
      "_view_module_version": "1.2.0",
      "_view_name": "StyleView",
      "description_width": ""
     }
    },
    "b687f350baec4e1ea416632f70da8b26": {
     "model_module": "@jupyter-widgets/base",
     "model_module_version": "1.2.0",
     "model_name": "LayoutModel",
     "state": {
      "_model_module": "@jupyter-widgets/base",
      "_model_module_version": "1.2.0",
      "_model_name": "LayoutModel",
      "_view_count": null,
      "_view_module": "@jupyter-widgets/base",
      "_view_module_version": "1.2.0",
      "_view_name": "LayoutView",
      "align_content": null,
      "align_items": null,
      "align_self": null,
      "border": null,
      "bottom": null,
      "display": null,
      "flex": null,
      "flex_flow": null,
      "grid_area": null,
      "grid_auto_columns": null,
      "grid_auto_flow": null,
      "grid_auto_rows": null,
      "grid_column": null,
      "grid_gap": null,
      "grid_row": null,
      "grid_template_areas": null,
      "grid_template_columns": null,
      "grid_template_rows": null,
      "height": null,
      "justify_content": null,
      "justify_items": null,
      "left": null,
      "margin": null,
      "max_height": null,
      "max_width": null,
      "min_height": null,
      "min_width": null,
      "object_fit": null,
      "object_position": null,
      "order": null,
      "overflow": null,
      "overflow_x": null,
      "overflow_y": null,
      "padding": null,
      "right": null,
      "top": null,
      "visibility": null,
      "width": null
     }
    },
    "b844044141404903aff702c1b684cf04": {
     "model_module": "@jupyter-widgets/controls",
     "model_module_version": "1.5.0",
     "model_name": "HTMLModel",
     "state": {
      "_dom_classes": [],
      "_model_module": "@jupyter-widgets/controls",
      "_model_module_version": "1.5.0",
      "_model_name": "HTMLModel",
      "_view_count": null,
      "_view_module": "@jupyter-widgets/controls",
      "_view_module_version": "1.5.0",
      "_view_name": "HTMLView",
      "description": "",
      "description_tooltip": null,
      "layout": "IPY_MODEL_e1d0be61ca9840d4ba44e4bf667478d3",
      "placeholder": "​",
      "style": "IPY_MODEL_2eecd8396a034c62b956e6aca9fd6e55",
      "value": " 26.0/26.0 [00:00&lt;00:00, 533B/s]"
     }
    },
    "b91b019f7ed14156918f4859c7217503": {
     "model_module": "@jupyter-widgets/controls",
     "model_module_version": "1.5.0",
     "model_name": "DescriptionStyleModel",
     "state": {
      "_model_module": "@jupyter-widgets/controls",
      "_model_module_version": "1.5.0",
      "_model_name": "DescriptionStyleModel",
      "_view_count": null,
      "_view_module": "@jupyter-widgets/base",
      "_view_module_version": "1.2.0",
      "_view_name": "StyleView",
      "description_width": ""
     }
    },
    "bb09e8a6e28a4a2a9512b50868af7eef": {
     "model_module": "@jupyter-widgets/controls",
     "model_module_version": "1.5.0",
     "model_name": "DescriptionStyleModel",
     "state": {
      "_model_module": "@jupyter-widgets/controls",
      "_model_module_version": "1.5.0",
      "_model_name": "DescriptionStyleModel",
      "_view_count": null,
      "_view_module": "@jupyter-widgets/base",
      "_view_module_version": "1.2.0",
      "_view_name": "StyleView",
      "description_width": ""
     }
    },
    "bbe5b7d37e4e43d8874db79ff2007352": {
     "model_module": "@jupyter-widgets/base",
     "model_module_version": "1.2.0",
     "model_name": "LayoutModel",
     "state": {
      "_model_module": "@jupyter-widgets/base",
      "_model_module_version": "1.2.0",
      "_model_name": "LayoutModel",
      "_view_count": null,
      "_view_module": "@jupyter-widgets/base",
      "_view_module_version": "1.2.0",
      "_view_name": "LayoutView",
      "align_content": null,
      "align_items": null,
      "align_self": null,
      "border": null,
      "bottom": null,
      "display": null,
      "flex": null,
      "flex_flow": null,
      "grid_area": null,
      "grid_auto_columns": null,
      "grid_auto_flow": null,
      "grid_auto_rows": null,
      "grid_column": null,
      "grid_gap": null,
      "grid_row": null,
      "grid_template_areas": null,
      "grid_template_columns": null,
      "grid_template_rows": null,
      "height": null,
      "justify_content": null,
      "justify_items": null,
      "left": null,
      "margin": null,
      "max_height": null,
      "max_width": null,
      "min_height": null,
      "min_width": null,
      "object_fit": null,
      "object_position": null,
      "order": null,
      "overflow": null,
      "overflow_x": null,
      "overflow_y": null,
      "padding": null,
      "right": null,
      "top": null,
      "visibility": null,
      "width": null
     }
    },
    "bcfa7961ebec4136ba7883459c0aa614": {
     "model_module": "@jupyter-widgets/controls",
     "model_module_version": "1.5.0",
     "model_name": "ProgressStyleModel",
     "state": {
      "_model_module": "@jupyter-widgets/controls",
      "_model_module_version": "1.5.0",
      "_model_name": "ProgressStyleModel",
      "_view_count": null,
      "_view_module": "@jupyter-widgets/base",
      "_view_module_version": "1.2.0",
      "_view_name": "StyleView",
      "bar_color": null,
      "description_width": ""
     }
    },
    "bd1413c016134ff7a2c4764c72345a82": {
     "model_module": "@jupyter-widgets/controls",
     "model_module_version": "1.5.0",
     "model_name": "HBoxModel",
     "state": {
      "_dom_classes": [],
      "_model_module": "@jupyter-widgets/controls",
      "_model_module_version": "1.5.0",
      "_model_name": "HBoxModel",
      "_view_count": null,
      "_view_module": "@jupyter-widgets/controls",
      "_view_module_version": "1.5.0",
      "_view_name": "HBoxView",
      "box_style": "",
      "children": [
       "IPY_MODEL_1726d4b70ff446cfa5ea11334cf97aae",
       "IPY_MODEL_f016c25224e74256abd67b35e51226a5",
       "IPY_MODEL_5e77f22c00af4e368a3f1f2b850ce098"
      ],
      "layout": "IPY_MODEL_3e17f4071c364313b1706c770d245f03"
     }
    },
    "bed5f3c6a81c441a9834f38b281c8aa5": {
     "model_module": "@jupyter-widgets/controls",
     "model_module_version": "1.5.0",
     "model_name": "ProgressStyleModel",
     "state": {
      "_model_module": "@jupyter-widgets/controls",
      "_model_module_version": "1.5.0",
      "_model_name": "ProgressStyleModel",
      "_view_count": null,
      "_view_module": "@jupyter-widgets/base",
      "_view_module_version": "1.2.0",
      "_view_name": "StyleView",
      "bar_color": null,
      "description_width": ""
     }
    },
    "c14ef40832d5448bb42367ff383f3144": {
     "model_module": "@jupyter-widgets/controls",
     "model_module_version": "1.5.0",
     "model_name": "ProgressStyleModel",
     "state": {
      "_model_module": "@jupyter-widgets/controls",
      "_model_module_version": "1.5.0",
      "_model_name": "ProgressStyleModel",
      "_view_count": null,
      "_view_module": "@jupyter-widgets/base",
      "_view_module_version": "1.2.0",
      "_view_name": "StyleView",
      "bar_color": null,
      "description_width": ""
     }
    },
    "c8188572ec7448188398e8d61325cb01": {
     "model_module": "@jupyter-widgets/controls",
     "model_module_version": "1.5.0",
     "model_name": "DescriptionStyleModel",
     "state": {
      "_model_module": "@jupyter-widgets/controls",
      "_model_module_version": "1.5.0",
      "_model_name": "DescriptionStyleModel",
      "_view_count": null,
      "_view_module": "@jupyter-widgets/base",
      "_view_module_version": "1.2.0",
      "_view_name": "StyleView",
      "description_width": ""
     }
    },
    "c90c9924dddd41ca9f6afb95f568debb": {
     "model_module": "@jupyter-widgets/controls",
     "model_module_version": "1.5.0",
     "model_name": "HBoxModel",
     "state": {
      "_dom_classes": [],
      "_model_module": "@jupyter-widgets/controls",
      "_model_module_version": "1.5.0",
      "_model_name": "HBoxModel",
      "_view_count": null,
      "_view_module": "@jupyter-widgets/controls",
      "_view_module_version": "1.5.0",
      "_view_name": "HBoxView",
      "box_style": "",
      "children": [
       "IPY_MODEL_6b5e0379b3554e1ebb04829a1382ede7",
       "IPY_MODEL_d6df03e691f74934be425527bc13f663",
       "IPY_MODEL_dcf0eecca2954aa0b52811fd3a591f91"
      ],
      "layout": "IPY_MODEL_bbe5b7d37e4e43d8874db79ff2007352"
     }
    },
    "cc448c7f651f47ff96798313cacc66f5": {
     "model_module": "@jupyter-widgets/controls",
     "model_module_version": "1.5.0",
     "model_name": "DescriptionStyleModel",
     "state": {
      "_model_module": "@jupyter-widgets/controls",
      "_model_module_version": "1.5.0",
      "_model_name": "DescriptionStyleModel",
      "_view_count": null,
      "_view_module": "@jupyter-widgets/base",
      "_view_module_version": "1.2.0",
      "_view_name": "StyleView",
      "description_width": ""
     }
    },
    "ce0b7463f6b24752949750734638e3ac": {
     "model_module": "@jupyter-widgets/base",
     "model_module_version": "1.2.0",
     "model_name": "LayoutModel",
     "state": {
      "_model_module": "@jupyter-widgets/base",
      "_model_module_version": "1.2.0",
      "_model_name": "LayoutModel",
      "_view_count": null,
      "_view_module": "@jupyter-widgets/base",
      "_view_module_version": "1.2.0",
      "_view_name": "LayoutView",
      "align_content": null,
      "align_items": null,
      "align_self": null,
      "border": null,
      "bottom": null,
      "display": null,
      "flex": null,
      "flex_flow": null,
      "grid_area": null,
      "grid_auto_columns": null,
      "grid_auto_flow": null,
      "grid_auto_rows": null,
      "grid_column": null,
      "grid_gap": null,
      "grid_row": null,
      "grid_template_areas": null,
      "grid_template_columns": null,
      "grid_template_rows": null,
      "height": null,
      "justify_content": null,
      "justify_items": null,
      "left": null,
      "margin": null,
      "max_height": null,
      "max_width": null,
      "min_height": null,
      "min_width": null,
      "object_fit": null,
      "object_position": null,
      "order": null,
      "overflow": null,
      "overflow_x": null,
      "overflow_y": null,
      "padding": null,
      "right": null,
      "top": null,
      "visibility": null,
      "width": null
     }
    },
    "d0e297062af244f9a02828b8598472ca": {
     "model_module": "@jupyter-widgets/base",
     "model_module_version": "1.2.0",
     "model_name": "LayoutModel",
     "state": {
      "_model_module": "@jupyter-widgets/base",
      "_model_module_version": "1.2.0",
      "_model_name": "LayoutModel",
      "_view_count": null,
      "_view_module": "@jupyter-widgets/base",
      "_view_module_version": "1.2.0",
      "_view_name": "LayoutView",
      "align_content": null,
      "align_items": null,
      "align_self": null,
      "border": null,
      "bottom": null,
      "display": null,
      "flex": null,
      "flex_flow": null,
      "grid_area": null,
      "grid_auto_columns": null,
      "grid_auto_flow": null,
      "grid_auto_rows": null,
      "grid_column": null,
      "grid_gap": null,
      "grid_row": null,
      "grid_template_areas": null,
      "grid_template_columns": null,
      "grid_template_rows": null,
      "height": null,
      "justify_content": null,
      "justify_items": null,
      "left": null,
      "margin": null,
      "max_height": null,
      "max_width": null,
      "min_height": null,
      "min_width": null,
      "object_fit": null,
      "object_position": null,
      "order": null,
      "overflow": null,
      "overflow_x": null,
      "overflow_y": null,
      "padding": null,
      "right": null,
      "top": null,
      "visibility": null,
      "width": null
     }
    },
    "d42e02790d1a455287ad9077bae24034": {
     "model_module": "@jupyter-widgets/base",
     "model_module_version": "1.2.0",
     "model_name": "LayoutModel",
     "state": {
      "_model_module": "@jupyter-widgets/base",
      "_model_module_version": "1.2.0",
      "_model_name": "LayoutModel",
      "_view_count": null,
      "_view_module": "@jupyter-widgets/base",
      "_view_module_version": "1.2.0",
      "_view_name": "LayoutView",
      "align_content": null,
      "align_items": null,
      "align_self": null,
      "border": null,
      "bottom": null,
      "display": null,
      "flex": null,
      "flex_flow": null,
      "grid_area": null,
      "grid_auto_columns": null,
      "grid_auto_flow": null,
      "grid_auto_rows": null,
      "grid_column": null,
      "grid_gap": null,
      "grid_row": null,
      "grid_template_areas": null,
      "grid_template_columns": null,
      "grid_template_rows": null,
      "height": null,
      "justify_content": null,
      "justify_items": null,
      "left": null,
      "margin": null,
      "max_height": null,
      "max_width": null,
      "min_height": null,
      "min_width": null,
      "object_fit": null,
      "object_position": null,
      "order": null,
      "overflow": null,
      "overflow_x": null,
      "overflow_y": null,
      "padding": null,
      "right": null,
      "top": null,
      "visibility": null,
      "width": null
     }
    },
    "d6df03e691f74934be425527bc13f663": {
     "model_module": "@jupyter-widgets/controls",
     "model_module_version": "1.5.0",
     "model_name": "FloatProgressModel",
     "state": {
      "_dom_classes": [],
      "_model_module": "@jupyter-widgets/controls",
      "_model_module_version": "1.5.0",
      "_model_name": "FloatProgressModel",
      "_view_count": null,
      "_view_module": "@jupyter-widgets/controls",
      "_view_module_version": "1.5.0",
      "_view_name": "ProgressView",
      "bar_style": "success",
      "description": "",
      "description_tooltip": null,
      "layout": "IPY_MODEL_43a7d8123641467ab7714f1c06483b27",
      "max": 665,
      "min": 0,
      "orientation": "horizontal",
      "style": "IPY_MODEL_4a22c68a94134c3e961d1d37afa53f8a",
      "value": 665
     }
    },
    "d8a64c3309ad4a12a2ead8293f5fd48c": {
     "model_module": "@jupyter-widgets/controls",
     "model_module_version": "1.5.0",
     "model_name": "FloatProgressModel",
     "state": {
      "_dom_classes": [],
      "_model_module": "@jupyter-widgets/controls",
      "_model_module_version": "1.5.0",
      "_model_name": "FloatProgressModel",
      "_view_count": null,
      "_view_module": "@jupyter-widgets/controls",
      "_view_module_version": "1.5.0",
      "_view_name": "ProgressView",
      "bar_style": "success",
      "description": "",
      "description_tooltip": null,
      "layout": "IPY_MODEL_7b99ffefe2744dd2a74827ba668352ca",
      "max": 456318,
      "min": 0,
      "orientation": "horizontal",
      "style": "IPY_MODEL_c14ef40832d5448bb42367ff383f3144",
      "value": 456318
     }
    },
    "dcf0eecca2954aa0b52811fd3a591f91": {
     "model_module": "@jupyter-widgets/controls",
     "model_module_version": "1.5.0",
     "model_name": "HTMLModel",
     "state": {
      "_dom_classes": [],
      "_model_module": "@jupyter-widgets/controls",
      "_model_module_version": "1.5.0",
      "_model_name": "HTMLModel",
      "_view_count": null,
      "_view_module": "@jupyter-widgets/controls",
      "_view_module_version": "1.5.0",
      "_view_name": "HTMLView",
      "description": "",
      "description_tooltip": null,
      "layout": "IPY_MODEL_38b3d0d7494e42aea89226f5d9b51bb6",
      "placeholder": "​",
      "style": "IPY_MODEL_4ce57d1c262841819202c4ec99881170",
      "value": " 665/665 [00:00&lt;00:00, 37.6kB/s]"
     }
    },
    "df140db99ed04fa69ab1101fec108a87": {
     "model_module": "@jupyter-widgets/base",
     "model_module_version": "1.2.0",
     "model_name": "LayoutModel",
     "state": {
      "_model_module": "@jupyter-widgets/base",
      "_model_module_version": "1.2.0",
      "_model_name": "LayoutModel",
      "_view_count": null,
      "_view_module": "@jupyter-widgets/base",
      "_view_module_version": "1.2.0",
      "_view_name": "LayoutView",
      "align_content": null,
      "align_items": null,
      "align_self": null,
      "border": null,
      "bottom": null,
      "display": null,
      "flex": null,
      "flex_flow": null,
      "grid_area": null,
      "grid_auto_columns": null,
      "grid_auto_flow": null,
      "grid_auto_rows": null,
      "grid_column": null,
      "grid_gap": null,
      "grid_row": null,
      "grid_template_areas": null,
      "grid_template_columns": null,
      "grid_template_rows": null,
      "height": null,
      "justify_content": null,
      "justify_items": null,
      "left": null,
      "margin": null,
      "max_height": null,
      "max_width": null,
      "min_height": null,
      "min_width": null,
      "object_fit": null,
      "object_position": null,
      "order": null,
      "overflow": null,
      "overflow_x": null,
      "overflow_y": null,
      "padding": null,
      "right": null,
      "top": null,
      "visibility": null,
      "width": null
     }
    },
    "e10686a22abe44cfab2c2b02bce03ca4": {
     "model_module": "@jupyter-widgets/controls",
     "model_module_version": "1.5.0",
     "model_name": "FloatProgressModel",
     "state": {
      "_dom_classes": [],
      "_model_module": "@jupyter-widgets/controls",
      "_model_module_version": "1.5.0",
      "_model_name": "FloatProgressModel",
      "_view_count": null,
      "_view_module": "@jupyter-widgets/controls",
      "_view_module_version": "1.5.0",
      "_view_name": "ProgressView",
      "bar_style": "success",
      "description": "",
      "description_tooltip": null,
      "layout": "IPY_MODEL_a5b07a38e84347718b53fc6250ad4a2f",
      "max": 456318,
      "min": 0,
      "orientation": "horizontal",
      "style": "IPY_MODEL_478ee77bf60e4fa8bb02b03441deb450",
      "value": 456318
     }
    },
    "e1a560ef0f1645d1b8bd40f830bb7d97": {
     "model_module": "@jupyter-widgets/controls",
     "model_module_version": "1.5.0",
     "model_name": "HTMLModel",
     "state": {
      "_dom_classes": [],
      "_model_module": "@jupyter-widgets/controls",
      "_model_module_version": "1.5.0",
      "_model_name": "HTMLModel",
      "_view_count": null,
      "_view_module": "@jupyter-widgets/controls",
      "_view_module_version": "1.5.0",
      "_view_name": "HTMLView",
      "description": "",
      "description_tooltip": null,
      "layout": "IPY_MODEL_1412a342fa36475e8dbba1a7f85f4541",
      "placeholder": "​",
      "style": "IPY_MODEL_b2f577cb00264439b8de055e7b13071b",
      "value": "config.json: 100%"
     }
    },
    "e1d0be61ca9840d4ba44e4bf667478d3": {
     "model_module": "@jupyter-widgets/base",
     "model_module_version": "1.2.0",
     "model_name": "LayoutModel",
     "state": {
      "_model_module": "@jupyter-widgets/base",
      "_model_module_version": "1.2.0",
      "_model_name": "LayoutModel",
      "_view_count": null,
      "_view_module": "@jupyter-widgets/base",
      "_view_module_version": "1.2.0",
      "_view_name": "LayoutView",
      "align_content": null,
      "align_items": null,
      "align_self": null,
      "border": null,
      "bottom": null,
      "display": null,
      "flex": null,
      "flex_flow": null,
      "grid_area": null,
      "grid_auto_columns": null,
      "grid_auto_flow": null,
      "grid_auto_rows": null,
      "grid_column": null,
      "grid_gap": null,
      "grid_row": null,
      "grid_template_areas": null,
      "grid_template_columns": null,
      "grid_template_rows": null,
      "height": null,
      "justify_content": null,
      "justify_items": null,
      "left": null,
      "margin": null,
      "max_height": null,
      "max_width": null,
      "min_height": null,
      "min_width": null,
      "object_fit": null,
      "object_position": null,
      "order": null,
      "overflow": null,
      "overflow_x": null,
      "overflow_y": null,
      "padding": null,
      "right": null,
      "top": null,
      "visibility": null,
      "width": null
     }
    },
    "e52fb06b412f400b98d87c982f323ce5": {
     "model_module": "@jupyter-widgets/controls",
     "model_module_version": "1.5.0",
     "model_name": "ProgressStyleModel",
     "state": {
      "_model_module": "@jupyter-widgets/controls",
      "_model_module_version": "1.5.0",
      "_model_name": "ProgressStyleModel",
      "_view_count": null,
      "_view_module": "@jupyter-widgets/base",
      "_view_module_version": "1.2.0",
      "_view_name": "StyleView",
      "bar_color": null,
      "description_width": ""
     }
    },
    "e538cf111f624dfcba5341e2d569fbd9": {
     "model_module": "@jupyter-widgets/controls",
     "model_module_version": "1.5.0",
     "model_name": "ProgressStyleModel",
     "state": {
      "_model_module": "@jupyter-widgets/controls",
      "_model_module_version": "1.5.0",
      "_model_name": "ProgressStyleModel",
      "_view_count": null,
      "_view_module": "@jupyter-widgets/base",
      "_view_module_version": "1.2.0",
      "_view_name": "StyleView",
      "bar_color": null,
      "description_width": ""
     }
    },
    "e902dc8858dc4deda38f713c07dd3b05": {
     "model_module": "@jupyter-widgets/base",
     "model_module_version": "1.2.0",
     "model_name": "LayoutModel",
     "state": {
      "_model_module": "@jupyter-widgets/base",
      "_model_module_version": "1.2.0",
      "_model_name": "LayoutModel",
      "_view_count": null,
      "_view_module": "@jupyter-widgets/base",
      "_view_module_version": "1.2.0",
      "_view_name": "LayoutView",
      "align_content": null,
      "align_items": null,
      "align_self": null,
      "border": null,
      "bottom": null,
      "display": null,
      "flex": null,
      "flex_flow": null,
      "grid_area": null,
      "grid_auto_columns": null,
      "grid_auto_flow": null,
      "grid_auto_rows": null,
      "grid_column": null,
      "grid_gap": null,
      "grid_row": null,
      "grid_template_areas": null,
      "grid_template_columns": null,
      "grid_template_rows": null,
      "height": null,
      "justify_content": null,
      "justify_items": null,
      "left": null,
      "margin": null,
      "max_height": null,
      "max_width": null,
      "min_height": null,
      "min_width": null,
      "object_fit": null,
      "object_position": null,
      "order": null,
      "overflow": null,
      "overflow_x": null,
      "overflow_y": null,
      "padding": null,
      "right": null,
      "top": null,
      "visibility": null,
      "width": null
     }
    },
    "eb6e8d84bc9046e9ac6b47a281ae3583": {
     "model_module": "@jupyter-widgets/controls",
     "model_module_version": "1.5.0",
     "model_name": "DescriptionStyleModel",
     "state": {
      "_model_module": "@jupyter-widgets/controls",
      "_model_module_version": "1.5.0",
      "_model_name": "DescriptionStyleModel",
      "_view_count": null,
      "_view_module": "@jupyter-widgets/base",
      "_view_module_version": "1.2.0",
      "_view_name": "StyleView",
      "description_width": ""
     }
    },
    "eb8a660876324ad09bbfceac93a9c8db": {
     "model_module": "@jupyter-widgets/base",
     "model_module_version": "1.2.0",
     "model_name": "LayoutModel",
     "state": {
      "_model_module": "@jupyter-widgets/base",
      "_model_module_version": "1.2.0",
      "_model_name": "LayoutModel",
      "_view_count": null,
      "_view_module": "@jupyter-widgets/base",
      "_view_module_version": "1.2.0",
      "_view_name": "LayoutView",
      "align_content": null,
      "align_items": null,
      "align_self": null,
      "border": null,
      "bottom": null,
      "display": null,
      "flex": null,
      "flex_flow": null,
      "grid_area": null,
      "grid_auto_columns": null,
      "grid_auto_flow": null,
      "grid_auto_rows": null,
      "grid_column": null,
      "grid_gap": null,
      "grid_row": null,
      "grid_template_areas": null,
      "grid_template_columns": null,
      "grid_template_rows": null,
      "height": null,
      "justify_content": null,
      "justify_items": null,
      "left": null,
      "margin": null,
      "max_height": null,
      "max_width": null,
      "min_height": null,
      "min_width": null,
      "object_fit": null,
      "object_position": null,
      "order": null,
      "overflow": null,
      "overflow_x": null,
      "overflow_y": null,
      "padding": null,
      "right": null,
      "top": null,
      "visibility": null,
      "width": null
     }
    },
    "f016c25224e74256abd67b35e51226a5": {
     "model_module": "@jupyter-widgets/controls",
     "model_module_version": "1.5.0",
     "model_name": "FloatProgressModel",
     "state": {
      "_dom_classes": [],
      "_model_module": "@jupyter-widgets/controls",
      "_model_module_version": "1.5.0",
      "_model_name": "FloatProgressModel",
      "_view_count": null,
      "_view_module": "@jupyter-widgets/controls",
      "_view_module_version": "1.5.0",
      "_view_name": "ProgressView",
      "bar_style": "success",
      "description": "",
      "description_tooltip": null,
      "layout": "IPY_MODEL_9e2143ee42c44d5a8b12aa74557bc97b",
      "max": 26,
      "min": 0,
      "orientation": "horizontal",
      "style": "IPY_MODEL_e538cf111f624dfcba5341e2d569fbd9",
      "value": 26
     }
    },
    "f2e1d05c665941dfaa1168ae163edc32": {
     "model_module": "@jupyter-widgets/base",
     "model_module_version": "1.2.0",
     "model_name": "LayoutModel",
     "state": {
      "_model_module": "@jupyter-widgets/base",
      "_model_module_version": "1.2.0",
      "_model_name": "LayoutModel",
      "_view_count": null,
      "_view_module": "@jupyter-widgets/base",
      "_view_module_version": "1.2.0",
      "_view_name": "LayoutView",
      "align_content": null,
      "align_items": null,
      "align_self": null,
      "border": null,
      "bottom": null,
      "display": null,
      "flex": null,
      "flex_flow": null,
      "grid_area": null,
      "grid_auto_columns": null,
      "grid_auto_flow": null,
      "grid_auto_rows": null,
      "grid_column": null,
      "grid_gap": null,
      "grid_row": null,
      "grid_template_areas": null,
      "grid_template_columns": null,
      "grid_template_rows": null,
      "height": null,
      "justify_content": null,
      "justify_items": null,
      "left": null,
      "margin": null,
      "max_height": null,
      "max_width": null,
      "min_height": null,
      "min_width": null,
      "object_fit": null,
      "object_position": null,
      "order": null,
      "overflow": null,
      "overflow_x": null,
      "overflow_y": null,
      "padding": null,
      "right": null,
      "top": null,
      "visibility": null,
      "width": null
     }
    },
    "fdc6c69afc134cd79aef7cfa6ca695c2": {
     "model_module": "@jupyter-widgets/controls",
     "model_module_version": "1.5.0",
     "model_name": "DescriptionStyleModel",
     "state": {
      "_model_module": "@jupyter-widgets/controls",
      "_model_module_version": "1.5.0",
      "_model_name": "DescriptionStyleModel",
      "_view_count": null,
      "_view_module": "@jupyter-widgets/base",
      "_view_module_version": "1.2.0",
      "_view_name": "StyleView",
      "description_width": ""
     }
    },
    "ff0ddcecfa6344ddb8bfd79a6ecae003": {
     "model_module": "@jupyter-widgets/controls",
     "model_module_version": "1.5.0",
     "model_name": "HTMLModel",
     "state": {
      "_dom_classes": [],
      "_model_module": "@jupyter-widgets/controls",
      "_model_module_version": "1.5.0",
      "_model_name": "HTMLModel",
      "_view_count": null,
      "_view_module": "@jupyter-widgets/controls",
      "_view_module_version": "1.5.0",
      "_view_name": "HTMLView",
      "description": "",
      "description_tooltip": null,
      "layout": "IPY_MODEL_b687f350baec4e1ea416632f70da8b26",
      "placeholder": "​",
      "style": "IPY_MODEL_bb09e8a6e28a4a2a9512b50868af7eef",
      "value": " 665/665 [00:00&lt;00:00, 10.3kB/s]"
     }
    }
   }
  }
 },
 "nbformat": 4,
 "nbformat_minor": 1
}
